{
  "cells": [
    {
      "cell_type": "markdown",
      "metadata": {
        "id": "sv9ZZpD6tBjx"
      },
      "source": [
        "**Course organisers**\n",
        "\n",
        "Jan Grohn (jan.grohn@psy.ox.ac.uk), Miriam Klein-Flügge (miriam.klein-flugge@psy.ox.ac.uk)  \n",
        "\n",
        "\n",
        "# Introduction and recap\n",
        "**Aims for today’s session:**\n",
        "- Fit the computational model to some real data\n",
        "- Compare fitted models\n",
        "\n",
        "In this session we will finally analyse some data from real participants. The dataset we have chosen is from a paper by [Blain and Rutledge](https://elifesciences.org/articles/57977) and is available [here](https://archive.softwareheritage.org/browse/revision/b7c4a0cd761dcf249c72caf809dd81af24c4a49b/). You don't have to download the dataset yourself, our code will do that for you. For now, read through the paper to see what design choices Blain and Rutledge made to run the task. How is the task they ran similar or different to what we have been discussing so far? Hint: to answer this question you don't have to read the entire paper from beginning to end, it is sufficient to skim-read the paper to identify the relevant sections in which the authors describe how they ran their task."
      ]
    },
    {
      "cell_type": "markdown",
      "metadata": {
        "id": "vcSBhLtLt2FA"
      },
      "source": [
        "→ Type your answer here"
      ]
    },
    {
      "cell_type": "code",
      "execution_count": null,
      "metadata": {
        "colab": {
          "base_uri": "https://localhost:8080/"
        },
        "id": "Q2T0HJPbB2QK",
        "outputId": "d726c7fd-eeee-4654-edd6-ec369a71354a"
      },
      "outputs": [
        {
          "output_type": "stream",
          "name": "stdout",
          "text": [
            "--2023-10-23 09:34:16--  https://github.com/BastienBlain/MSWB_LearningNotReward/raw/main/PublicCode/Blain_MoodTracksLearning_data.mat\n",
            "Resolving github.com (github.com)... 20.27.177.113\n",
            "Connecting to github.com (github.com)|20.27.177.113|:443... connected.\n",
            "HTTP request sent, awaiting response... 302 Found\n",
            "Location: https://raw.githubusercontent.com/BastienBlain/MSWB_LearningNotReward/main/PublicCode/Blain_MoodTracksLearning_data.mat [following]\n",
            "--2023-10-23 09:34:16--  https://raw.githubusercontent.com/BastienBlain/MSWB_LearningNotReward/main/PublicCode/Blain_MoodTracksLearning_data.mat\n",
            "Resolving raw.githubusercontent.com (raw.githubusercontent.com)... 185.199.108.133, 185.199.109.133, 185.199.110.133, ...\n",
            "Connecting to raw.githubusercontent.com (raw.githubusercontent.com)|185.199.108.133|:443... connected.\n",
            "HTTP request sent, awaiting response... 200 OK\n",
            "Length: 813991 (795K) [application/octet-stream]\n",
            "Saving to: ‘Blain_MoodTracksLearning_data.mat’\n",
            "\n",
            "Blain_MoodTracksLea 100%[===================>] 794.91K  4.58MB/s    in 0.2s    \n",
            "\n",
            "2023-10-23 09:34:17 (4.58 MB/s) - ‘Blain_MoodTracksLearning_data.mat’ saved [813991/813991]\n",
            "\n",
            "Cloning into 'ComputationalModelingBlockPractical'...\n",
            "remote: Enumerating objects: 438, done.\u001b[K\n",
            "remote: Counting objects: 100% (11/11), done.\u001b[K\n",
            "remote: Compressing objects: 100% (10/10), done.\u001b[K\n",
            "remote: Total 438 (delta 1), reused 10 (delta 1), pack-reused 427\u001b[K\n",
            "Receiving objects: 100% (438/438), 94.25 KiB | 679.00 KiB/s, done.\n",
            "Resolving deltas: 100% (214/214), done.\n"
          ]
        }
      ],
      "source": [
        "#@title ## Import libraries\n",
        "\n",
        "# numpy is a libarary used to do all kinds of mathematical operations\n",
        "import numpy as np\n",
        "\n",
        "# pandas allows us to organise data as tables (called \"dataframes\")\n",
        "import pandas as pd\n",
        "\n",
        "# we are using the chi2 distribution for some statistical tests\n",
        "from scipy.stats import chi2\n",
        "\n",
        "# this function allows us to perform one sample t-tests\n",
        "from scipy.stats import ttest_1samp\n",
        "\n",
        "# this allows us to make interactive figures\n",
        "from google.colab import output\n",
        "output.enable_custom_widget_manager()\n",
        "\n",
        "# seed the random number genrator\n",
        "rng = np.random.default_rng(12345)\n",
        "\n",
        "# download the dataset from Blain & Rudledge 2020.\n",
        "!wget \"https://github.com/BastienBlain/MSWB_LearningNotReward/raw/main/PublicCode/Blain_MoodTracksLearning_data.mat\"\n",
        "\n",
        "# load in some custom functions for this block practical\n",
        "!rm -rf ComputationalModelingBlockPractical\n",
        "!git clone https://github.com/jangrohn/ComputationalModelingBlockPractical\n",
        "!cp ComputationalModelingBlockPractical/session3/*py .\n",
        "!rm -rf ComputationalModelingBlockPractical\n",
        "!rm -rf sample_data\n",
        "from plotting import *\n",
        "from fitting import *\n",
        "\n"
      ]
    },
    {
      "cell_type": "markdown",
      "metadata": {
        "id": "d0yNqj1Yt68I"
      },
      "source": [
        "The dataset contains data from 75 participants playing the task. To visualise the data from the first participant (with ID 0), run the next code cell. The way we are plotting participant choices now is slightly different from how we did it throughout the last two sessions: now the position of the choice marker (0 or 1) tells you which option the participant chose, while the colour (green or red) tells you whether they received a reward or not."
      ]
    },
    {
      "cell_type": "code",
      "execution_count": null,
      "metadata": {
        "colab": {
          "base_uri": "https://localhost:8080/",
          "height": 542
        },
        "id": "DXdxSnfb-CWM",
        "outputId": "8a29a774-c8c8-42b3-d18c-5ab8653df14e"
      },
      "outputs": [
        {
          "output_type": "display_data",
          "data": {
            "text/html": [
              "<html>\n",
              "<head><meta charset=\"utf-8\" /></head>\n",
              "<body>\n",
              "    <div>            <script src=\"https://cdnjs.cloudflare.com/ajax/libs/mathjax/2.7.5/MathJax.js?config=TeX-AMS-MML_SVG\"></script><script type=\"text/javascript\">if (window.MathJax && window.MathJax.Hub && window.MathJax.Hub.Config) {window.MathJax.Hub.Config({SVG: {font: \"STIX-Web\"}});}</script>                <script type=\"text/javascript\">window.PlotlyConfig = {MathJaxConfig: 'local'};</script>\n",
              "        <script charset=\"utf-8\" src=\"https://cdn.plot.ly/plotly-2.24.1.min.js\"></script>                <div id=\"9d61ac55-f471-4c3c-9aca-52fb7d98911b\" class=\"plotly-graph-div\" style=\"height:525px; width:100%;\"></div>            <script type=\"text/javascript\">                                    window.PLOTLYENV=window.PLOTLYENV || {};                                    if (document.getElementById(\"9d61ac55-f471-4c3c-9aca-52fb7d98911b\")) {                    Plotly.newPlot(                        \"9d61ac55-f471-4c3c-9aca-52fb7d98911b\",                        [{\"line\":{\"color\":\"black\",\"dash\":\"dash\"},\"mode\":\"lines\",\"name\":\"true probability\",\"x\":[0,1,2,3,4,5,6,7,8,9,10,11,12,13,14,15,16,17,18,19,20,21,22,23,24,25,26,27,28,29,30,31,32,33,34,35,36,37,38,39,40,41,42,43,44,45,46,47,48,49,50,51,52,53,54,55,56,57,58,59,60,61,62,63,64,65,66,67,68,69,70,71,72,73,74,75,76,77,78,79,80,81,82,83,84,85,86,87,88,89,90,91,92,93,94,95,96,97,98,99,100,101,102,103,104,105,106,107,108,109,110,111,112,113,114,115,116,117,118,119,120,121,122,123,124,125,126,127,128,129,130,131,132,133,134,135,136,137,138,139,140,141,142,143,144,145,146,147,148,149,150,151,152,153,154,155,156,157,158,159],\"y\":[0.2,0.2,0.2,0.2,0.2,0.2,0.2,0.2,0.2,0.2,0.2,0.2,0.2,0.2,0.2,0.2,0.2,0.2,0.2,0.2,0.2,0.2,0.2,0.2,0.2,0.2,0.2,0.2,0.2,0.2,0.2,0.2,0.2,0.2,0.2,0.2,0.2,0.2,0.2,0.2,0.2,0.2,0.2,0.2,0.2,0.2,0.2,0.2,0.2,0.2,0.2,0.2,0.2,0.2,0.2,0.2,0.2,0.2,0.2,0.2,0.2,0.2,0.2,0.2,0.2,0.2,0.2,0.2,0.2,0.2,0.2,0.2,0.2,0.2,0.2,0.2,0.2,0.2,0.2,0.2,0.8,0.8,0.8,0.8,0.8,0.8,0.8,0.8,0.8,0.8,0.8,0.8,0.8,0.8,0.8,0.8,0.8,0.8,0.8,0.8,0.2,0.2,0.2,0.2,0.2,0.2,0.2,0.2,0.2,0.2,0.2,0.2,0.2,0.2,0.2,0.2,0.2,0.2,0.2,0.2,0.8,0.8,0.8,0.8,0.8,0.8,0.8,0.8,0.8,0.8,0.8,0.8,0.8,0.8,0.8,0.8,0.8,0.8,0.8,0.8,0.2,0.2,0.2,0.2,0.2,0.2,0.2,0.2,0.2,0.2,0.2,0.2,0.2,0.2,0.2,0.2,0.2,0.2,0.2,0.2],\"type\":\"scatter\"},{\"marker\":{\"color\":\"green\",\"opacity\":0.8,\"size\":5},\"mode\":\"markers\",\"name\":\"correct choice\",\"x\":[0,1,2,3,4,5,6,7,8,9,10,11,12,13,14,15,16,17,18,19,20,21,22,23,24,25,26,27,28,29,30,31,32,33,34,35,36,37,38,39,40,41,42,43,44,45,46,47,48,49,50,51,52,53,54,55,56,57,58,59,60,61,62,63,64,65,66,67,68,69,70,71,72,73,74,75,76,77,78,79,80,81,82,83,84,85,86,87,88,89,90,91,92,93,94,95,96,97,98,99,100,101,102,103,104,105,106,107,108,109,110,111,112,113,114,115,116,117,118,119,120,121,122,123,124,125,126,127,128,129,130,131,132,133,134,135,136,137,138,139,140,141,142,143,144,145,146,147,148,149,150,151,152,153,154,155,156,157,158,159],\"y\":[0.0,0.0,null,null,null,0.0,null,1.0,0.0,null,0.0,0.0,null,null,null,0.0,0.0,null,null,0.0,0.0,null,null,null,null,0.0,0.0,0.0,null,0.0,0.0,null,0.0,0.0,null,0.0,0.0,0.0,0.0,null,null,1.0,null,0.0,0.0,0.0,0.0,0.0,0.0,null,0.0,null,null,0.0,0.0,null,0.0,null,0.0,0.0,0.0,null,null,0.0,0.0,0.0,null,0.0,null,null,0.0,null,0.0,0.0,null,0.0,null,0.0,null,null,null,null,1.0,1.0,1.0,1.0,null,null,null,null,1.0,null,1.0,null,null,1.0,1.0,1.0,1.0,null,null,null,null,0.0,0.0,0.0,null,null,0.0,0.0,0.0,0.0,0.0,null,0.0,null,0.0,0.0,0.0,null,1.0,null,null,0.0,null,null,1.0,1.0,1.0,1.0,1.0,1.0,null,null,null,null,1.0,null,1.0,1.0,null,1.0,null,0.0,null,0.0,0.0,0.0,0.0,null,null,1.0,null,null,0.0,0.0,0.0,0.0,1.0,null],\"type\":\"scatter\"},{\"marker\":{\"color\":\"red\",\"opacity\":0.8,\"size\":5},\"mode\":\"markers\",\"name\":\"incorrect choice\",\"x\":[0,1,2,3,4,5,6,7,8,9,10,11,12,13,14,15,16,17,18,19,20,21,22,23,24,25,26,27,28,29,30,31,32,33,34,35,36,37,38,39,40,41,42,43,44,45,46,47,48,49,50,51,52,53,54,55,56,57,58,59,60,61,62,63,64,65,66,67,68,69,70,71,72,73,74,75,76,77,78,79,80,81,82,83,84,85,86,87,88,89,90,91,92,93,94,95,96,97,98,99,100,101,102,103,104,105,106,107,108,109,110,111,112,113,114,115,116,117,118,119,120,121,122,123,124,125,126,127,128,129,130,131,132,133,134,135,136,137,138,139,140,141,142,143,144,145,146,147,148,149,150,151,152,153,154,155,156,157,158,159],\"y\":[null,null,1.0,0.0,1.0,null,1.0,null,null,1.0,null,null,0.0,0.0,1.0,null,null,1.0,1.0,null,null,0.0,0.0,1.0,1.0,null,null,null,1.0,null,null,0.0,null,null,1.0,null,null,null,null,0.0,0.0,null,1.0,null,null,null,null,null,null,1.0,null,0.0,1.0,null,null,1.0,null,0.0,null,null,null,1.0,0.0,null,null,null,1.0,null,0.0,1.0,null,0.0,null,null,1.0,null,1.0,null,0.0,1.0,1.0,0.0,null,null,null,null,0.0,0.0,1.0,0.0,null,0.0,null,1.0,0.0,null,null,null,null,1.0,1.0,1.0,0.0,null,null,null,0.0,1.0,null,null,null,null,null,0.0,null,1.0,null,null,null,0.0,null,0.0,0.0,null,1.0,0.0,null,null,null,null,null,null,1.0,0.0,1.0,0.0,null,0.0,null,null,1.0,null,1.0,null,1.0,null,null,null,null,0.0,1.0,null,1.0,1.0,null,null,null,null,null,1.0],\"type\":\"scatter\"},{\"line\":{\"color\":\"orange\"},\"mode\":\"lines\",\"name\":\"magnitude option 1\",\"x\":[0,1,2,3,4,5,6,7,8,9,10,11,12,13,14,15,16,17,18,19,20,21,22,23,24,25,26,27,28,29,30,31,32,33,34,35,36,37,38,39,40,41,42,43,44,45,46,47,48,49,50,51,52,53,54,55,56,57,58,59,60,61,62,63,64,65,66,67,68,69,70,71,72,73,74,75,76,77,78,79,80,81,82,83,84,85,86,87,88,89,90,91,92,93,94,95,96,97,98,99,100,101,102,103,104,105,106,107,108,109,110,111,112,113,114,115,116,117,118,119,120,121,122,123,124,125,126,127,128,129,130,131,132,133,134,135,136,137,138,139,140,141,142,143,144,145,146,147,148,149,150,151,152,153,154,155,156,157,158,159],\"xaxis\":\"x2\",\"y\":[20,10,40,10,40,10,60,80,40,10,10,20,10,40,40,10,80,40,60,10,10,40,10,10,80,20,60,10,40,40,10,10,40,10,40,60,20,10,40,80,10,40,80,20,10,40,10,10,60,40,40,40,10,60,20,80,40,10,10,10,10,40,10,80,10,10,40,40,20,60,40,10,40,10,80,10,40,20,10,60,80,10,20,60,40,40,10,10,40,10,10,10,60,20,40,80,40,10,10,40,40,40,10,80,20,40,10,10,10,60,40,20,10,60,10,40,10,40,10,80,10,10,10,40,80,20,40,10,60,40,20,40,40,10,80,10,10,10,60,40,10,40,40,10,60,10,80,20,10,40,60,80,20,40,10,10,40,10,10,40],\"yaxis\":\"y2\",\"type\":\"scatter\"},{\"line\":{\"color\":\"green\"},\"mode\":\"lines\",\"name\":\"magnitude option 2\",\"x\":[0,1,2,3,4,5,6,7,8,9,10,11,12,13,14,15,16,17,18,19,20,21,22,23,24,25,26,27,28,29,30,31,32,33,34,35,36,37,38,39,40,41,42,43,44,45,46,47,48,49,50,51,52,53,54,55,56,57,58,59,60,61,62,63,64,65,66,67,68,69,70,71,72,73,74,75,76,77,78,79,80,81,82,83,84,85,86,87,88,89,90,91,92,93,94,95,96,97,98,99,100,101,102,103,104,105,106,107,108,109,110,111,112,113,114,115,116,117,118,119,120,121,122,123,124,125,126,127,128,129,130,131,132,133,134,135,136,137,138,139,140,141,142,143,144,145,146,147,148,149,150,151,152,153,154,155,156,157,158,159],\"xaxis\":\"x2\",\"y\":[40,60,20,80,10,40,10,10,40,10,10,40,40,40,10,80,10,20,10,60,60,40,80,10,10,40,10,40,20,10,60,10,10,80,40,10,40,40,20,10,60,10,10,40,40,40,80,10,10,20,20,10,60,10,40,10,40,10,40,80,10,20,80,10,60,40,10,40,40,10,20,40,40,60,10,80,10,40,10,10,10,10,40,10,10,40,80,60,20,40,10,40,10,40,40,10,10,80,60,20,10,40,40,10,40,20,80,10,60,10,40,40,10,10,60,10,40,20,80,10,40,80,60,10,10,40,40,10,10,20,40,40,20,80,10,60,40,10,10,10,40,10,40,60,10,80,10,40,10,20,10,10,40,10,60,40,40,80,10,20],\"yaxis\":\"y2\",\"type\":\"scatter\"}],                        {\"template\":{\"data\":{\"scatter\":[{\"type\":\"scatter\"}]}},\"xaxis\":{\"anchor\":\"y\",\"domain\":[0.0,1.0],\"title\":{\"text\":\"\"},\"range\":[0,160]},\"yaxis\":{\"anchor\":\"x\",\"domain\":[0.575,1.0],\"title\":{\"text\":\"option 1 rewarded?\"}},\"xaxis2\":{\"anchor\":\"y2\",\"domain\":[0.0,1.0],\"title\":{\"text\":\"trial number\"},\"range\":[0,160]},\"yaxis2\":{\"anchor\":\"x2\",\"domain\":[0.0,0.425],\"title\":{\"text\":\"magnitude\"}}},                        {\"responsive\": true}                    ).then(function(){\n",
              "                            \n",
              "var gd = document.getElementById('9d61ac55-f471-4c3c-9aca-52fb7d98911b');\n",
              "var x = new MutationObserver(function (mutations, observer) {{\n",
              "        var display = window.getComputedStyle(gd).display;\n",
              "        if (!display || display === 'none') {{\n",
              "            console.log([gd, 'removed!']);\n",
              "            Plotly.purge(gd);\n",
              "            observer.disconnect();\n",
              "        }}\n",
              "}});\n",
              "\n",
              "// Listen for the removal of the full notebook cells\n",
              "var notebookContainer = gd.closest('#notebook-container');\n",
              "if (notebookContainer) {{\n",
              "    x.observe(notebookContainer, {childList: true});\n",
              "}}\n",
              "\n",
              "// Listen for the clearing of the current output cell\n",
              "var outputEl = gd.closest('.output');\n",
              "if (outputEl) {{\n",
              "    x.observe(outputEl, {childList: true});\n",
              "}}\n",
              "\n",
              "                        })                };                            </script>        </div>\n",
              "</body>\n",
              "</html>"
            ]
          },
          "metadata": {}
        }
      ],
      "source": [
        "plot_schedule(0)"
      ]
    },
    {
      "cell_type": "markdown",
      "metadata": {
        "id": "iLwvsgh8uUB0"
      },
      "source": [
        "The last participant's data (ID 74) can be visualised in a similar way:"
      ]
    },
    {
      "cell_type": "code",
      "execution_count": null,
      "metadata": {
        "colab": {
          "base_uri": "https://localhost:8080/",
          "height": 542
        },
        "id": "VsN38evx-EXJ",
        "outputId": "61702469-8129-427b-d873-a92f1bb9746a"
      },
      "outputs": [
        {
          "output_type": "display_data",
          "data": {
            "text/html": [
              "<html>\n",
              "<head><meta charset=\"utf-8\" /></head>\n",
              "<body>\n",
              "    <div>            <script src=\"https://cdnjs.cloudflare.com/ajax/libs/mathjax/2.7.5/MathJax.js?config=TeX-AMS-MML_SVG\"></script><script type=\"text/javascript\">if (window.MathJax && window.MathJax.Hub && window.MathJax.Hub.Config) {window.MathJax.Hub.Config({SVG: {font: \"STIX-Web\"}});}</script>                <script type=\"text/javascript\">window.PlotlyConfig = {MathJaxConfig: 'local'};</script>\n",
              "        <script charset=\"utf-8\" src=\"https://cdn.plot.ly/plotly-2.24.1.min.js\"></script>                <div id=\"006a59eb-947a-456b-80c8-f4e9170d672c\" class=\"plotly-graph-div\" style=\"height:525px; width:100%;\"></div>            <script type=\"text/javascript\">                                    window.PLOTLYENV=window.PLOTLYENV || {};                                    if (document.getElementById(\"006a59eb-947a-456b-80c8-f4e9170d672c\")) {                    Plotly.newPlot(                        \"006a59eb-947a-456b-80c8-f4e9170d672c\",                        [{\"line\":{\"color\":\"black\",\"dash\":\"dash\"},\"mode\":\"lines\",\"name\":\"true probability\",\"x\":[0,1,2,3,4,5,6,7,8,9,10,11,12,13,14,15,16,17,18,19,20,21,22,23,24,25,26,27,28,29,30,31,32,33,34,35,36,37,38,39,40,41,42,43,44,45,46,47,48,49,50,51,52,53,54,55,56,57,58,59,60,61,62,63,64,65,66,67,68,69,70,71,72,73,74,75,76,77,78,79,80,81,82,83,84,85,86,87,88,89,90,91,92,93,94,95,96,97,98,99,100,101,102,103,104,105,106,107,108,109,110,111,112,113,114,115,116,117,118,119,120,121,122,123,124,125,126,127,128,129,130,131,132,133,134,135,136,137,138,139,140,141,142,143,144,145,146,147,148,149,150,151,152,153,154,155,156,157,158,159],\"y\":[0.2,0.2,0.2,0.2,0.2,0.2,0.2,0.2,0.2,0.2,0.2,0.2,0.2,0.2,0.2,0.2,0.2,0.2,0.2,0.2,0.8,0.8,0.8,0.8,0.8,0.8,0.8,0.8,0.8,0.8,0.8,0.8,0.8,0.8,0.8,0.8,0.8,0.8,0.8,0.8,0.2,0.2,0.2,0.2,0.2,0.2,0.2,0.2,0.2,0.2,0.2,0.2,0.2,0.2,0.2,0.2,0.2,0.2,0.2,0.2,0.8,0.8,0.8,0.8,0.8,0.8,0.8,0.8,0.8,0.8,0.8,0.8,0.8,0.8,0.8,0.8,0.8,0.8,0.8,0.8,0.8,0.8,0.8,0.8,0.8,0.8,0.8,0.8,0.8,0.8,0.8,0.8,0.8,0.8,0.8,0.8,0.8,0.8,0.8,0.8,0.8,0.8,0.8,0.8,0.8,0.8,0.8,0.8,0.8,0.8,0.8,0.8,0.8,0.8,0.8,0.8,0.8,0.8,0.8,0.8,0.8,0.8,0.8,0.8,0.8,0.8,0.8,0.8,0.8,0.8,0.8,0.8,0.8,0.8,0.8,0.8,0.8,0.8,0.8,0.8,0.8,0.8,0.8,0.8,0.8,0.8,0.8,0.8,0.8,0.8,0.8,0.8,0.8,0.8,0.8,0.8,0.8,0.8,0.8,0.8],\"type\":\"scatter\"},{\"marker\":{\"color\":\"green\",\"opacity\":0.8,\"size\":5},\"mode\":\"markers\",\"name\":\"correct choice\",\"x\":[0,1,2,3,4,5,6,7,8,9,10,11,12,13,14,15,16,17,18,19,20,21,22,23,24,25,26,27,28,29,30,31,32,33,34,35,36,37,38,39,40,41,42,43,44,45,46,47,48,49,50,51,52,53,54,55,56,57,58,59,60,61,62,63,64,65,66,67,68,69,70,71,72,73,74,75,76,77,78,79,80,81,82,83,84,85,86,87,88,89,90,91,92,93,94,95,96,97,98,99,100,101,102,103,104,105,106,107,108,109,110,111,112,113,114,115,116,117,118,119,120,121,122,123,124,125,126,127,128,129,130,131,132,133,134,135,136,137,138,139,140,141,142,143,144,145,146,147,148,149,150,151,152,153,154,155,156,157,158,159],\"y\":[0.0,0.0,null,null,0.0,null,0.0,0.0,null,null,null,null,0.0,0.0,0.0,null,null,null,0.0,0.0,null,null,1.0,0.0,1.0,null,1.0,1.0,null,1.0,1.0,1.0,1.0,1.0,null,1.0,1.0,1.0,null,0.0,0.0,0.0,null,0.0,0.0,0.0,null,0.0,null,0.0,null,0.0,0.0,0.0,0.0,0.0,null,null,0.0,0.0,0.0,null,null,1.0,1.0,1.0,1.0,null,1.0,null,null,null,1.0,1.0,null,1.0,1.0,1.0,null,null,null,null,1.0,1.0,1.0,1.0,null,null,null,1.0,1.0,0.0,1.0,1.0,1.0,null,1.0,1.0,1.0,1.0,1.0,1.0,1.0,1.0,1.0,null,1.0,null,1.0,null,1.0,1.0,null,null,1.0,null,1.0,1.0,1.0,1.0,1.0,null,1.0,1.0,1.0,1.0,null,null,1.0,1.0,1.0,1.0,1.0,1.0,1.0,null,null,1.0,1.0,null,null,1.0,1.0,1.0,1.0,1.0,1.0,1.0,null,1.0,1.0,1.0,null,0.0,1.0,1.0,1.0,1.0,1.0,1.0],\"type\":\"scatter\"},{\"marker\":{\"color\":\"red\",\"opacity\":0.8,\"size\":5},\"mode\":\"markers\",\"name\":\"incorrect choice\",\"x\":[0,1,2,3,4,5,6,7,8,9,10,11,12,13,14,15,16,17,18,19,20,21,22,23,24,25,26,27,28,29,30,31,32,33,34,35,36,37,38,39,40,41,42,43,44,45,46,47,48,49,50,51,52,53,54,55,56,57,58,59,60,61,62,63,64,65,66,67,68,69,70,71,72,73,74,75,76,77,78,79,80,81,82,83,84,85,86,87,88,89,90,91,92,93,94,95,96,97,98,99,100,101,102,103,104,105,106,107,108,109,110,111,112,113,114,115,116,117,118,119,120,121,122,123,124,125,126,127,128,129,130,131,132,133,134,135,136,137,138,139,140,141,142,143,144,145,146,147,148,149,150,151,152,153,154,155,156,157,158,159],\"y\":[null,null,0.0,1.0,null,0.0,null,null,1.0,1.0,0.0,1.0,null,null,null,1.0,0.0,1.0,null,null,0.0,1.0,null,null,null,0.0,null,null,0.0,null,null,null,null,null,0.0,null,null,null,1.0,null,null,null,0.0,null,null,null,0.0,null,1.0,null,0.0,null,null,null,null,null,0.0,1.0,null,null,null,0.0,0.0,null,null,null,null,0.0,null,1.0,0.0,0.0,null,null,1.0,null,null,null,0.0,1.0,0.0,0.0,null,null,null,null,1.0,1.0,0.0,null,null,null,null,null,null,1.0,null,null,null,null,null,null,null,null,null,1.0,null,1.0,null,0.0,null,null,1.0,1.0,null,0.0,null,null,null,null,null,1.0,null,null,null,null,1.0,0.0,null,null,null,null,null,null,null,0.0,1.0,null,null,1.0,1.0,null,null,null,null,null,null,null,1.0,null,null,null,1.0,null,null,null,null,null,null,null],\"type\":\"scatter\"},{\"line\":{\"color\":\"orange\"},\"mode\":\"lines\",\"name\":\"magnitude option 1\",\"x\":[0,1,2,3,4,5,6,7,8,9,10,11,12,13,14,15,16,17,18,19,20,21,22,23,24,25,26,27,28,29,30,31,32,33,34,35,36,37,38,39,40,41,42,43,44,45,46,47,48,49,50,51,52,53,54,55,56,57,58,59,60,61,62,63,64,65,66,67,68,69,70,71,72,73,74,75,76,77,78,79,80,81,82,83,84,85,86,87,88,89,90,91,92,93,94,95,96,97,98,99,100,101,102,103,104,105,106,107,108,109,110,111,112,113,114,115,116,117,118,119,120,121,122,123,124,125,126,127,128,129,130,131,132,133,134,135,136,137,138,139,140,141,142,143,144,145,146,147,148,149,150,151,152,153,154,155,156,157,158,159],\"xaxis\":\"x2\",\"y\":[10,40,10,40,40,20,10,10,60,80,10,40,40,10,40,60,10,80,20,10,40,10,60,10,80,40,40,20,10,10,10,60,40,80,10,40,10,20,10,40,10,40,10,40,20,10,40,10,80,60,20,10,40,10,40,10,60,80,10,40,20,40,60,40,10,10,80,10,10,40,60,40,10,80,40,20,10,40,10,10,10,10,80,60,20,40,10,10,40,40,20,10,10,60,40,40,40,10,80,10,80,40,40,60,20,10,40,10,10,10,10,20,40,60,80,10,10,40,10,40,10,40,40,60,10,40,80,10,10,20,20,60,40,40,10,10,80,40,10,10,10,40,10,60,10,40,10,20,80,40,10,80,20,10,10,40,10,40,40,60],\"yaxis\":\"y2\",\"type\":\"scatter\"},{\"line\":{\"color\":\"green\"},\"mode\":\"lines\",\"name\":\"magnitude option 2\",\"x\":[0,1,2,3,4,5,6,7,8,9,10,11,12,13,14,15,16,17,18,19,20,21,22,23,24,25,26,27,28,29,30,31,32,33,34,35,36,37,38,39,40,41,42,43,44,45,46,47,48,49,50,51,52,53,54,55,56,57,58,59,60,61,62,63,64,65,66,67,68,69,70,71,72,73,74,75,76,77,78,79,80,81,82,83,84,85,86,87,88,89,90,91,92,93,94,95,96,97,98,99,100,101,102,103,104,105,106,107,108,109,110,111,112,113,114,115,116,117,118,119,120,121,122,123,124,125,126,127,128,129,130,131,132,133,134,135,136,137,138,139,140,141,142,143,144,145,146,147,148,149,150,151,152,153,154,155,156,157,158,159],\"xaxis\":\"x2\",\"y\":[40,10,80,40,20,40,60,10,10,10,40,40,10,60,20,10,10,10,40,80,10,10,10,40,10,40,20,40,80,60,40,10,10,10,80,20,60,40,10,40,80,40,60,10,40,10,20,40,10,10,40,80,20,10,10,60,10,10,40,40,40,10,10,20,40,60,10,80,10,40,10,20,60,10,10,40,40,40,80,10,60,80,10,10,40,40,10,40,20,10,40,80,10,10,10,40,20,40,10,60,10,40,20,10,40,10,10,60,40,80,10,40,10,10,10,80,60,40,40,20,10,10,20,10,60,40,10,80,40,40,40,10,20,10,40,80,10,40,60,10,60,40,10,10,40,10,80,40,10,20,10,10,40,80,40,20,60,10,40,10],\"yaxis\":\"y2\",\"type\":\"scatter\"}],                        {\"template\":{\"data\":{\"scatter\":[{\"type\":\"scatter\"}]}},\"xaxis\":{\"anchor\":\"y\",\"domain\":[0.0,1.0],\"title\":{\"text\":\"\"},\"range\":[0,160]},\"yaxis\":{\"anchor\":\"x\",\"domain\":[0.575,1.0],\"title\":{\"text\":\"option 1 rewarded?\"}},\"xaxis2\":{\"anchor\":\"y2\",\"domain\":[0.0,1.0],\"title\":{\"text\":\"trial number\"},\"range\":[0,160]},\"yaxis2\":{\"anchor\":\"x2\",\"domain\":[0.0,0.425],\"title\":{\"text\":\"magnitude\"}}},                        {\"responsive\": true}                    ).then(function(){\n",
              "                            \n",
              "var gd = document.getElementById('006a59eb-947a-456b-80c8-f4e9170d672c');\n",
              "var x = new MutationObserver(function (mutations, observer) {{\n",
              "        var display = window.getComputedStyle(gd).display;\n",
              "        if (!display || display === 'none') {{\n",
              "            console.log([gd, 'removed!']);\n",
              "            Plotly.purge(gd);\n",
              "            observer.disconnect();\n",
              "        }}\n",
              "}});\n",
              "\n",
              "// Listen for the removal of the full notebook cells\n",
              "var notebookContainer = gd.closest('#notebook-container');\n",
              "if (notebookContainer) {{\n",
              "    x.observe(notebookContainer, {childList: true});\n",
              "}}\n",
              "\n",
              "// Listen for the clearing of the current output cell\n",
              "var outputEl = gd.closest('.output');\n",
              "if (outputEl) {{\n",
              "    x.observe(outputEl, {childList: true});\n",
              "}}\n",
              "\n",
              "                        })                };                            </script>        </div>\n",
              "</body>\n",
              "</html>"
            ]
          },
          "metadata": {}
        }
      ],
      "source": [
        "plot_schedule(74)"
      ]
    },
    {
      "cell_type": "markdown",
      "metadata": {
        "id": "PoHucfqkA7_3"
      },
      "source": [
        "## Recap – Reinforcement learning model\n",
        "During the last two weeks, we have motivated and built a computational model of learning and decision making. You should be fairly familiar with these equations by now, but we will quickly recap them here. On each trial $t$, the model computes a prediction error, which is the difference between the observed and the predicted outcome:\n",
        "\n",
        "$$\n",
        "\\underbrace{\\delta_t}_\\textrm{prediction error} = \\underbrace{o_t}_\\textrm{outcome} - \\underbrace{p_t}_\\textrm{model prediction} \\tag{Equation 1}\n",
        "$$\n",
        "\n",
        "The model then uses this prediction error to make a new prediction for the next trial. This is done by updating the prediction proportional to the prediction error, scaled by a constant $\\alpha$, which we call the learning rate.\n",
        "\n",
        "$$\n",
        "\\underbrace{p_{t+1}}_\\textrm{new prediction} = \\underbrace{p_t}_\\textrm{old prediction} + \\underbrace{\\alpha \\delta_t}_\\textrm{scaled prediction error} \\tag{Equation 2}\n",
        "$$\n",
        "\n",
        "During the task we are modelling, participants had to take two variables into account when making their choices: the probability that an option is rewarded, which we are modelling according to the above equations, and a number of reward points that are on offer. To make choices, they have to somehow integrate these two variables. During last week's session (Session 2), we discussed two ways of integrating reward probability and magnitude. Multiplicative utility assumes that participants multiply the magnitude and probabilty\n",
        "\n",
        "$$\n",
        "\\underbrace{u}_\\textrm{utility} = \\underbrace{m}_\\textrm{reward magnitude} \\times \\underbrace{p}_\\textrm{reward probabilty} \\tag{Equation 3}\n",
        "$$\n",
        "\n",
        "whereas additive utility assumes that participants compute a weighted average of magnitude and probabilty:\n",
        "\n",
        "$$\n",
        "\\underbrace{u}_\\textrm{utility} = \\overbrace{\\omega}^\\textrm{magnitude weight} \\times \\underbrace{m}_\\textrm{reward magnitude} + \\overbrace{(1-\\omega)}^\\textrm{probability weight} \\times \\underbrace{p}_\\textrm{reward probabilty} \\tag{Equation 4}\n",
        "$$\n",
        "\n",
        "Finally, we need to translate the utility we computed into actual choices. To do so, we assume that participants pick each option with a certain probability, which depends on the difference in utility between the two options and a 'randomness factor', which we call the inverse temperature $\\beta$:\n",
        "$$\n",
        "\\underbrace{P(c_1)}_\\textrm{probability of choosing option 1} = \\frac{1}{1+ e^{-\\beta(u_1 - u_2)}} \\tag{Equation 5}\n",
        "$$\n",
        "\n",
        "## Recap – Model fitting\n",
        "\n",
        "Next, we learned how to fit models by maximising the model likelihood. A good model fit (i.e., one with a high likelihood) assigns a high softmax probability (Equation 5) to the actual (or simulated) choices a participant made. We want to find the parameters of the model $\\alpha$, $\\beta$, and $\\omega$ (if we use additive utility) that give us the highest likelihood, as these are, according to the model, the most plausible parameters this participant might have used to solve the task.\n"
      ]
    },
    {
      "cell_type": "markdown",
      "metadata": {
        "id": "LqHyr0nYyPnm"
      },
      "source": [
        "# Section 1: Fitting and comparing models\n",
        "\n",
        "## Multiplicative utility\n",
        "We will now see whether the predictions we motivated throughout the last two sessions are indeed what Blain and Rutledge found. In particular, we predicted that participants should have a higher learning rate in a volatile block than in a stable block. The first step towards testing whether this prediction is correct is by fitting learning rates to the data from all participants. This is done in the next code cell. For now, we are assuming multiplicative utility.  "
      ]
    },
    {
      "cell_type": "code",
      "execution_count": null,
      "metadata": {
        "colab": {
          "base_uri": "https://localhost:8080/",
          "height": 296
        },
        "id": "-EPhn9DTOGKq",
        "outputId": "ea0cec67-f64f-4e0e-a456-aec61db66d54"
      },
      "outputs": [
        {
          "output_type": "display_data",
          "data": {
            "text/plain": [
              "'fitting subject 0/75'"
            ],
            "application/vnd.google.colaboratory.intrinsic+json": {
              "type": "string"
            }
          },
          "metadata": {}
        },
        {
          "output_type": "display_data",
          "data": {
            "text/plain": [
              "'fitting subject 5/75'"
            ],
            "application/vnd.google.colaboratory.intrinsic+json": {
              "type": "string"
            }
          },
          "metadata": {}
        },
        {
          "output_type": "display_data",
          "data": {
            "text/plain": [
              "'fitting subject 10/75'"
            ],
            "application/vnd.google.colaboratory.intrinsic+json": {
              "type": "string"
            }
          },
          "metadata": {}
        },
        {
          "output_type": "display_data",
          "data": {
            "text/plain": [
              "'fitting subject 15/75'"
            ],
            "application/vnd.google.colaboratory.intrinsic+json": {
              "type": "string"
            }
          },
          "metadata": {}
        },
        {
          "output_type": "display_data",
          "data": {
            "text/plain": [
              "'fitting subject 20/75'"
            ],
            "application/vnd.google.colaboratory.intrinsic+json": {
              "type": "string"
            }
          },
          "metadata": {}
        },
        {
          "output_type": "display_data",
          "data": {
            "text/plain": [
              "'fitting subject 25/75'"
            ],
            "application/vnd.google.colaboratory.intrinsic+json": {
              "type": "string"
            }
          },
          "metadata": {}
        },
        {
          "output_type": "display_data",
          "data": {
            "text/plain": [
              "'fitting subject 30/75'"
            ],
            "application/vnd.google.colaboratory.intrinsic+json": {
              "type": "string"
            }
          },
          "metadata": {}
        },
        {
          "output_type": "display_data",
          "data": {
            "text/plain": [
              "'fitting subject 35/75'"
            ],
            "application/vnd.google.colaboratory.intrinsic+json": {
              "type": "string"
            }
          },
          "metadata": {}
        },
        {
          "output_type": "display_data",
          "data": {
            "text/plain": [
              "'fitting subject 40/75'"
            ],
            "application/vnd.google.colaboratory.intrinsic+json": {
              "type": "string"
            }
          },
          "metadata": {}
        },
        {
          "output_type": "display_data",
          "data": {
            "text/plain": [
              "'fitting subject 45/75'"
            ],
            "application/vnd.google.colaboratory.intrinsic+json": {
              "type": "string"
            }
          },
          "metadata": {}
        },
        {
          "output_type": "display_data",
          "data": {
            "text/plain": [
              "'fitting subject 50/75'"
            ],
            "application/vnd.google.colaboratory.intrinsic+json": {
              "type": "string"
            }
          },
          "metadata": {}
        },
        {
          "output_type": "display_data",
          "data": {
            "text/plain": [
              "'fitting subject 55/75'"
            ],
            "application/vnd.google.colaboratory.intrinsic+json": {
              "type": "string"
            }
          },
          "metadata": {}
        },
        {
          "output_type": "display_data",
          "data": {
            "text/plain": [
              "'fitting subject 60/75'"
            ],
            "application/vnd.google.colaboratory.intrinsic+json": {
              "type": "string"
            }
          },
          "metadata": {}
        },
        {
          "output_type": "display_data",
          "data": {
            "text/plain": [
              "'fitting subject 65/75'"
            ],
            "application/vnd.google.colaboratory.intrinsic+json": {
              "type": "string"
            }
          },
          "metadata": {}
        },
        {
          "output_type": "display_data",
          "data": {
            "text/plain": [
              "'fitting subject 70/75'"
            ],
            "application/vnd.google.colaboratory.intrinsic+json": {
              "type": "string"
            }
          },
          "metadata": {}
        }
      ],
      "source": [
        "data1AlphaMul, data2AlphaMul = fit_participant_data(multiplicative_utility)"
      ]
    },
    {
      "cell_type": "markdown",
      "metadata": {
        "id": "B0e4Y9q80GAd"
      },
      "source": [
        "The function returns two tables, one containing learning rates that were fitted assuming a model where the same learning rate is used in the stable and the volatile block, and one assuming that different learning rates were used. As a first visual approximation to check our hypothesis, we can plot the distributions of the learning rates in the stable and the volatile block.\n",
        "\n",
        "### Comparing fitted learning rates"
      ]
    },
    {
      "cell_type": "code",
      "execution_count": null,
      "metadata": {
        "colab": {
          "base_uri": "https://localhost:8080/",
          "height": 542
        },
        "id": "7G3AkBVAjK_E",
        "outputId": "28c2d232-9468-4b5c-add5-65edf0238522"
      },
      "outputs": [
        {
          "output_type": "display_data",
          "data": {
            "text/html": [
              "<html>\n",
              "<head><meta charset=\"utf-8\" /></head>\n",
              "<body>\n",
              "    <div>            <script src=\"https://cdnjs.cloudflare.com/ajax/libs/mathjax/2.7.5/MathJax.js?config=TeX-AMS-MML_SVG\"></script><script type=\"text/javascript\">if (window.MathJax && window.MathJax.Hub && window.MathJax.Hub.Config) {window.MathJax.Hub.Config({SVG: {font: \"STIX-Web\"}});}</script>                <script type=\"text/javascript\">window.PlotlyConfig = {MathJaxConfig: 'local'};</script>\n",
              "        <script charset=\"utf-8\" src=\"https://cdn.plot.ly/plotly-2.24.1.min.js\"></script>                <div id=\"73f89f8e-fa16-4e1d-84de-04843d0a5f95\" class=\"plotly-graph-div\" style=\"height:525px; width:100%;\"></div>            <script type=\"text/javascript\">                                    window.PLOTLYENV=window.PLOTLYENV || {};                                    if (document.getElementById(\"73f89f8e-fa16-4e1d-84de-04843d0a5f95\")) {                    Plotly.newPlot(                        \"73f89f8e-fa16-4e1d-84de-04843d0a5f95\",                        [{\"alignmentgroup\":\"True\",\"bingroup\":\"x\",\"hovertemplate\":\"variable=stable block\\u003cbr\\u003evalue=%{x}\\u003cbr\\u003ecount=%{y}\\u003cextra\\u003e\\u003c\\u002fextra\\u003e\",\"legendgroup\":\"stable block\",\"marker\":{\"color\":\"#1F77B4\",\"opacity\":0.5,\"pattern\":{\"shape\":\"\"}},\"name\":\"stable block\",\"offsetgroup\":\"stable block\",\"orientation\":\"v\",\"showlegend\":true,\"x\":[0.14147037992034633,0.11282269348944687,0.0621154571328403,0.12687215644854716,0.17842948584652,0.0829146120615739,0.09985474216283151,0.024672014861323362,0.08411870469047178,0.13311839104025247,0.16030635635916748,0.08123287126301759,0.06489697270531132,0.273304309938578,0.20659168800419406,0.1711672519689893,0.06380134200438159,0.29049056153467,0.5725225468716126,0.223504467277458,0.16024659791525894,0.12990702660442807,0.06512253441545832,0.6317619232324325,0.19702734176132772,0.20152569453517194,0.199234806935505,0.34443979176015543,0.13694105098234796,0.10639832891117595,0.14513352204516844,0.09992894025037066,0.07743280557633213,0.20558354828266698,0.13789397966052158,0.12113178312814642,0.30475215795340044,0.06088247551362989,0.19265699661412472,0.10111179300277065,0.14463328576425652,0.9999999902000635,0.1476892568165309,0.19359734682611254,0.1491350016066897,0.07068542736270973,0.16193065354622868,0.13738772425178894,0.26265338774161057,0.9999999999618094,0.1961444567062875,0.10033186443782016,0.1651575059095927,0.06172314936979976,0.22996209262167655,0.0046015965775764245,0.6654823556092102,0.11352151344411773,0.49717005232032807,0.09643692577591141,0.034413842397194645,0.1647885468757052,0.1488281315562366,0.1627632315105509,0.13345179404073151,0.14679065018707443,0.20564717802532897,0.09160811884054271,0.09823062503417809,0.6068708604299511,0.1835592413411816,0.11804335097062903,0.1647217449139938,0.1782213127428627,0.16060161090533104],\"xaxis\":\"x\",\"yaxis\":\"y\",\"type\":\"histogram\",\"xbins\":{\"end\":1.0,\"size\":0.05,\"start\":0.0}},{\"alignmentgroup\":\"True\",\"hovertemplate\":\"variable=stable block\\u003cbr\\u003evalue=%{x}\\u003cextra\\u003e\\u003c\\u002fextra\\u003e\",\"legendgroup\":\"stable block\",\"marker\":{\"color\":\"#1F77B4\"},\"name\":\"stable block\",\"notched\":true,\"offsetgroup\":\"stable block\",\"showlegend\":false,\"x\":[0.14147037992034633,0.11282269348944687,0.0621154571328403,0.12687215644854716,0.17842948584652,0.0829146120615739,0.09985474216283151,0.024672014861323362,0.08411870469047178,0.13311839104025247,0.16030635635916748,0.08123287126301759,0.06489697270531132,0.273304309938578,0.20659168800419406,0.1711672519689893,0.06380134200438159,0.29049056153467,0.5725225468716126,0.223504467277458,0.16024659791525894,0.12990702660442807,0.06512253441545832,0.6317619232324325,0.19702734176132772,0.20152569453517194,0.199234806935505,0.34443979176015543,0.13694105098234796,0.10639832891117595,0.14513352204516844,0.09992894025037066,0.07743280557633213,0.20558354828266698,0.13789397966052158,0.12113178312814642,0.30475215795340044,0.06088247551362989,0.19265699661412472,0.10111179300277065,0.14463328576425652,0.9999999902000635,0.1476892568165309,0.19359734682611254,0.1491350016066897,0.07068542736270973,0.16193065354622868,0.13738772425178894,0.26265338774161057,0.9999999999618094,0.1961444567062875,0.10033186443782016,0.1651575059095927,0.06172314936979976,0.22996209262167655,0.0046015965775764245,0.6654823556092102,0.11352151344411773,0.49717005232032807,0.09643692577591141,0.034413842397194645,0.1647885468757052,0.1488281315562366,0.1627632315105509,0.13345179404073151,0.14679065018707443,0.20564717802532897,0.09160811884054271,0.09823062503417809,0.6068708604299511,0.1835592413411816,0.11804335097062903,0.1647217449139938,0.1782213127428627,0.16060161090533104],\"xaxis\":\"x2\",\"yaxis\":\"y2\",\"type\":\"box\"},{\"alignmentgroup\":\"True\",\"bingroup\":\"x\",\"hovertemplate\":\"variable=volatile block\\u003cbr\\u003evalue=%{x}\\u003cbr\\u003ecount=%{y}\\u003cextra\\u003e\\u003c\\u002fextra\\u003e\",\"legendgroup\":\"volatile block\",\"marker\":{\"color\":\"#FF7F0E\",\"opacity\":0.5,\"pattern\":{\"shape\":\"\"}},\"name\":\"volatile block\",\"offsetgroup\":\"volatile block\",\"orientation\":\"v\",\"showlegend\":true,\"x\":[0.47970262508982103,0.4052276914737016,0.08390665303125035,0.5919169088909372,0.822191199646904,0.02851071482698955,0.3901919453758839,0.05672120090132895,0.6452824727001593,0.6528854750550661,0.48405800664371984,0.17378060951332908,1.9352947322450815e-07,0.8108801324235095,0.45790749257454605,0.25646310895414737,0.06812340300430107,0.7698705419042208,0.9930825175678751,0.3194584521485343,0.05293886126766639,0.27676772440765823,0.05113226741928649,0.5116447587520538,0.6673280135757537,0.04439792738432742,3.0559300461456686e-08,0.016158219833524556,0.2033270946441208,0.9999999909445866,0.01023258573533313,0.4561032542534311,0.024209336477239194,0.016480062494185294,0.10015977670573163,0.4768256728188607,0.6822599678794818,0.0029910771570022944,0.420051288433048,0.36971318754516386,0.6040807738366937,0.9999999902000635,0.28174311009581765,0.4436813542130362,0.30731216479100265,0.10694151625385397,0.2516985440211119,0.8216348624864248,0.09407438133331297,8.542131686468529e-10,0.2397937371090654,0.07369556932769783,0.010098243787680875,0.005352944521414724,0.1373650768961192,3.0032177681846426e-09,0.029151717240907798,0.9548813990069511,0.7411794250827166,0.13107494027158598,0.030849271948665886,0.5496526304886248,0.29079957803067136,0.08884578455164338,0.0012125285411661631,0.1767109887568208,0.46335568059407534,0.2705122525582637,0.08397478811048276,0.7034612774176751,0.18533488094263878,0.0283360517452586,0.2976836875693138,0.6942855082151255,0.5155339989615716],\"xaxis\":\"x\",\"yaxis\":\"y\",\"type\":\"histogram\",\"xbins\":{\"end\":1.0,\"size\":0.05,\"start\":0.0}},{\"alignmentgroup\":\"True\",\"hovertemplate\":\"variable=volatile block\\u003cbr\\u003evalue=%{x}\\u003cextra\\u003e\\u003c\\u002fextra\\u003e\",\"legendgroup\":\"volatile block\",\"marker\":{\"color\":\"#FF7F0E\"},\"name\":\"volatile block\",\"notched\":true,\"offsetgroup\":\"volatile block\",\"showlegend\":false,\"x\":[0.47970262508982103,0.4052276914737016,0.08390665303125035,0.5919169088909372,0.822191199646904,0.02851071482698955,0.3901919453758839,0.05672120090132895,0.6452824727001593,0.6528854750550661,0.48405800664371984,0.17378060951332908,1.9352947322450815e-07,0.8108801324235095,0.45790749257454605,0.25646310895414737,0.06812340300430107,0.7698705419042208,0.9930825175678751,0.3194584521485343,0.05293886126766639,0.27676772440765823,0.05113226741928649,0.5116447587520538,0.6673280135757537,0.04439792738432742,3.0559300461456686e-08,0.016158219833524556,0.2033270946441208,0.9999999909445866,0.01023258573533313,0.4561032542534311,0.024209336477239194,0.016480062494185294,0.10015977670573163,0.4768256728188607,0.6822599678794818,0.0029910771570022944,0.420051288433048,0.36971318754516386,0.6040807738366937,0.9999999902000635,0.28174311009581765,0.4436813542130362,0.30731216479100265,0.10694151625385397,0.2516985440211119,0.8216348624864248,0.09407438133331297,8.542131686468529e-10,0.2397937371090654,0.07369556932769783,0.010098243787680875,0.005352944521414724,0.1373650768961192,3.0032177681846426e-09,0.029151717240907798,0.9548813990069511,0.7411794250827166,0.13107494027158598,0.030849271948665886,0.5496526304886248,0.29079957803067136,0.08884578455164338,0.0012125285411661631,0.1767109887568208,0.46335568059407534,0.2705122525582637,0.08397478811048276,0.7034612774176751,0.18533488094263878,0.0283360517452586,0.2976836875693138,0.6942855082151255,0.5155339989615716],\"xaxis\":\"x2\",\"yaxis\":\"y2\",\"type\":\"box\"}],                        {\"template\":{\"data\":{\"scatter\":[{\"type\":\"scatter\"}]}},\"xaxis\":{\"anchor\":\"y\",\"domain\":[0.0,1.0],\"title\":{\"text\":\"learning rate\"},\"range\":[0,1]},\"yaxis\":{\"anchor\":\"x\",\"domain\":[0.0,0.7326],\"title\":{\"text\":\"count\"}},\"xaxis2\":{\"anchor\":\"y2\",\"domain\":[0.0,1.0],\"matches\":\"x\",\"showticklabels\":false,\"showgrid\":true,\"range\":[0,1]},\"yaxis2\":{\"anchor\":\"x2\",\"domain\":[0.7426,1.0],\"matches\":\"y2\",\"showticklabels\":false,\"showline\":false,\"ticks\":\"\",\"showgrid\":false},\"legend\":{\"title\":{\"text\":\"\"},\"tracegroupgap\":0},\"margin\":{\"t\":60},\"barmode\":\"overlay\",\"title\":{\"text\":\"fitted learning rates assuming multiplicative utility\"}},                        {\"responsive\": true}                    ).then(function(){\n",
              "                            \n",
              "var gd = document.getElementById('73f89f8e-fa16-4e1d-84de-04843d0a5f95');\n",
              "var x = new MutationObserver(function (mutations, observer) {{\n",
              "        var display = window.getComputedStyle(gd).display;\n",
              "        if (!display || display === 'none') {{\n",
              "            console.log([gd, 'removed!']);\n",
              "            Plotly.purge(gd);\n",
              "            observer.disconnect();\n",
              "        }}\n",
              "}});\n",
              "\n",
              "// Listen for the removal of the full notebook cells\n",
              "var notebookContainer = gd.closest('#notebook-container');\n",
              "if (notebookContainer) {{\n",
              "    x.observe(notebookContainer, {childList: true});\n",
              "}}\n",
              "\n",
              "// Listen for the clearing of the current output cell\n",
              "var outputEl = gd.closest('.output');\n",
              "if (outputEl) {{\n",
              "    x.observe(outputEl, {childList: true});\n",
              "}}\n",
              "\n",
              "                        })                };                            </script>        </div>\n",
              "</body>\n",
              "</html>"
            ]
          },
          "metadata": {}
        }
      ],
      "source": [
        "visualise_alpha_distributions(data2AlphaMul.alphaStable, data2AlphaMul.alphaVolatile, 'fitted learning rates assuming multiplicative utility')"
      ]
    },
    {
      "cell_type": "markdown",
      "metadata": {
        "id": "4841kdw61suw"
      },
      "source": [
        "Based on visually inspecting these distributions, do you think the learning rates are higher in the volatile compared to the stable session? Do you think a plot like this allows you to make this kind of judgement?"
      ]
    },
    {
      "cell_type": "markdown",
      "metadata": {
        "id": "l5UOm1GW2TTH"
      },
      "source": [
        "→ Type your answer here"
      ]
    },
    {
      "cell_type": "markdown",
      "metadata": {
        "id": "VbaL6jBd2i7A"
      },
      "source": [
        "One problem with the above way of visualising the distributions is that it is not particularly well suited for answering our key question. A plot like the one above is useful in determening whether the mean of the distribtuion of learning rates fitted to the volatile block is larger than the mean of the disribution of learning rates fitted to the stable block. An example of a statistical test that would allow you to compute a p-value for such a comparison is an unpaired t-test.\n",
        "\n",
        "However, in our case the question we want to ask is slightly different. We want to ask whether the learning rate in the volatile session is larger than in the stable session *for every participant*. In other words, we need to use a paired t-test, where we compare the *difference* in learning rates on a participant-by-participant basis. Thus, a much more useful visualization would be the difference in learning rates between the two session types (computed for each participant):"
      ]
    },
    {
      "cell_type": "code",
      "execution_count": null,
      "metadata": {
        "colab": {
          "base_uri": "https://localhost:8080/",
          "height": 542
        },
        "id": "-qT8iIPF2guP",
        "outputId": "e2458196-537e-44fb-f89a-388c2c56b8bd"
      },
      "outputs": [
        {
          "output_type": "display_data",
          "data": {
            "text/html": [
              "<html>\n",
              "<head><meta charset=\"utf-8\" /></head>\n",
              "<body>\n",
              "    <div>            <script src=\"https://cdnjs.cloudflare.com/ajax/libs/mathjax/2.7.5/MathJax.js?config=TeX-AMS-MML_SVG\"></script><script type=\"text/javascript\">if (window.MathJax && window.MathJax.Hub && window.MathJax.Hub.Config) {window.MathJax.Hub.Config({SVG: {font: \"STIX-Web\"}});}</script>                <script type=\"text/javascript\">window.PlotlyConfig = {MathJaxConfig: 'local'};</script>\n",
              "        <script charset=\"utf-8\" src=\"https://cdn.plot.ly/plotly-2.24.1.min.js\"></script>                <div id=\"ba03c76d-3ceb-455a-a2b8-e45aba6267bc\" class=\"plotly-graph-div\" style=\"height:525px; width:100%;\"></div>            <script type=\"text/javascript\">                                    window.PLOTLYENV=window.PLOTLYENV || {};                                    if (document.getElementById(\"ba03c76d-3ceb-455a-a2b8-e45aba6267bc\")) {                    Plotly.newPlot(                        \"ba03c76d-3ceb-455a-a2b8-e45aba6267bc\",                        [{\"alignmentgroup\":\"True\",\"bingroup\":\"x\",\"hovertemplate\":\"variable=volatile alpha - stable alpha\\u003cbr\\u003evalue=%{x}\\u003cbr\\u003ecount=%{y}\\u003cextra\\u003e\\u003c\\u002fextra\\u003e\",\"legendgroup\":\"volatile alpha - stable alpha\",\"marker\":{\"color\":\"#1F77B4\",\"opacity\":0.5,\"pattern\":{\"shape\":\"\"}},\"name\":\"volatile alpha - stable alpha\",\"offsetgroup\":\"volatile alpha - stable alpha\",\"orientation\":\"v\",\"showlegend\":true,\"x\":[0.3382322451694747,0.2924049979842547,0.021791195898410047,0.46504475244239,0.643761713800384,-0.054403897234584345,0.2903372032130524,0.03204918604000559,0.5611637680096875,0.5197670840148136,0.32375165028455233,0.09254773825031148,-0.0648967791758381,0.5375758224849315,0.25131580457035196,0.08529585698515807,0.004322060999919483,0.47937998036955076,0.4205599706962625,0.09595398487107629,-0.10730773664759255,0.14686069780323016,-0.013990266996171827,-0.12011716448037868,0.4703006718144259,-0.15712776715084453,-0.19923477637620454,-0.3282815719266309,0.06638604366177284,0.8936016620334106,-0.1349009363098353,0.35617431400306043,-0.05322346909909294,-0.18910348578848168,-0.03773420295478995,0.35569388969071425,0.3775078099260814,-0.05789139835662759,0.2273942918189233,0.2686013945423932,0.4594474880724372,0.0,0.13405385327928676,0.2500840073869237,0.15817716318431296,0.036256088891144234,0.08976789047488323,0.6842471382346359,-0.1685790064082976,-0.9999999991075963,0.04364928040277791,-0.026636295110122332,-0.15505926212191182,-0.056370204848385036,-0.09259701572555734,-0.004601593574358656,-0.6363306383683024,0.8413598855628334,0.24400937276238854,0.034638014495674566,-0.003564570448528759,0.38486408361291957,0.14197144647443477,-0.0739174469589075,-0.13223926549956536,0.02992033856974638,0.25770850256874633,0.17890413371772101,-0.014255836923695336,0.09659041698772397,0.0017756396014571851,-0.08970729922537043,0.13296194265532,0.5160641954722628,0.35493238805624056],\"xaxis\":\"x\",\"yaxis\":\"y\",\"type\":\"histogram\",\"xbins\":{\"end\":1.0,\"size\":0.1,\"start\":-1.0}},{\"alignmentgroup\":\"True\",\"hovertemplate\":\"variable=volatile alpha - stable alpha\\u003cbr\\u003evalue=%{x}\\u003cextra\\u003e\\u003c\\u002fextra\\u003e\",\"legendgroup\":\"volatile alpha - stable alpha\",\"marker\":{\"color\":\"#1F77B4\"},\"name\":\"volatile alpha - stable alpha\",\"notched\":true,\"offsetgroup\":\"volatile alpha - stable alpha\",\"showlegend\":false,\"x\":[0.3382322451694747,0.2924049979842547,0.021791195898410047,0.46504475244239,0.643761713800384,-0.054403897234584345,0.2903372032130524,0.03204918604000559,0.5611637680096875,0.5197670840148136,0.32375165028455233,0.09254773825031148,-0.0648967791758381,0.5375758224849315,0.25131580457035196,0.08529585698515807,0.004322060999919483,0.47937998036955076,0.4205599706962625,0.09595398487107629,-0.10730773664759255,0.14686069780323016,-0.013990266996171827,-0.12011716448037868,0.4703006718144259,-0.15712776715084453,-0.19923477637620454,-0.3282815719266309,0.06638604366177284,0.8936016620334106,-0.1349009363098353,0.35617431400306043,-0.05322346909909294,-0.18910348578848168,-0.03773420295478995,0.35569388969071425,0.3775078099260814,-0.05789139835662759,0.2273942918189233,0.2686013945423932,0.4594474880724372,0.0,0.13405385327928676,0.2500840073869237,0.15817716318431296,0.036256088891144234,0.08976789047488323,0.6842471382346359,-0.1685790064082976,-0.9999999991075963,0.04364928040277791,-0.026636295110122332,-0.15505926212191182,-0.056370204848385036,-0.09259701572555734,-0.004601593574358656,-0.6363306383683024,0.8413598855628334,0.24400937276238854,0.034638014495674566,-0.003564570448528759,0.38486408361291957,0.14197144647443477,-0.0739174469589075,-0.13223926549956536,0.02992033856974638,0.25770850256874633,0.17890413371772101,-0.014255836923695336,0.09659041698772397,0.0017756396014571851,-0.08970729922537043,0.13296194265532,0.5160641954722628,0.35493238805624056],\"xaxis\":\"x2\",\"yaxis\":\"y2\",\"type\":\"box\"}],                        {\"template\":{\"data\":{\"scatter\":[{\"type\":\"scatter\"}]}},\"xaxis\":{\"anchor\":\"y\",\"domain\":[0.0,1.0],\"title\":{\"text\":\"volatile alpha - stable alpha\"},\"range\":[-1,1]},\"yaxis\":{\"anchor\":\"x\",\"domain\":[0.0,0.7326],\"title\":{\"text\":\"count\"}},\"xaxis2\":{\"anchor\":\"y2\",\"domain\":[0.0,1.0],\"matches\":\"x\",\"showticklabels\":false,\"showgrid\":true,\"range\":[-1,1]},\"yaxis2\":{\"anchor\":\"x2\",\"domain\":[0.7426,1.0],\"matches\":\"y2\",\"showticklabels\":false,\"showline\":false,\"ticks\":\"\",\"showgrid\":false},\"legend\":{\"title\":{\"text\":\"\"},\"tracegroupgap\":0},\"margin\":{\"t\":60},\"barmode\":\"overlay\",\"title\":{\"text\":\"learning rates fitted to participant data assuming multiplicative utility\"},\"showlegend\":false},                        {\"responsive\": true}                    ).then(function(){\n",
              "                            \n",
              "var gd = document.getElementById('ba03c76d-3ceb-455a-a2b8-e45aba6267bc');\n",
              "var x = new MutationObserver(function (mutations, observer) {{\n",
              "        var display = window.getComputedStyle(gd).display;\n",
              "        if (!display || display === 'none') {{\n",
              "            console.log([gd, 'removed!']);\n",
              "            Plotly.purge(gd);\n",
              "            observer.disconnect();\n",
              "        }}\n",
              "}});\n",
              "\n",
              "// Listen for the removal of the full notebook cells\n",
              "var notebookContainer = gd.closest('#notebook-container');\n",
              "if (notebookContainer) {{\n",
              "    x.observe(notebookContainer, {childList: true});\n",
              "}}\n",
              "\n",
              "// Listen for the clearing of the current output cell\n",
              "var outputEl = gd.closest('.output');\n",
              "if (outputEl) {{\n",
              "    x.observe(outputEl, {childList: true});\n",
              "}}\n",
              "\n",
              "                        })                };                            </script>        </div>\n",
              "</body>\n",
              "</html>"
            ]
          },
          "metadata": {}
        }
      ],
      "source": [
        "visualise_alpha_difference(data2AlphaMul.alphaStable, data2AlphaMul.alphaVolatile, 'learning rates fitted to participant data assuming multiplicative utility')"
      ]
    },
    {
      "cell_type": "markdown",
      "metadata": {
        "id": "7j3Cpa334VHv"
      },
      "source": [
        "If this data looks approximately normal (i.e., its distribution looks like a normal distribution), then we can perform a t-test to see whether this difference is larger than 0. This is done in the next code cell:"
      ]
    },
    {
      "cell_type": "code",
      "execution_count": null,
      "metadata": {
        "colab": {
          "base_uri": "https://localhost:8080/"
        },
        "id": "_2hC_r2o4VwO",
        "outputId": "07246af4-7bb7-4a6a-ccdf-7d0de435ac08"
      },
      "outputs": [
        {
          "output_type": "execute_result",
          "data": {
            "text/plain": [
              "TtestResult(statistic=3.724382075210764, pvalue=0.00018988506417620476, df=74)"
            ]
          },
          "metadata": {},
          "execution_count": 7
        }
      ],
      "source": [
        "ttest_1samp(data2AlphaMul.alphaVolatile - data2AlphaMul.alphaStable, 0, alternative = \"greater\")"
      ]
    },
    {
      "cell_type": "markdown",
      "metadata": {
        "id": "C0E6KzDm4jDV"
      },
      "source": [
        "How do you interpret this result? Do you think everything we have done in our analysis up until this point is valid?"
      ]
    },
    {
      "cell_type": "markdown",
      "metadata": {
        "id": "qAG8Bn-r5Mco"
      },
      "source": [
        "→ Type your answer here"
      ]
    },
    {
      "cell_type": "markdown",
      "metadata": {
        "id": "QfvLPMozqCIB"
      },
      "source": [
        "### Model comparisons\n",
        "\n",
        "While we found a significant result with our t-test, we can (and perhaps should) take a step back and ask ourselves whether the model we used to fit the learning rates was correct in the first place. Were we justified in fitting separate learning rates? Were we correct in assuming multiplicative utility, or should we have used some other utility function? Let us tackle the fist of these two questions now.\n",
        "\n",
        "We have now fitted the model to each participant twice, once assuming that $\\alpha$ has the same value in the volatile and the stable session, and once allowing it to take on a different value in each session. We now need to determine which of these model fits describes the participants' data better. This is a model comparison problem, where we have two competing models. To decide which test to use to perform this model comparison, we should first consider whether the two model fits we want to compare are nested or not. Models are nested if the more complex model (the one with more parameters) can be transformed into the simpler model by imposing constraints on the parameters. Do you think the two models we fitted to the data are nested or not?\n"
      ]
    },
    {
      "cell_type": "markdown",
      "metadata": {
        "id": "kPCt2GSLqltg"
      },
      "source": [
        "→ Type your answer here"
      ]
    },
    {
      "cell_type": "markdown",
      "metadata": {
        "id": "fhzf5cojcxra"
      },
      "source": [
        "\n",
        "For nested models only, we can test whether the more complex model (called the 'alternative model') describes the data better than the simpler model (called the 'null model') by performing a likelihood ratio test. The likelihood ratio test statistic can be computed as shown in this equation:\n",
        "\n",
        "$$\n",
        "\\underbrace{\\lambda_{\\textrm{LR}}}_\\textrm{likelihood ratio test statistic} = 2 \\log \\left( \\frac{\\textrm{likelihood for the alternative model}}{\\textrm{likelihood for the null model}} \\right)  \\tag{Equation 6}\n",
        "$$\n",
        "\n",
        "In our case, as described in the last session, we were fitting the models by finding the maximum of their log likelihood distributions. Another way of writing Equation 6 is by noticing that taking the log of a ratio is equal to subtracting the logs of the numerator and denominator.\n",
        "\n",
        "$$\n",
        "\\lambda_{\\textrm{LR}} = 2 \\left(\\log(\\textrm{likelihood for the alternative model}) - \\log (\\textrm{likelihood for the null model})\\right)  \\tag{Equation 7}\n",
        "$$\n",
        "\n",
        "Thus, Equation 7 is a handy way to express the likelihood ratio test statistic as it allows us to directly substitute our fitted log likelihoods into the equation. This is done in the next cell. Because we are dealing with log likelihoods, we can also just simply sum up the likelihoods of each individual participants' model fit to obtain the overall log likelihood of that model.\n",
        "\n",
        "\n"
      ]
    },
    {
      "cell_type": "code",
      "execution_count": null,
      "metadata": {
        "id": "gQuG3nUVtJ9N"
      },
      "outputs": [],
      "source": [
        "lambda_LR = 2*sum(data2AlphaMul.LL - data1AlphaMul.LL)\n"
      ]
    },
    {
      "cell_type": "markdown",
      "metadata": {
        "id": "oUerLL-H5NA-"
      },
      "source": [
        "This test statistic is neccessarily always positive because the log likelihood for the alternative model must be equal or larger than the log likelihood for the null model. Can you explain why this is true?  "
      ]
    },
    {
      "cell_type": "markdown",
      "metadata": {
        "id": "Eks3zq4y5jI2"
      },
      "source": [
        "→ Type your answer here"
      ]
    },
    {
      "cell_type": "markdown",
      "metadata": {
        "id": "6n3GxtnMtJIH"
      },
      "source": [
        "To get a p-value for this test statistic, we need to know what distribution it follows. According to [Wilks' theorem](https://en.wikipedia.org/wiki/Wilks%27_theorem), as the sample size approaches infinity, $\\lambda_{\\textrm{LR}}$ asymptotially approaches the $\\chi^2$ distribution under the null hypothesis, with degrees of freedom equal to the difference in parameters between the alternative and the null model. What do you think is this difference in parameters in our case? You also need to fill in the degrees of freedom in the next code cell that computes the p-value according to the $\\chi^2$ value of the likelihood ratio test statistic."
      ]
    },
    {
      "cell_type": "markdown",
      "metadata": {
        "id": "HqtcxySo6epo"
      },
      "source": [
        "→ Type your answer here"
      ]
    },
    {
      "cell_type": "code",
      "execution_count": null,
      "metadata": {
        "colab": {
          "base_uri": "https://localhost:8080/"
        },
        "id": "Di0_KlC2t0LJ",
        "outputId": "2c64eae6-601e-4c8e-f768-5495acda9b71"
      },
      "outputs": [
        {
          "output_type": "stream",
          "name": "stdout",
          "text": [
            "Chi2(75) = 392.64721782755316, p = 1.4682134222933858e-44\n"
          ]
        }
      ],
      "source": [
        "degrees_of_freedom = 75\n",
        "p_value = chi2.sf(lambda_LR, degrees_of_freedom)\n",
        "print('Chi2(' + str(degrees_of_freedom) + ') = ' + str(lambda_LR) + ', p = ' + str(p_value))"
      ]
    },
    {
      "cell_type": "markdown",
      "metadata": {
        "id": "_CzN8zYB6RSr"
      },
      "source": [
        "To understand this p-value and the likelihood ratio test a bit better, we can generate some simulated data where we know the ground truth, just like we did in the last session. First, let us simulate a dataset in which there is no difference between the learning rates in stable and volatile sessions and fit it just like we fitted the real data. This time, the dataset we simulate will use the exact same schedule that participants saw during the experiment. For simplicity, we will use the fitted learning rates in the stable session to now simulate behaviour both in the stable and the volatile session. We will also use the fitted inverse temperatures. Do you think this approach is sensible or could there be any potential problems with it? Because the simulation and fit might take a while, you can already run the next code cell while typing your answer."
      ]
    },
    {
      "cell_type": "markdown",
      "metadata": {
        "id": "eevD3rdq66Td"
      },
      "source": [
        "→ Type your answer here"
      ]
    },
    {
      "cell_type": "code",
      "execution_count": null,
      "metadata": {
        "colab": {
          "base_uri": "https://localhost:8080/",
          "height": 296
        },
        "id": "agLW74TtzOdN",
        "outputId": "6fec679e-7c73-417a-c81a-9c9d30d7dd7b"
      },
      "outputs": [
        {
          "output_type": "display_data",
          "data": {
            "text/plain": [
              "'fitting subject 0/75'"
            ],
            "application/vnd.google.colaboratory.intrinsic+json": {
              "type": "string"
            }
          },
          "metadata": {}
        },
        {
          "output_type": "display_data",
          "data": {
            "text/plain": [
              "'fitting subject 5/75'"
            ],
            "application/vnd.google.colaboratory.intrinsic+json": {
              "type": "string"
            }
          },
          "metadata": {}
        },
        {
          "output_type": "display_data",
          "data": {
            "text/plain": [
              "'fitting subject 10/75'"
            ],
            "application/vnd.google.colaboratory.intrinsic+json": {
              "type": "string"
            }
          },
          "metadata": {}
        },
        {
          "output_type": "display_data",
          "data": {
            "text/plain": [
              "'fitting subject 15/75'"
            ],
            "application/vnd.google.colaboratory.intrinsic+json": {
              "type": "string"
            }
          },
          "metadata": {}
        },
        {
          "output_type": "display_data",
          "data": {
            "text/plain": [
              "'fitting subject 20/75'"
            ],
            "application/vnd.google.colaboratory.intrinsic+json": {
              "type": "string"
            }
          },
          "metadata": {}
        },
        {
          "output_type": "display_data",
          "data": {
            "text/plain": [
              "'fitting subject 25/75'"
            ],
            "application/vnd.google.colaboratory.intrinsic+json": {
              "type": "string"
            }
          },
          "metadata": {}
        },
        {
          "output_type": "display_data",
          "data": {
            "text/plain": [
              "'fitting subject 30/75'"
            ],
            "application/vnd.google.colaboratory.intrinsic+json": {
              "type": "string"
            }
          },
          "metadata": {}
        },
        {
          "output_type": "display_data",
          "data": {
            "text/plain": [
              "'fitting subject 35/75'"
            ],
            "application/vnd.google.colaboratory.intrinsic+json": {
              "type": "string"
            }
          },
          "metadata": {}
        },
        {
          "output_type": "display_data",
          "data": {
            "text/plain": [
              "'fitting subject 40/75'"
            ],
            "application/vnd.google.colaboratory.intrinsic+json": {
              "type": "string"
            }
          },
          "metadata": {}
        },
        {
          "output_type": "display_data",
          "data": {
            "text/plain": [
              "'fitting subject 45/75'"
            ],
            "application/vnd.google.colaboratory.intrinsic+json": {
              "type": "string"
            }
          },
          "metadata": {}
        },
        {
          "output_type": "display_data",
          "data": {
            "text/plain": [
              "'fitting subject 50/75'"
            ],
            "application/vnd.google.colaboratory.intrinsic+json": {
              "type": "string"
            }
          },
          "metadata": {}
        },
        {
          "output_type": "display_data",
          "data": {
            "text/plain": [
              "'fitting subject 55/75'"
            ],
            "application/vnd.google.colaboratory.intrinsic+json": {
              "type": "string"
            }
          },
          "metadata": {}
        },
        {
          "output_type": "display_data",
          "data": {
            "text/plain": [
              "'fitting subject 60/75'"
            ],
            "application/vnd.google.colaboratory.intrinsic+json": {
              "type": "string"
            }
          },
          "metadata": {}
        },
        {
          "output_type": "display_data",
          "data": {
            "text/plain": [
              "'fitting subject 65/75'"
            ],
            "application/vnd.google.colaboratory.intrinsic+json": {
              "type": "string"
            }
          },
          "metadata": {}
        },
        {
          "output_type": "display_data",
          "data": {
            "text/plain": [
              "'fitting subject 70/75'"
            ],
            "application/vnd.google.colaboratory.intrinsic+json": {
              "type": "string"
            }
          },
          "metadata": {}
        }
      ],
      "source": [
        "data1AlphaMulSimSame, data2AlphaMulSimSame = fit_participant_data(\n",
        "    multiplicative_utility,\n",
        "    simulate=True,\n",
        "    alpha_S =\n",
        "    data2AlphaMul.alphaStable,\n",
        "    alpha_V = data2AlphaMul.alphaStable,\n",
        "    beta = data2AlphaMul.beta,\n",
        "    rng = rng)\n"
      ]
    },
    {
      "cell_type": "markdown",
      "metadata": {
        "id": "qtESsh967Chv"
      },
      "source": [
        "The next code cell visualises the recovered learning rates in the stable and the volatile sessions."
      ]
    },
    {
      "cell_type": "code",
      "execution_count": null,
      "metadata": {
        "colab": {
          "base_uri": "https://localhost:8080/",
          "height": 1000
        },
        "id": "g4XyLLJToK1-",
        "outputId": "ed274236-d696-4383-b955-5ff5421b8d06"
      },
      "outputs": [
        {
          "output_type": "display_data",
          "data": {
            "text/html": [
              "<html>\n",
              "<head><meta charset=\"utf-8\" /></head>\n",
              "<body>\n",
              "    <div>            <script src=\"https://cdnjs.cloudflare.com/ajax/libs/mathjax/2.7.5/MathJax.js?config=TeX-AMS-MML_SVG\"></script><script type=\"text/javascript\">if (window.MathJax && window.MathJax.Hub && window.MathJax.Hub.Config) {window.MathJax.Hub.Config({SVG: {font: \"STIX-Web\"}});}</script>                <script type=\"text/javascript\">window.PlotlyConfig = {MathJaxConfig: 'local'};</script>\n",
              "        <script charset=\"utf-8\" src=\"https://cdn.plot.ly/plotly-2.24.1.min.js\"></script>                <div id=\"1d0b4db4-9854-4a19-82dc-c311d5fe4680\" class=\"plotly-graph-div\" style=\"height:525px; width:100%;\"></div>            <script type=\"text/javascript\">                                    window.PLOTLYENV=window.PLOTLYENV || {};                                    if (document.getElementById(\"1d0b4db4-9854-4a19-82dc-c311d5fe4680\")) {                    Plotly.newPlot(                        \"1d0b4db4-9854-4a19-82dc-c311d5fe4680\",                        [{\"alignmentgroup\":\"True\",\"bingroup\":\"x\",\"hovertemplate\":\"variable=stable block\\u003cbr\\u003evalue=%{x}\\u003cbr\\u003ecount=%{y}\\u003cextra\\u003e\\u003c\\u002fextra\\u003e\",\"legendgroup\":\"stable block\",\"marker\":{\"color\":\"#1F77B4\",\"opacity\":0.5,\"pattern\":{\"shape\":\"\"}},\"name\":\"stable block\",\"offsetgroup\":\"stable block\",\"orientation\":\"v\",\"showlegend\":true,\"x\":[0.08231651270902128,0.04356103224997615,0.05871653367584592,0.11403070663705886,0.26694061651454415,0.060809258030097235,0.14812070845949524,0.01810942570471468,0.05942680338585248,0.09803351742903624,0.5125180383817326,0.07706727539954716,0.06395432067982584,0.2858291096293758,0.240882106972521,0.267285199829205,0.04126442086840781,0.35795649418973574,0.5082880244605914,0.3149616633701568,0.35830964683228567,0.033602719566258626,0.10928008732465201,0.8792549588141819,0.44690959396505114,0.28433579724514824,0.03289011516990197,0.17854527805543205,0.06244672151497447,0.006170097770751185,0.062068840883207424,0.10446711260908972,0.091984499053191,0.31644869033649137,0.05029738960147633,0.07138506438387864,0.1781569100393099,0.061010731094144795,0.623872524158739,0.32947676402772796,0.17586659509917957,0.9121232159518305,0.08041919800693416,0.2138412059319222,0.17767550493659914,0.0844804789895162,0.1453287428944474,0.13974256116435743,0.2592152264562557,0.9771737409618432,0.028077133310212873,0.07185198493805761,0.23903279445189862,0.037506502216386114,0.12098341983774784,1.6724594611400664e-07,0.5849864890858912,0.3672665588866201,0.3804311609605483,0.05731838281680039,0.020183246999075533,0.17962295054072203,0.0972415616095994,0.21630832862717103,0.10525071608211171,0.08704479886637041,0.37495073862628014,0.2746947630748687,0.05930319196926924,0.6185168941290314,0.14087126259238902,0.09259474950252568,0.08406668086367768,0.1919491909107861,0.2353241358539915],\"xaxis\":\"x\",\"yaxis\":\"y\",\"type\":\"histogram\",\"xbins\":{\"end\":1.0,\"size\":0.05,\"start\":0.0}},{\"alignmentgroup\":\"True\",\"hovertemplate\":\"variable=stable block\\u003cbr\\u003evalue=%{x}\\u003cextra\\u003e\\u003c\\u002fextra\\u003e\",\"legendgroup\":\"stable block\",\"marker\":{\"color\":\"#1F77B4\"},\"name\":\"stable block\",\"notched\":true,\"offsetgroup\":\"stable block\",\"showlegend\":false,\"x\":[0.08231651270902128,0.04356103224997615,0.05871653367584592,0.11403070663705886,0.26694061651454415,0.060809258030097235,0.14812070845949524,0.01810942570471468,0.05942680338585248,0.09803351742903624,0.5125180383817326,0.07706727539954716,0.06395432067982584,0.2858291096293758,0.240882106972521,0.267285199829205,0.04126442086840781,0.35795649418973574,0.5082880244605914,0.3149616633701568,0.35830964683228567,0.033602719566258626,0.10928008732465201,0.8792549588141819,0.44690959396505114,0.28433579724514824,0.03289011516990197,0.17854527805543205,0.06244672151497447,0.006170097770751185,0.062068840883207424,0.10446711260908972,0.091984499053191,0.31644869033649137,0.05029738960147633,0.07138506438387864,0.1781569100393099,0.061010731094144795,0.623872524158739,0.32947676402772796,0.17586659509917957,0.9121232159518305,0.08041919800693416,0.2138412059319222,0.17767550493659914,0.0844804789895162,0.1453287428944474,0.13974256116435743,0.2592152264562557,0.9771737409618432,0.028077133310212873,0.07185198493805761,0.23903279445189862,0.037506502216386114,0.12098341983774784,1.6724594611400664e-07,0.5849864890858912,0.3672665588866201,0.3804311609605483,0.05731838281680039,0.020183246999075533,0.17962295054072203,0.0972415616095994,0.21630832862717103,0.10525071608211171,0.08704479886637041,0.37495073862628014,0.2746947630748687,0.05930319196926924,0.6185168941290314,0.14087126259238902,0.09259474950252568,0.08406668086367768,0.1919491909107861,0.2353241358539915],\"xaxis\":\"x2\",\"yaxis\":\"y2\",\"type\":\"box\"},{\"alignmentgroup\":\"True\",\"bingroup\":\"x\",\"hovertemplate\":\"variable=volatile block\\u003cbr\\u003evalue=%{x}\\u003cbr\\u003ecount=%{y}\\u003cextra\\u003e\\u003c\\u002fextra\\u003e\",\"legendgroup\":\"volatile block\",\"marker\":{\"color\":\"#FF7F0E\",\"opacity\":0.5,\"pattern\":{\"shape\":\"\"}},\"name\":\"volatile block\",\"offsetgroup\":\"volatile block\",\"orientation\":\"v\",\"showlegend\":true,\"x\":[0.07153042099387767,0.02388109500014386,0.04620085213316721,0.12543954634949214,0.3740989519473508,0.07245817714012255,0.0886870513129715,0.036283404650509304,0.08983168192462386,0.13179622014231104,0.2095499764624167,0.0901774993076179,0.08265607699091496,0.28123970314063335,0.20234007860948547,0.4170640268666168,0.04900490011215963,0.2805921338447678,0.5407181045127466,0.19229477587821614,0.1539189834958035,0.12760123314402574,0.06825904472373902,0.8785004174942189,0.4649214655015469,0.1484111103384783,0.2099954449213352,0.4325528937408208,0.09606294363099875,0.11836096469558995,0.14069730034623323,0.07501185852047325,0.07222350283458391,0.19419359559455024,0.2705650231854466,0.06985712906360866,0.17083838021903439,0.0403206120652034,0.20004616336755124,0.32592478486684656,0.12218258125709727,0.9999995897439609,0.08603716337858186,0.12201711318559784,0.1403227647592222,0.053607792994269925,0.11704631251234776,0.09307440026500707,0.09798134454113211,0.9169128322715386,0.20913630803677438,0.10663511887914752,0.31717455358718344,0.04895329181103959,0.16286073253779887,1.6724594611400664e-07,0.6806725401711916,0.06302590863606214,0.6010008194103953,0.1391811604465853,0.024407347724625935,0.17928948861436672,0.14547483776604136,0.1412312719388617,0.12332562602506558,0.09840087250633246,0.06838379469531812,0.07158346147264975,0.08765520069478946,0.39766827067146837,0.26774850867697264,0.09615549238975502,0.10847559568253375,0.1582315515300033,0.07910098007686832],\"xaxis\":\"x\",\"yaxis\":\"y\",\"type\":\"histogram\",\"xbins\":{\"end\":1.0,\"size\":0.05,\"start\":0.0}},{\"alignmentgroup\":\"True\",\"hovertemplate\":\"variable=volatile block\\u003cbr\\u003evalue=%{x}\\u003cextra\\u003e\\u003c\\u002fextra\\u003e\",\"legendgroup\":\"volatile block\",\"marker\":{\"color\":\"#FF7F0E\"},\"name\":\"volatile block\",\"notched\":true,\"offsetgroup\":\"volatile block\",\"showlegend\":false,\"x\":[0.07153042099387767,0.02388109500014386,0.04620085213316721,0.12543954634949214,0.3740989519473508,0.07245817714012255,0.0886870513129715,0.036283404650509304,0.08983168192462386,0.13179622014231104,0.2095499764624167,0.0901774993076179,0.08265607699091496,0.28123970314063335,0.20234007860948547,0.4170640268666168,0.04900490011215963,0.2805921338447678,0.5407181045127466,0.19229477587821614,0.1539189834958035,0.12760123314402574,0.06825904472373902,0.8785004174942189,0.4649214655015469,0.1484111103384783,0.2099954449213352,0.4325528937408208,0.09606294363099875,0.11836096469558995,0.14069730034623323,0.07501185852047325,0.07222350283458391,0.19419359559455024,0.2705650231854466,0.06985712906360866,0.17083838021903439,0.0403206120652034,0.20004616336755124,0.32592478486684656,0.12218258125709727,0.9999995897439609,0.08603716337858186,0.12201711318559784,0.1403227647592222,0.053607792994269925,0.11704631251234776,0.09307440026500707,0.09798134454113211,0.9169128322715386,0.20913630803677438,0.10663511887914752,0.31717455358718344,0.04895329181103959,0.16286073253779887,1.6724594611400664e-07,0.6806725401711916,0.06302590863606214,0.6010008194103953,0.1391811604465853,0.024407347724625935,0.17928948861436672,0.14547483776604136,0.1412312719388617,0.12332562602506558,0.09840087250633246,0.06838379469531812,0.07158346147264975,0.08765520069478946,0.39766827067146837,0.26774850867697264,0.09615549238975502,0.10847559568253375,0.1582315515300033,0.07910098007686832],\"xaxis\":\"x2\",\"yaxis\":\"y2\",\"type\":\"box\"}],                        {\"template\":{\"data\":{\"scatter\":[{\"type\":\"scatter\"}]}},\"xaxis\":{\"anchor\":\"y\",\"domain\":[0.0,1.0],\"title\":{\"text\":\"learning rate\"},\"range\":[0,1]},\"yaxis\":{\"anchor\":\"x\",\"domain\":[0.0,0.7326],\"title\":{\"text\":\"count\"}},\"xaxis2\":{\"anchor\":\"y2\",\"domain\":[0.0,1.0],\"matches\":\"x\",\"showticklabels\":false,\"showgrid\":true,\"range\":[0,1]},\"yaxis2\":{\"anchor\":\"x2\",\"domain\":[0.7426,1.0],\"matches\":\"y2\",\"showticklabels\":false,\"showline\":false,\"ticks\":\"\",\"showgrid\":false},\"legend\":{\"title\":{\"text\":\"\"},\"tracegroupgap\":0},\"margin\":{\"t\":60},\"barmode\":\"overlay\",\"title\":{\"text\":\"recovered learning rates assuming multiplicative utility and no ground truth difference\"}},                        {\"responsive\": true}                    ).then(function(){\n",
              "                            \n",
              "var gd = document.getElementById('1d0b4db4-9854-4a19-82dc-c311d5fe4680');\n",
              "var x = new MutationObserver(function (mutations, observer) {{\n",
              "        var display = window.getComputedStyle(gd).display;\n",
              "        if (!display || display === 'none') {{\n",
              "            console.log([gd, 'removed!']);\n",
              "            Plotly.purge(gd);\n",
              "            observer.disconnect();\n",
              "        }}\n",
              "}});\n",
              "\n",
              "// Listen for the removal of the full notebook cells\n",
              "var notebookContainer = gd.closest('#notebook-container');\n",
              "if (notebookContainer) {{\n",
              "    x.observe(notebookContainer, {childList: true});\n",
              "}}\n",
              "\n",
              "// Listen for the clearing of the current output cell\n",
              "var outputEl = gd.closest('.output');\n",
              "if (outputEl) {{\n",
              "    x.observe(outputEl, {childList: true});\n",
              "}}\n",
              "\n",
              "                        })                };                            </script>        </div>\n",
              "</body>\n",
              "</html>"
            ]
          },
          "metadata": {}
        },
        {
          "output_type": "display_data",
          "data": {
            "text/html": [
              "<html>\n",
              "<head><meta charset=\"utf-8\" /></head>\n",
              "<body>\n",
              "    <div>            <script src=\"https://cdnjs.cloudflare.com/ajax/libs/mathjax/2.7.5/MathJax.js?config=TeX-AMS-MML_SVG\"></script><script type=\"text/javascript\">if (window.MathJax && window.MathJax.Hub && window.MathJax.Hub.Config) {window.MathJax.Hub.Config({SVG: {font: \"STIX-Web\"}});}</script>                <script type=\"text/javascript\">window.PlotlyConfig = {MathJaxConfig: 'local'};</script>\n",
              "        <script charset=\"utf-8\" src=\"https://cdn.plot.ly/plotly-2.24.1.min.js\"></script>                <div id=\"2eb6458f-a4a7-47d8-960d-b12b9e3249ab\" class=\"plotly-graph-div\" style=\"height:525px; width:100%;\"></div>            <script type=\"text/javascript\">                                    window.PLOTLYENV=window.PLOTLYENV || {};                                    if (document.getElementById(\"2eb6458f-a4a7-47d8-960d-b12b9e3249ab\")) {                    Plotly.newPlot(                        \"2eb6458f-a4a7-47d8-960d-b12b9e3249ab\",                        [{\"alignmentgroup\":\"True\",\"bingroup\":\"x\",\"hovertemplate\":\"variable=volatile alpha - stable alpha\\u003cbr\\u003evalue=%{x}\\u003cbr\\u003ecount=%{y}\\u003cextra\\u003e\\u003c\\u002fextra\\u003e\",\"legendgroup\":\"volatile alpha - stable alpha\",\"marker\":{\"color\":\"#1F77B4\",\"opacity\":0.5,\"pattern\":{\"shape\":\"\"}},\"name\":\"volatile alpha - stable alpha\",\"offsetgroup\":\"volatile alpha - stable alpha\",\"orientation\":\"v\",\"showlegend\":true,\"x\":[-0.010786091715143609,-0.019679937249832292,-0.012515681542678715,0.011408839712433283,0.10715833543280667,0.011648919110025316,-0.05943365714652374,0.018173978945794624,0.030404878538771378,0.033762702713274806,-0.3029680619193159,0.013110223908070734,0.018701756311089113,-0.0045894064887424535,-0.038542028363035524,0.1497788270374118,0.007740479243751826,-0.07736436034496796,0.0324300800521552,-0.12266688749194066,-0.20439066333648218,0.09399851357776712,-0.041021042600912994,-0.000754541319962998,0.01801187153649575,-0.13592468690666992,0.17710532975143323,0.25400761568538877,0.03361622211602428,0.11219086692483876,0.07862845946302581,-0.029455254088616475,-0.019760996218607094,-0.12225509474194113,0.22026763358397028,-0.0015279353202699714,-0.0073185298202755045,-0.020690119028941398,-0.42382636079118774,-0.003551979160881402,-0.053684013842082295,0.08787637379213031,0.005617965371647701,-0.09182409274632437,-0.03735274017737694,-0.030872685995246278,-0.028282430382099627,-0.04666816089935036,-0.1612338819151236,-0.06026090869030454,0.18105917472656152,0.03478313394108991,0.07814175913528482,0.011446789594653478,0.04187731270005103,0.0,0.09568605108530037,-0.3042406502505579,0.220569658449847,0.0818627776297849,0.0042241007255504025,-0.00033346192635530514,0.04823327615644196,-0.07507705668830933,0.018074909942953868,0.01135607363996205,-0.306566943930962,-0.2031113016022189,0.028352008725520225,-0.22084862345756306,0.12687724608458362,0.0035607428872293373,0.02440891481885607,-0.033717639380782816,-0.1562231557771232],\"xaxis\":\"x\",\"yaxis\":\"y\",\"type\":\"histogram\",\"xbins\":{\"end\":1.0,\"size\":0.1,\"start\":-1.0}},{\"alignmentgroup\":\"True\",\"hovertemplate\":\"variable=volatile alpha - stable alpha\\u003cbr\\u003evalue=%{x}\\u003cextra\\u003e\\u003c\\u002fextra\\u003e\",\"legendgroup\":\"volatile alpha - stable alpha\",\"marker\":{\"color\":\"#1F77B4\"},\"name\":\"volatile alpha - stable alpha\",\"notched\":true,\"offsetgroup\":\"volatile alpha - stable alpha\",\"showlegend\":false,\"x\":[-0.010786091715143609,-0.019679937249832292,-0.012515681542678715,0.011408839712433283,0.10715833543280667,0.011648919110025316,-0.05943365714652374,0.018173978945794624,0.030404878538771378,0.033762702713274806,-0.3029680619193159,0.013110223908070734,0.018701756311089113,-0.0045894064887424535,-0.038542028363035524,0.1497788270374118,0.007740479243751826,-0.07736436034496796,0.0324300800521552,-0.12266688749194066,-0.20439066333648218,0.09399851357776712,-0.041021042600912994,-0.000754541319962998,0.01801187153649575,-0.13592468690666992,0.17710532975143323,0.25400761568538877,0.03361622211602428,0.11219086692483876,0.07862845946302581,-0.029455254088616475,-0.019760996218607094,-0.12225509474194113,0.22026763358397028,-0.0015279353202699714,-0.0073185298202755045,-0.020690119028941398,-0.42382636079118774,-0.003551979160881402,-0.053684013842082295,0.08787637379213031,0.005617965371647701,-0.09182409274632437,-0.03735274017737694,-0.030872685995246278,-0.028282430382099627,-0.04666816089935036,-0.1612338819151236,-0.06026090869030454,0.18105917472656152,0.03478313394108991,0.07814175913528482,0.011446789594653478,0.04187731270005103,0.0,0.09568605108530037,-0.3042406502505579,0.220569658449847,0.0818627776297849,0.0042241007255504025,-0.00033346192635530514,0.04823327615644196,-0.07507705668830933,0.018074909942953868,0.01135607363996205,-0.306566943930962,-0.2031113016022189,0.028352008725520225,-0.22084862345756306,0.12687724608458362,0.0035607428872293373,0.02440891481885607,-0.033717639380782816,-0.1562231557771232],\"xaxis\":\"x2\",\"yaxis\":\"y2\",\"type\":\"box\"}],                        {\"template\":{\"data\":{\"scatter\":[{\"type\":\"scatter\"}]}},\"xaxis\":{\"anchor\":\"y\",\"domain\":[0.0,1.0],\"title\":{\"text\":\"volatile alpha - stable alpha\"},\"range\":[-1,1]},\"yaxis\":{\"anchor\":\"x\",\"domain\":[0.0,0.7326],\"title\":{\"text\":\"count\"}},\"xaxis2\":{\"anchor\":\"y2\",\"domain\":[0.0,1.0],\"matches\":\"x\",\"showticklabels\":false,\"showgrid\":true,\"range\":[-1,1]},\"yaxis2\":{\"anchor\":\"x2\",\"domain\":[0.7426,1.0],\"matches\":\"y2\",\"showticklabels\":false,\"showline\":false,\"ticks\":\"\",\"showgrid\":false},\"legend\":{\"title\":{\"text\":\"\"},\"tracegroupgap\":0},\"margin\":{\"t\":60},\"barmode\":\"overlay\",\"title\":{\"text\":\"\"},\"showlegend\":false},                        {\"responsive\": true}                    ).then(function(){\n",
              "                            \n",
              "var gd = document.getElementById('2eb6458f-a4a7-47d8-960d-b12b9e3249ab');\n",
              "var x = new MutationObserver(function (mutations, observer) {{\n",
              "        var display = window.getComputedStyle(gd).display;\n",
              "        if (!display || display === 'none') {{\n",
              "            console.log([gd, 'removed!']);\n",
              "            Plotly.purge(gd);\n",
              "            observer.disconnect();\n",
              "        }}\n",
              "}});\n",
              "\n",
              "// Listen for the removal of the full notebook cells\n",
              "var notebookContainer = gd.closest('#notebook-container');\n",
              "if (notebookContainer) {{\n",
              "    x.observe(notebookContainer, {childList: true});\n",
              "}}\n",
              "\n",
              "// Listen for the clearing of the current output cell\n",
              "var outputEl = gd.closest('.output');\n",
              "if (outputEl) {{\n",
              "    x.observe(outputEl, {childList: true});\n",
              "}}\n",
              "\n",
              "                        })                };                            </script>        </div>\n",
              "</body>\n",
              "</html>"
            ]
          },
          "metadata": {}
        }
      ],
      "source": [
        "visualise_alpha_distributions(data2AlphaMulSimSame.alphaStable, data2AlphaMulSimSame.alphaVolatile, 'recovered learning rates assuming multiplicative utility and no ground truth difference')\n",
        "visualise_alpha_difference(data2AlphaMulSimSame.alphaStable, data2AlphaMulSimSame.alphaVolatile, '')"
      ]
    },
    {
      "cell_type": "markdown",
      "metadata": {
        "id": "idXpcqk07JxY"
      },
      "source": [
        "We can now perform a likelihood ratio test on the recoverd learning rates to determine whether we can reject the (true) null hypothesis that they are equal in the stable and volatile session. Before running the next code cell, predict whether you expect this p-value to be signficant or not, and why."
      ]
    },
    {
      "cell_type": "markdown",
      "metadata": {
        "id": "-o9CgFyu7f9S"
      },
      "source": [
        "→ Type your answer here"
      ]
    },
    {
      "cell_type": "code",
      "execution_count": null,
      "metadata": {
        "colab": {
          "base_uri": "https://localhost:8080/"
        },
        "id": "jxJcVBiBz7RG",
        "outputId": "db9517e0-dadd-4603-a22c-bac330ce15f6"
      },
      "outputs": [
        {
          "output_type": "stream",
          "name": "stdout",
          "text": [
            "Chi2(75) = 64.30812379347073, p = 0.8059759852768995\n"
          ]
        }
      ],
      "source": [
        "lambda_LR = 2*sum(data2AlphaMulSimSame.LL - data1AlphaMulSimSame.LL)\n",
        "p_value = chi2.sf(lambda_LR, degrees_of_freedom)\n",
        "print('Chi2(' + str(degrees_of_freedom) + ') = ' + str(lambda_LR) + ', p = ' + str(p_value))"
      ]
    },
    {
      "cell_type": "markdown",
      "metadata": {
        "id": "hwszio7-7goX"
      },
      "source": [
        "To contextualise this result and the likelihood ratio test even further, we will now run one more simulation. Now we will be using the same learning rates in the stable and the volatile sessions, but we will randomly shuffle the order of the learning rates in the volatile session. That is, we will use the same distribution of learning rates but which learning rate is used to simualte data for each participant will be different in the volatile sessions."
      ]
    },
    {
      "cell_type": "code",
      "execution_count": null,
      "metadata": {
        "colab": {
          "base_uri": "https://localhost:8080/",
          "height": 296
        },
        "id": "PPsfY1jZow2h",
        "outputId": "51e0efb9-cea3-4670-a1b2-57222d97b03d"
      },
      "outputs": [
        {
          "output_type": "display_data",
          "data": {
            "text/plain": [
              "'fitting subject 0/75'"
            ],
            "application/vnd.google.colaboratory.intrinsic+json": {
              "type": "string"
            }
          },
          "metadata": {}
        },
        {
          "output_type": "display_data",
          "data": {
            "text/plain": [
              "'fitting subject 5/75'"
            ],
            "application/vnd.google.colaboratory.intrinsic+json": {
              "type": "string"
            }
          },
          "metadata": {}
        },
        {
          "output_type": "display_data",
          "data": {
            "text/plain": [
              "'fitting subject 10/75'"
            ],
            "application/vnd.google.colaboratory.intrinsic+json": {
              "type": "string"
            }
          },
          "metadata": {}
        },
        {
          "output_type": "display_data",
          "data": {
            "text/plain": [
              "'fitting subject 15/75'"
            ],
            "application/vnd.google.colaboratory.intrinsic+json": {
              "type": "string"
            }
          },
          "metadata": {}
        },
        {
          "output_type": "display_data",
          "data": {
            "text/plain": [
              "'fitting subject 20/75'"
            ],
            "application/vnd.google.colaboratory.intrinsic+json": {
              "type": "string"
            }
          },
          "metadata": {}
        },
        {
          "output_type": "display_data",
          "data": {
            "text/plain": [
              "'fitting subject 25/75'"
            ],
            "application/vnd.google.colaboratory.intrinsic+json": {
              "type": "string"
            }
          },
          "metadata": {}
        },
        {
          "output_type": "display_data",
          "data": {
            "text/plain": [
              "'fitting subject 30/75'"
            ],
            "application/vnd.google.colaboratory.intrinsic+json": {
              "type": "string"
            }
          },
          "metadata": {}
        },
        {
          "output_type": "display_data",
          "data": {
            "text/plain": [
              "'fitting subject 35/75'"
            ],
            "application/vnd.google.colaboratory.intrinsic+json": {
              "type": "string"
            }
          },
          "metadata": {}
        },
        {
          "output_type": "display_data",
          "data": {
            "text/plain": [
              "'fitting subject 40/75'"
            ],
            "application/vnd.google.colaboratory.intrinsic+json": {
              "type": "string"
            }
          },
          "metadata": {}
        },
        {
          "output_type": "display_data",
          "data": {
            "text/plain": [
              "'fitting subject 45/75'"
            ],
            "application/vnd.google.colaboratory.intrinsic+json": {
              "type": "string"
            }
          },
          "metadata": {}
        },
        {
          "output_type": "display_data",
          "data": {
            "text/plain": [
              "'fitting subject 50/75'"
            ],
            "application/vnd.google.colaboratory.intrinsic+json": {
              "type": "string"
            }
          },
          "metadata": {}
        },
        {
          "output_type": "display_data",
          "data": {
            "text/plain": [
              "'fitting subject 55/75'"
            ],
            "application/vnd.google.colaboratory.intrinsic+json": {
              "type": "string"
            }
          },
          "metadata": {}
        },
        {
          "output_type": "display_data",
          "data": {
            "text/plain": [
              "'fitting subject 60/75'"
            ],
            "application/vnd.google.colaboratory.intrinsic+json": {
              "type": "string"
            }
          },
          "metadata": {}
        },
        {
          "output_type": "display_data",
          "data": {
            "text/plain": [
              "'fitting subject 65/75'"
            ],
            "application/vnd.google.colaboratory.intrinsic+json": {
              "type": "string"
            }
          },
          "metadata": {}
        },
        {
          "output_type": "display_data",
          "data": {
            "text/plain": [
              "'fitting subject 70/75'"
            ],
            "application/vnd.google.colaboratory.intrinsic+json": {
              "type": "string"
            }
          },
          "metadata": {}
        }
      ],
      "source": [
        "data1AlphaMulSimShuffled, data2AlphaMulSimShuffled = fit_participant_data(\n",
        "    multiplicative_utility,\n",
        "    simulate=True,\n",
        "    alpha_S = data2AlphaMul.alphaStable,\n",
        "    alpha_V = rng.permutation(data2AlphaMul.alphaStable),\n",
        "    beta = data2AlphaMul.beta,\n",
        "    rng = rng)"
      ]
    },
    {
      "cell_type": "markdown",
      "metadata": {
        "id": "7tOi2bhg75Eo"
      },
      "source": [
        "The next cell plots the recovered distributions of learning rates."
      ]
    },
    {
      "cell_type": "code",
      "execution_count": null,
      "metadata": {
        "colab": {
          "base_uri": "https://localhost:8080/",
          "height": 1000
        },
        "id": "9dEhDaHypC2s",
        "outputId": "582ea91c-86b0-48d3-accf-559e9e5d34cf"
      },
      "outputs": [
        {
          "output_type": "display_data",
          "data": {
            "text/html": [
              "<html>\n",
              "<head><meta charset=\"utf-8\" /></head>\n",
              "<body>\n",
              "    <div>            <script src=\"https://cdnjs.cloudflare.com/ajax/libs/mathjax/2.7.5/MathJax.js?config=TeX-AMS-MML_SVG\"></script><script type=\"text/javascript\">if (window.MathJax && window.MathJax.Hub && window.MathJax.Hub.Config) {window.MathJax.Hub.Config({SVG: {font: \"STIX-Web\"}});}</script>                <script type=\"text/javascript\">window.PlotlyConfig = {MathJaxConfig: 'local'};</script>\n",
              "        <script charset=\"utf-8\" src=\"https://cdn.plot.ly/plotly-2.24.1.min.js\"></script>                <div id=\"824b7bd6-9b15-43bf-b8f6-534ad128f4fb\" class=\"plotly-graph-div\" style=\"height:525px; width:100%;\"></div>            <script type=\"text/javascript\">                                    window.PLOTLYENV=window.PLOTLYENV || {};                                    if (document.getElementById(\"824b7bd6-9b15-43bf-b8f6-534ad128f4fb\")) {                    Plotly.newPlot(                        \"824b7bd6-9b15-43bf-b8f6-534ad128f4fb\",                        [{\"alignmentgroup\":\"True\",\"bingroup\":\"x\",\"hovertemplate\":\"variable=stable block\\u003cbr\\u003evalue=%{x}\\u003cbr\\u003ecount=%{y}\\u003cextra\\u003e\\u003c\\u002fextra\\u003e\",\"legendgroup\":\"stable block\",\"marker\":{\"color\":\"#1F77B4\",\"opacity\":0.5,\"pattern\":{\"shape\":\"\"}},\"name\":\"stable block\",\"offsetgroup\":\"stable block\",\"orientation\":\"v\",\"showlegend\":true,\"x\":[0.06487010849882524,0.08030884942911753,0.054857087687198755,0.16587782123347997,0.16883098939829108,0.20620281373517102,0.13594055622280715,0.024522888645481588,0.0698093419467863,0.14102402048502213,0.08426121078539266,0.0653837764223867,0.07907069469961685,0.2470708188977976,0.35850666572762796,0.41265876874502344,0.04106834556273239,0.35959382181777094,0.5479330051634625,0.08582281015177823,0.153311572097351,0.09543453912272179,0.06586138815528647,0.5912202660249606,0.0165253545194618,0.32995587726568604,0.05524183063126375,0.498714671005558,0.04246274913098588,0.694665540526102,0.20877781700534345,0.10289161175154019,0.09106088645313318,0.349824323672276,0.1370154135546684,0.2999137041896503,0.29026595923141657,0.0476553888827307,0.055791542831068304,0.1258555896651324,0.09029431773044846,0.9999999999999969,0.12462844255339847,0.20843165482515877,0.18724752390864863,0.13989940590909922,0.077705040598591,0.12480957417501848,0.2552086430697849,0.07533785680626119,0.10676779475734083,0.19670443056826145,0.07862336060337845,0.03171670288213391,0.16891137852302163,0.02061886568814392,0.6333299906790028,0.9353224016224941,0.5858398898599229,0.10511910166927224,0.044704445420780205,0.0756334609185503,0.09010309506877516,0.2589154297549162,0.11335515938059494,0.15183723188385126,0.3849310921739214,0.12279866694687111,0.11019042397703369,0.882929841917087,0.21717905898604473,0.11132399266646624,0.4637138100405914,0.11598734585388651,0.05924124802930052],\"xaxis\":\"x\",\"yaxis\":\"y\",\"type\":\"histogram\",\"xbins\":{\"end\":1.0,\"size\":0.05,\"start\":0.0}},{\"alignmentgroup\":\"True\",\"hovertemplate\":\"variable=stable block\\u003cbr\\u003evalue=%{x}\\u003cextra\\u003e\\u003c\\u002fextra\\u003e\",\"legendgroup\":\"stable block\",\"marker\":{\"color\":\"#1F77B4\"},\"name\":\"stable block\",\"notched\":true,\"offsetgroup\":\"stable block\",\"showlegend\":false,\"x\":[0.06487010849882524,0.08030884942911753,0.054857087687198755,0.16587782123347997,0.16883098939829108,0.20620281373517102,0.13594055622280715,0.024522888645481588,0.0698093419467863,0.14102402048502213,0.08426121078539266,0.0653837764223867,0.07907069469961685,0.2470708188977976,0.35850666572762796,0.41265876874502344,0.04106834556273239,0.35959382181777094,0.5479330051634625,0.08582281015177823,0.153311572097351,0.09543453912272179,0.06586138815528647,0.5912202660249606,0.0165253545194618,0.32995587726568604,0.05524183063126375,0.498714671005558,0.04246274913098588,0.694665540526102,0.20877781700534345,0.10289161175154019,0.09106088645313318,0.349824323672276,0.1370154135546684,0.2999137041896503,0.29026595923141657,0.0476553888827307,0.055791542831068304,0.1258555896651324,0.09029431773044846,0.9999999999999969,0.12462844255339847,0.20843165482515877,0.18724752390864863,0.13989940590909922,0.077705040598591,0.12480957417501848,0.2552086430697849,0.07533785680626119,0.10676779475734083,0.19670443056826145,0.07862336060337845,0.03171670288213391,0.16891137852302163,0.02061886568814392,0.6333299906790028,0.9353224016224941,0.5858398898599229,0.10511910166927224,0.044704445420780205,0.0756334609185503,0.09010309506877516,0.2589154297549162,0.11335515938059494,0.15183723188385126,0.3849310921739214,0.12279866694687111,0.11019042397703369,0.882929841917087,0.21717905898604473,0.11132399266646624,0.4637138100405914,0.11598734585388651,0.05924124802930052],\"xaxis\":\"x2\",\"yaxis\":\"y2\",\"type\":\"box\"},{\"alignmentgroup\":\"True\",\"bingroup\":\"x\",\"hovertemplate\":\"variable=volatile block\\u003cbr\\u003evalue=%{x}\\u003cbr\\u003ecount=%{y}\\u003cextra\\u003e\\u003c\\u002fextra\\u003e\",\"legendgroup\":\"volatile block\",\"marker\":{\"color\":\"#FF7F0E\",\"opacity\":0.5,\"pattern\":{\"shape\":\"\"}},\"name\":\"volatile block\",\"offsetgroup\":\"volatile block\",\"orientation\":\"v\",\"showlegend\":true,\"x\":[0.12309562820614509,0.15244138919752498,0.12728050858897066,0.2672835167136929,0.1046099509211069,0.1121202889769847,0.11458671633619415,0.14052751625920484,0.14271351450282554,0.1668401535127836,0.09564079196504398,0.09050681556622212,0.09555262102424175,0.08909570850789068,0.1604952702621859,0.08817497191394932,0.06799713359471148,0.12324531763993858,0.20247886958904618,0.07562270005619103,0.2335880018932666,0.34505501091664376,0.6178420941549264,0.4632867184614613,0.13063968087744018,0.2549387094735948,0.17179440720188344,0.14504227870829553,0.07855514237391849,0.9999975721272021,0.4171361993870607,0.13127372366129902,0.038837234966645415,0.10460281819280284,0.20081202428394265,0.17804553482844912,0.16471651468762186,0.9999999975511189,0.26630526541166805,0.06892213800662901,0.21766510151721463,3.874056213234462e-08,0.3073596662317731,0.23970371052375433,0.16518511891864682,0.9786010576346424,0.31438187195856937,0.12997208626447998,0.11305705148985548,0.08553597186411299,0.11791620378114843,0.09624199300475716,0.013339946615564147,0.0797787231208081,0.24910670248178385,0.6520312188452281,0.25530905941381243,0.8783750906286336,0.1617236297403995,0.06681887413556077,0.0933212870578337,0.6528139658233852,0.1191386679393708,0.13860827902705575,0.27136284304489156,0.17894540395482975,0.23340813057781745,0.4613018690925295,0.21336477913443824,0.009689413837414309,0.6771883104899249,0.24085639393245734,0.23998100120826224,0.05843642176751981,0.26800158205883545],\"xaxis\":\"x\",\"yaxis\":\"y\",\"type\":\"histogram\",\"xbins\":{\"end\":1.0,\"size\":0.05,\"start\":0.0}},{\"alignmentgroup\":\"True\",\"hovertemplate\":\"variable=volatile block\\u003cbr\\u003evalue=%{x}\\u003cextra\\u003e\\u003c\\u002fextra\\u003e\",\"legendgroup\":\"volatile block\",\"marker\":{\"color\":\"#FF7F0E\"},\"name\":\"volatile block\",\"notched\":true,\"offsetgroup\":\"volatile block\",\"showlegend\":false,\"x\":[0.12309562820614509,0.15244138919752498,0.12728050858897066,0.2672835167136929,0.1046099509211069,0.1121202889769847,0.11458671633619415,0.14052751625920484,0.14271351450282554,0.1668401535127836,0.09564079196504398,0.09050681556622212,0.09555262102424175,0.08909570850789068,0.1604952702621859,0.08817497191394932,0.06799713359471148,0.12324531763993858,0.20247886958904618,0.07562270005619103,0.2335880018932666,0.34505501091664376,0.6178420941549264,0.4632867184614613,0.13063968087744018,0.2549387094735948,0.17179440720188344,0.14504227870829553,0.07855514237391849,0.9999975721272021,0.4171361993870607,0.13127372366129902,0.038837234966645415,0.10460281819280284,0.20081202428394265,0.17804553482844912,0.16471651468762186,0.9999999975511189,0.26630526541166805,0.06892213800662901,0.21766510151721463,3.874056213234462e-08,0.3073596662317731,0.23970371052375433,0.16518511891864682,0.9786010576346424,0.31438187195856937,0.12997208626447998,0.11305705148985548,0.08553597186411299,0.11791620378114843,0.09624199300475716,0.013339946615564147,0.0797787231208081,0.24910670248178385,0.6520312188452281,0.25530905941381243,0.8783750906286336,0.1617236297403995,0.06681887413556077,0.0933212870578337,0.6528139658233852,0.1191386679393708,0.13860827902705575,0.27136284304489156,0.17894540395482975,0.23340813057781745,0.4613018690925295,0.21336477913443824,0.009689413837414309,0.6771883104899249,0.24085639393245734,0.23998100120826224,0.05843642176751981,0.26800158205883545],\"xaxis\":\"x2\",\"yaxis\":\"y2\",\"type\":\"box\"}],                        {\"template\":{\"data\":{\"scatter\":[{\"type\":\"scatter\"}]}},\"xaxis\":{\"anchor\":\"y\",\"domain\":[0.0,1.0],\"title\":{\"text\":\"learning rate\"},\"range\":[0,1]},\"yaxis\":{\"anchor\":\"x\",\"domain\":[0.0,0.7326],\"title\":{\"text\":\"count\"}},\"xaxis2\":{\"anchor\":\"y2\",\"domain\":[0.0,1.0],\"matches\":\"x\",\"showticklabels\":false,\"showgrid\":true,\"range\":[0,1]},\"yaxis2\":{\"anchor\":\"x2\",\"domain\":[0.7426,1.0],\"matches\":\"y2\",\"showticklabels\":false,\"showline\":false,\"ticks\":\"\",\"showgrid\":false},\"legend\":{\"title\":{\"text\":\"\"},\"tracegroupgap\":0},\"margin\":{\"t\":60},\"barmode\":\"overlay\",\"title\":{\"text\":\"recovered learning rates assuming multiplicative utility and shuffled ground truth\"}},                        {\"responsive\": true}                    ).then(function(){\n",
              "                            \n",
              "var gd = document.getElementById('824b7bd6-9b15-43bf-b8f6-534ad128f4fb');\n",
              "var x = new MutationObserver(function (mutations, observer) {{\n",
              "        var display = window.getComputedStyle(gd).display;\n",
              "        if (!display || display === 'none') {{\n",
              "            console.log([gd, 'removed!']);\n",
              "            Plotly.purge(gd);\n",
              "            observer.disconnect();\n",
              "        }}\n",
              "}});\n",
              "\n",
              "// Listen for the removal of the full notebook cells\n",
              "var notebookContainer = gd.closest('#notebook-container');\n",
              "if (notebookContainer) {{\n",
              "    x.observe(notebookContainer, {childList: true});\n",
              "}}\n",
              "\n",
              "// Listen for the clearing of the current output cell\n",
              "var outputEl = gd.closest('.output');\n",
              "if (outputEl) {{\n",
              "    x.observe(outputEl, {childList: true});\n",
              "}}\n",
              "\n",
              "                        })                };                            </script>        </div>\n",
              "</body>\n",
              "</html>"
            ]
          },
          "metadata": {}
        },
        {
          "output_type": "display_data",
          "data": {
            "text/html": [
              "<html>\n",
              "<head><meta charset=\"utf-8\" /></head>\n",
              "<body>\n",
              "    <div>            <script src=\"https://cdnjs.cloudflare.com/ajax/libs/mathjax/2.7.5/MathJax.js?config=TeX-AMS-MML_SVG\"></script><script type=\"text/javascript\">if (window.MathJax && window.MathJax.Hub && window.MathJax.Hub.Config) {window.MathJax.Hub.Config({SVG: {font: \"STIX-Web\"}});}</script>                <script type=\"text/javascript\">window.PlotlyConfig = {MathJaxConfig: 'local'};</script>\n",
              "        <script charset=\"utf-8\" src=\"https://cdn.plot.ly/plotly-2.24.1.min.js\"></script>                <div id=\"8cb2dca9-853c-4986-8815-9d27ec415dcf\" class=\"plotly-graph-div\" style=\"height:525px; width:100%;\"></div>            <script type=\"text/javascript\">                                    window.PLOTLYENV=window.PLOTLYENV || {};                                    if (document.getElementById(\"8cb2dca9-853c-4986-8815-9d27ec415dcf\")) {                    Plotly.newPlot(                        \"8cb2dca9-853c-4986-8815-9d27ec415dcf\",                        [{\"alignmentgroup\":\"True\",\"bingroup\":\"x\",\"hovertemplate\":\"variable=volatile alpha - stable alpha\\u003cbr\\u003evalue=%{x}\\u003cbr\\u003ecount=%{y}\\u003cextra\\u003e\\u003c\\u002fextra\\u003e\",\"legendgroup\":\"volatile alpha - stable alpha\",\"marker\":{\"color\":\"#1F77B4\",\"opacity\":0.5,\"pattern\":{\"shape\":\"\"}},\"name\":\"volatile alpha - stable alpha\",\"offsetgroup\":\"volatile alpha - stable alpha\",\"orientation\":\"v\",\"showlegend\":true,\"x\":[0.058225519707319845,0.07213253976840744,0.07242342090177191,0.10140569548021292,-0.06422103847718418,-0.09408252475818632,-0.021353839886613005,0.11600462761372325,0.07290417255603925,0.02581613302776148,0.011379581179651321,0.025123039143835416,0.016481926324624904,-0.15797511038990691,-0.19801139546544205,-0.3244837968310741,0.026928788031979088,-0.23634850417783237,-0.3454541355744164,-0.010200110095587203,0.0802764297959156,0.24962047179392197,0.55198070599964,-0.12793354756349928,0.11411432635797839,-0.07501716779209122,0.11655257657061968,-0.35367239229726244,0.036092393242932605,0.3053320316011001,0.20835838238171725,0.02838211190975884,-0.05222365148648776,-0.24522150547947316,0.06379661072927426,-0.12186816936120118,-0.1255494445437947,0.9523446086683882,0.21051372258059975,-0.0569334516585034,0.12737078378676617,-0.9999999612594348,0.1827312236783746,0.03127205569859556,-0.02206240499000181,0.8387016517255432,0.23667683135997836,0.005162512089461502,-0.14215159157992943,0.0101981150578518,0.011148409023807607,-0.10046243756350429,-0.0652834139878143,0.04806202023867419,0.08019532395876222,0.6314123531570841,-0.3780209312651903,-0.05694731099386052,-0.42411626011952336,-0.03830022753371147,0.048616841637053494,0.577180504904835,0.029035572870595633,-0.12030715072786047,0.15800768366429663,0.027108172070978487,-0.15152296159610396,0.33850320214565843,0.10317435515740456,-0.8732404280796727,0.46000925150388017,0.12953240126599108,-0.22373280883232918,-0.0575509240863667,0.20876033402953492],\"xaxis\":\"x\",\"yaxis\":\"y\",\"type\":\"histogram\",\"xbins\":{\"end\":1.0,\"size\":0.1,\"start\":-1.0}},{\"alignmentgroup\":\"True\",\"hovertemplate\":\"variable=volatile alpha - stable alpha\\u003cbr\\u003evalue=%{x}\\u003cextra\\u003e\\u003c\\u002fextra\\u003e\",\"legendgroup\":\"volatile alpha - stable alpha\",\"marker\":{\"color\":\"#1F77B4\"},\"name\":\"volatile alpha - stable alpha\",\"notched\":true,\"offsetgroup\":\"volatile alpha - stable alpha\",\"showlegend\":false,\"x\":[0.058225519707319845,0.07213253976840744,0.07242342090177191,0.10140569548021292,-0.06422103847718418,-0.09408252475818632,-0.021353839886613005,0.11600462761372325,0.07290417255603925,0.02581613302776148,0.011379581179651321,0.025123039143835416,0.016481926324624904,-0.15797511038990691,-0.19801139546544205,-0.3244837968310741,0.026928788031979088,-0.23634850417783237,-0.3454541355744164,-0.010200110095587203,0.0802764297959156,0.24962047179392197,0.55198070599964,-0.12793354756349928,0.11411432635797839,-0.07501716779209122,0.11655257657061968,-0.35367239229726244,0.036092393242932605,0.3053320316011001,0.20835838238171725,0.02838211190975884,-0.05222365148648776,-0.24522150547947316,0.06379661072927426,-0.12186816936120118,-0.1255494445437947,0.9523446086683882,0.21051372258059975,-0.0569334516585034,0.12737078378676617,-0.9999999612594348,0.1827312236783746,0.03127205569859556,-0.02206240499000181,0.8387016517255432,0.23667683135997836,0.005162512089461502,-0.14215159157992943,0.0101981150578518,0.011148409023807607,-0.10046243756350429,-0.0652834139878143,0.04806202023867419,0.08019532395876222,0.6314123531570841,-0.3780209312651903,-0.05694731099386052,-0.42411626011952336,-0.03830022753371147,0.048616841637053494,0.577180504904835,0.029035572870595633,-0.12030715072786047,0.15800768366429663,0.027108172070978487,-0.15152296159610396,0.33850320214565843,0.10317435515740456,-0.8732404280796727,0.46000925150388017,0.12953240126599108,-0.22373280883232918,-0.0575509240863667,0.20876033402953492],\"xaxis\":\"x2\",\"yaxis\":\"y2\",\"type\":\"box\"}],                        {\"template\":{\"data\":{\"scatter\":[{\"type\":\"scatter\"}]}},\"xaxis\":{\"anchor\":\"y\",\"domain\":[0.0,1.0],\"title\":{\"text\":\"volatile alpha - stable alpha\"},\"range\":[-1,1]},\"yaxis\":{\"anchor\":\"x\",\"domain\":[0.0,0.7326],\"title\":{\"text\":\"count\"}},\"xaxis2\":{\"anchor\":\"y2\",\"domain\":[0.0,1.0],\"matches\":\"x\",\"showticklabels\":false,\"showgrid\":true,\"range\":[-1,1]},\"yaxis2\":{\"anchor\":\"x2\",\"domain\":[0.7426,1.0],\"matches\":\"y2\",\"showticklabels\":false,\"showline\":false,\"ticks\":\"\",\"showgrid\":false},\"legend\":{\"title\":{\"text\":\"\"},\"tracegroupgap\":0},\"margin\":{\"t\":60},\"barmode\":\"overlay\",\"title\":{\"text\":\"\"},\"showlegend\":false},                        {\"responsive\": true}                    ).then(function(){\n",
              "                            \n",
              "var gd = document.getElementById('8cb2dca9-853c-4986-8815-9d27ec415dcf');\n",
              "var x = new MutationObserver(function (mutations, observer) {{\n",
              "        var display = window.getComputedStyle(gd).display;\n",
              "        if (!display || display === 'none') {{\n",
              "            console.log([gd, 'removed!']);\n",
              "            Plotly.purge(gd);\n",
              "            observer.disconnect();\n",
              "        }}\n",
              "}});\n",
              "\n",
              "// Listen for the removal of the full notebook cells\n",
              "var notebookContainer = gd.closest('#notebook-container');\n",
              "if (notebookContainer) {{\n",
              "    x.observe(notebookContainer, {childList: true});\n",
              "}}\n",
              "\n",
              "// Listen for the clearing of the current output cell\n",
              "var outputEl = gd.closest('.output');\n",
              "if (outputEl) {{\n",
              "    x.observe(outputEl, {childList: true});\n",
              "}}\n",
              "\n",
              "                        })                };                            </script>        </div>\n",
              "</body>\n",
              "</html>"
            ]
          },
          "metadata": {}
        }
      ],
      "source": [
        "visualise_alpha_distributions(data2AlphaMulSimShuffled.alphaStable, data2AlphaMulSimShuffled.alphaVolatile, 'recovered learning rates assuming multiplicative utility and shuffled ground truth')\n",
        "visualise_alpha_difference(data2AlphaMulSimShuffled.alphaStable, data2AlphaMulSimShuffled.alphaVolatile, '')"
      ]
    },
    {
      "cell_type": "markdown",
      "metadata": {
        "id": "T95Sq8Fi790B"
      },
      "source": [
        "We can now again perform a likelihood ratio test. Before running the next code cell, predict whether the p-value you obtain will be significant. That is, for this simulated dataset, can we reject the null hypothesis that the learning rates in the stable and the volatile sessions are equal?"
      ]
    },
    {
      "cell_type": "markdown",
      "metadata": {
        "id": "ec1_co6N8Qmp"
      },
      "source": [
        "→ Type your answer here"
      ]
    },
    {
      "cell_type": "code",
      "execution_count": null,
      "metadata": {
        "colab": {
          "base_uri": "https://localhost:8080/"
        },
        "id": "3hFyV2gMtBk3",
        "outputId": "73d73c8e-c0eb-471b-d9b1-77a9f21ce1bb"
      },
      "outputs": [
        {
          "output_type": "stream",
          "name": "stdout",
          "text": [
            "Chi2(75) = 366.19170687899555, p = 6.499949011663557e-40\n"
          ]
        }
      ],
      "source": [
        "lambda_LR = 2*sum(data2AlphaMulSimShuffled.LL - data1AlphaMulSimShuffled.LL)\n",
        "p_value = chi2.sf(lambda_LR, degrees_of_freedom)\n",
        "print('Chi2(' + str(degrees_of_freedom) + ') = ' + str(lambda_LR) + ', p = ' + str(p_value))"
      ]
    },
    {
      "cell_type": "markdown",
      "metadata": {
        "id": "BvVBiPEv7PWI"
      },
      "source": [
        "## Additive Utility\n",
        "\n",
        "We have now determined whether a model assuming two learning rates is a better fit to the data than a model assuming one learning rate. However, all the above analyses assumed that participants employ multiplicative utility. Let us now explore whether some other utility function provides a better fit. To do so, the next code cell will fit the participant data using additive utility. Run the next code cell, which might take a while, and continue with the next section while the model is being fit to the data."
      ]
    },
    {
      "cell_type": "code",
      "execution_count": null,
      "metadata": {
        "colab": {
          "base_uri": "https://localhost:8080/",
          "height": 296
        },
        "id": "GkB8UwM-PSlP",
        "outputId": "44d40ab0-fca2-43f6-a767-f5498591e6a7"
      },
      "outputs": [
        {
          "output_type": "display_data",
          "data": {
            "text/plain": [
              "'fitting subject 0/75'"
            ],
            "application/vnd.google.colaboratory.intrinsic+json": {
              "type": "string"
            }
          },
          "metadata": {}
        },
        {
          "output_type": "display_data",
          "data": {
            "text/plain": [
              "'fitting subject 5/75'"
            ],
            "application/vnd.google.colaboratory.intrinsic+json": {
              "type": "string"
            }
          },
          "metadata": {}
        },
        {
          "output_type": "display_data",
          "data": {
            "text/plain": [
              "'fitting subject 10/75'"
            ],
            "application/vnd.google.colaboratory.intrinsic+json": {
              "type": "string"
            }
          },
          "metadata": {}
        },
        {
          "output_type": "display_data",
          "data": {
            "text/plain": [
              "'fitting subject 15/75'"
            ],
            "application/vnd.google.colaboratory.intrinsic+json": {
              "type": "string"
            }
          },
          "metadata": {}
        },
        {
          "output_type": "display_data",
          "data": {
            "text/plain": [
              "'fitting subject 20/75'"
            ],
            "application/vnd.google.colaboratory.intrinsic+json": {
              "type": "string"
            }
          },
          "metadata": {}
        },
        {
          "output_type": "display_data",
          "data": {
            "text/plain": [
              "'fitting subject 25/75'"
            ],
            "application/vnd.google.colaboratory.intrinsic+json": {
              "type": "string"
            }
          },
          "metadata": {}
        },
        {
          "output_type": "display_data",
          "data": {
            "text/plain": [
              "'fitting subject 30/75'"
            ],
            "application/vnd.google.colaboratory.intrinsic+json": {
              "type": "string"
            }
          },
          "metadata": {}
        },
        {
          "output_type": "display_data",
          "data": {
            "text/plain": [
              "'fitting subject 35/75'"
            ],
            "application/vnd.google.colaboratory.intrinsic+json": {
              "type": "string"
            }
          },
          "metadata": {}
        },
        {
          "output_type": "display_data",
          "data": {
            "text/plain": [
              "'fitting subject 40/75'"
            ],
            "application/vnd.google.colaboratory.intrinsic+json": {
              "type": "string"
            }
          },
          "metadata": {}
        },
        {
          "output_type": "display_data",
          "data": {
            "text/plain": [
              "'fitting subject 45/75'"
            ],
            "application/vnd.google.colaboratory.intrinsic+json": {
              "type": "string"
            }
          },
          "metadata": {}
        },
        {
          "output_type": "display_data",
          "data": {
            "text/plain": [
              "'fitting subject 50/75'"
            ],
            "application/vnd.google.colaboratory.intrinsic+json": {
              "type": "string"
            }
          },
          "metadata": {}
        },
        {
          "output_type": "display_data",
          "data": {
            "text/plain": [
              "'fitting subject 55/75'"
            ],
            "application/vnd.google.colaboratory.intrinsic+json": {
              "type": "string"
            }
          },
          "metadata": {}
        },
        {
          "output_type": "display_data",
          "data": {
            "text/plain": [
              "'fitting subject 60/75'"
            ],
            "application/vnd.google.colaboratory.intrinsic+json": {
              "type": "string"
            }
          },
          "metadata": {}
        },
        {
          "output_type": "display_data",
          "data": {
            "text/plain": [
              "'fitting subject 65/75'"
            ],
            "application/vnd.google.colaboratory.intrinsic+json": {
              "type": "string"
            }
          },
          "metadata": {}
        },
        {
          "output_type": "display_data",
          "data": {
            "text/plain": [
              "'fitting subject 70/75'"
            ],
            "application/vnd.google.colaboratory.intrinsic+json": {
              "type": "string"
            }
          },
          "metadata": {}
        }
      ],
      "source": [
        "data1AlphaAdd, data2AlphaAdd = fit_participant_data(additive_utility, method = 'Nelder-Mead')"
      ]
    },
    {
      "cell_type": "markdown",
      "metadata": {
        "id": "36kWN9l3Ov9j"
      },
      "source": [
        "### Model comparisons"
      ]
    },
    {
      "cell_type": "markdown",
      "metadata": {
        "id": "KwF5EaaWjjpW"
      },
      "source": [
        "To do a model comparison between a model using multiplicative utility and a model using additive utility, we again first have to determine whether the two models are nested or not. Why do you think they are nested or not nested?"
      ]
    },
    {
      "cell_type": "markdown",
      "metadata": {
        "id": "IOfQVx2ejwR_"
      },
      "source": [
        "→ Type your answer here"
      ]
    },
    {
      "cell_type": "markdown",
      "metadata": {
        "id": "VkjmFNSL5pvd"
      },
      "source": [
        "For nested models, we established earlier that the likelihood for the model with more parameters is always equal or greater than the likelihood of the model with less parameters. Is this also true for non-nested models (i.e., that the likelihood of the model with more parameters is equal or greater than the likelihood of the model with less parameters)?"
      ]
    },
    {
      "cell_type": "markdown",
      "metadata": {
        "id": "fTGjMJod55qT"
      },
      "source": [
        "→ Type your answer here"
      ]
    },
    {
      "cell_type": "markdown",
      "metadata": {
        "id": "Zp0KqbyxEqWb"
      },
      "source": [
        "For models that are not nested, we are not allowed to do a likelihood ratio test. An alternative to a likelihood ratio is to compute the Bayesian information criterion (BIC) for each model and compare these. Unlike for likelihood ratio tests, we cannot compute a p-value when comparing models using BICs. As such, the BIC should be regarded as more of a heuristic for model comparison rather than a statistal test. BICs can be computed using the following equation:\n",
        "\n",
        "$$ \\textrm{BIC} = k \\log (n)- 2 \\log (\\textrm{likelihood}) \\tag{Equation 3}$$\n",
        "\n",
        "where $k$ is the number of free parameters of the model and $n$ is the number of data points (or observations, trials, etc.). A model with a lower BIC is considered the better model. This is also reflected in the formula: consider two models A and B fitted to the same dataset that have the same likelihood, but model A has more free parameters $k$ than model B. In this case, model B will have a lower BIC as it manages to achieve the same goodness of fit (i.e. likelihood) with less degrees of freedom.\n",
        "\n",
        "Once the model fit with additive utility has finished running above, you can plot the fitted learning rates using the code below:"
      ]
    },
    {
      "cell_type": "code",
      "execution_count": null,
      "metadata": {
        "colab": {
          "base_uri": "https://localhost:8080/",
          "height": 1000
        },
        "id": "9SfajT-cDIzK",
        "outputId": "ac216225-ab82-424a-8811-f54a315e98c5"
      },
      "outputs": [
        {
          "output_type": "display_data",
          "data": {
            "text/html": [
              "<html>\n",
              "<head><meta charset=\"utf-8\" /></head>\n",
              "<body>\n",
              "    <div>            <script src=\"https://cdnjs.cloudflare.com/ajax/libs/mathjax/2.7.5/MathJax.js?config=TeX-AMS-MML_SVG\"></script><script type=\"text/javascript\">if (window.MathJax && window.MathJax.Hub && window.MathJax.Hub.Config) {window.MathJax.Hub.Config({SVG: {font: \"STIX-Web\"}});}</script>                <script type=\"text/javascript\">window.PlotlyConfig = {MathJaxConfig: 'local'};</script>\n",
              "        <script charset=\"utf-8\" src=\"https://cdn.plot.ly/plotly-2.24.1.min.js\"></script>                <div id=\"253f8df4-cb1f-48a0-a30e-af4ac4d5c852\" class=\"plotly-graph-div\" style=\"height:525px; width:100%;\"></div>            <script type=\"text/javascript\">                                    window.PLOTLYENV=window.PLOTLYENV || {};                                    if (document.getElementById(\"253f8df4-cb1f-48a0-a30e-af4ac4d5c852\")) {                    Plotly.newPlot(                        \"253f8df4-cb1f-48a0-a30e-af4ac4d5c852\",                        [{\"alignmentgroup\":\"True\",\"bingroup\":\"x\",\"hovertemplate\":\"variable=stable block\\u003cbr\\u003evalue=%{x}\\u003cbr\\u003ecount=%{y}\\u003cextra\\u003e\\u003c\\u002fextra\\u003e\",\"legendgroup\":\"stable block\",\"marker\":{\"color\":\"#1F77B4\",\"opacity\":0.5,\"pattern\":{\"shape\":\"\"}},\"name\":\"stable block\",\"offsetgroup\":\"stable block\",\"orientation\":\"v\",\"showlegend\":true,\"x\":[0.17929147004768567,0.0568144941666881,0.08272207862364887,0.09635934979582719,0.09590641634507491,0.045914348982680465,0.06651115438999218,0.13924132618041465,0.0656063753951388,0.1039137307925614,0.1348126689130498,0.09569629808822529,0.04484673069825233,0.03570530809353339,0.015228806549611736,0.12251176304335185,0.08729552891313809,0.27719634477448907,0.702867914713071,0.3242381042083139,0.10055465863683923,0.0885337138230919,0.061757752254805724,0.5036141954186611,0.14040845241508867,0.004049637689859704,0.16632959379412504,0.37809454743945836,0.14839874685092316,0.0380503997975104,0.0021953950732316804,0.07226481857658916,0.06869723958924079,0.07759473592597693,0.10576254729194579,0.11234314363767683,0.22021212851528998,0.07554347465159829,0.09839615537071943,0.08633648088236001,0.10656666177863779,0.6832880498378107,0.14202872279317746,0.14492010022048418,0.14419814534136868,0.09095147853311948,0.15944262311181415,0.13095063452468308,0.1117291507924687,1.0,0.13493060331646126,0.08608328530994615,0.15074071913344986,0.07162536747615858,0.1363355164425356,1.0,0.612995932316947,0.03669687205093629,0.30997225982857274,0.12352891949822813,0.0014898260515719497,0.09600551847126952,0.15002415189237078,0.0247596625261212,0.12377638910022254,0.18464965703277703,0.17185452573669951,0.09790524441630732,0.09411331016804557,0.6201279172740288,0.1420633338784624,0.13010545600676307,0.08334689951953558,0.1587478993361692,0.12904949754694045],\"xaxis\":\"x\",\"yaxis\":\"y\",\"type\":\"histogram\",\"xbins\":{\"end\":1.0,\"size\":0.05,\"start\":0.0}},{\"alignmentgroup\":\"True\",\"hovertemplate\":\"variable=stable block\\u003cbr\\u003evalue=%{x}\\u003cextra\\u003e\\u003c\\u002fextra\\u003e\",\"legendgroup\":\"stable block\",\"marker\":{\"color\":\"#1F77B4\"},\"name\":\"stable block\",\"notched\":true,\"offsetgroup\":\"stable block\",\"showlegend\":false,\"x\":[0.17929147004768567,0.0568144941666881,0.08272207862364887,0.09635934979582719,0.09590641634507491,0.045914348982680465,0.06651115438999218,0.13924132618041465,0.0656063753951388,0.1039137307925614,0.1348126689130498,0.09569629808822529,0.04484673069825233,0.03570530809353339,0.015228806549611736,0.12251176304335185,0.08729552891313809,0.27719634477448907,0.702867914713071,0.3242381042083139,0.10055465863683923,0.0885337138230919,0.061757752254805724,0.5036141954186611,0.14040845241508867,0.004049637689859704,0.16632959379412504,0.37809454743945836,0.14839874685092316,0.0380503997975104,0.0021953950732316804,0.07226481857658916,0.06869723958924079,0.07759473592597693,0.10576254729194579,0.11234314363767683,0.22021212851528998,0.07554347465159829,0.09839615537071943,0.08633648088236001,0.10656666177863779,0.6832880498378107,0.14202872279317746,0.14492010022048418,0.14419814534136868,0.09095147853311948,0.15944262311181415,0.13095063452468308,0.1117291507924687,1.0,0.13493060331646126,0.08608328530994615,0.15074071913344986,0.07162536747615858,0.1363355164425356,1.0,0.612995932316947,0.03669687205093629,0.30997225982857274,0.12352891949822813,0.0014898260515719497,0.09600551847126952,0.15002415189237078,0.0247596625261212,0.12377638910022254,0.18464965703277703,0.17185452573669951,0.09790524441630732,0.09411331016804557,0.6201279172740288,0.1420633338784624,0.13010545600676307,0.08334689951953558,0.1587478993361692,0.12904949754694045],\"xaxis\":\"x2\",\"yaxis\":\"y2\",\"type\":\"box\"},{\"alignmentgroup\":\"True\",\"bingroup\":\"x\",\"hovertemplate\":\"variable=volatile block\\u003cbr\\u003evalue=%{x}\\u003cbr\\u003ecount=%{y}\\u003cextra\\u003e\\u003c\\u002fextra\\u003e\",\"legendgroup\":\"volatile block\",\"marker\":{\"color\":\"#FF7F0E\",\"opacity\":0.5,\"pattern\":{\"shape\":\"\"}},\"name\":\"volatile block\",\"offsetgroup\":\"volatile block\",\"orientation\":\"v\",\"showlegend\":true,\"x\":[0.5288876633762365,0.2171430207038116,0.1759016139683537,0.5092382527074859,1.7313643511645925e-16,0.021842150290372075,0.3451232478873555,0.42304390124831603,0.5134092278350568,0.5238726687724649,0.41574372982783797,0.18922666818375358,8.7488117994733635e-16,0.5101750359999797,0.3322528594801731,0.1126375010524136,0.06645701918984342,0.5080391377268264,0.9999999993049071,0.4455261276074278,0.03689981435082487,3.285732822341445e-17,0.07383720726867511,0.3729877579397314,0.46647489760785693,0.005939151041675107,2.61010032279736e-16,0.015986459169407146,0.22109750387485133,0.0012323880314232569,0.00019532850101097482,0.40205660517406827,0.024631091166532927,0.006286819128938546,0.06035826583890111,0.45090385950398204,0.5649899986435633,0.010577475879457149,0.05677006897214623,0.3239019348931101,0.47393858651051346,0.872169877808697,0.20094959121311656,0.2977768097471833,0.3314644311701435,0.19130496011094048,0.26370659700250965,0.7092515272162393,0.019161225006575786,0.7277841905773142,0.006001266160608937,0.0616111456240224,8.676923300226601e-15,2.9985887521496467e-15,0.06113672059523547,0.9129078374827234,0.014870924576929144,0.03960221648161206,0.5436689563728468,0.16732377844849422,0.002809511617643474,0.42897740965165615,0.3162837954697556,0.02061132158756497,0.001542021940137467,0.18468432991814562,0.4075181126040144,0.2750904406188503,0.05698938411295461,0.7138326608592556,0.1082903468160445,0.02345708183514877,0.06914228738146458,0.5245350786087344,0.41677666562892973],\"xaxis\":\"x\",\"yaxis\":\"y\",\"type\":\"histogram\",\"xbins\":{\"end\":1.0,\"size\":0.05,\"start\":0.0}},{\"alignmentgroup\":\"True\",\"hovertemplate\":\"variable=volatile block\\u003cbr\\u003evalue=%{x}\\u003cextra\\u003e\\u003c\\u002fextra\\u003e\",\"legendgroup\":\"volatile block\",\"marker\":{\"color\":\"#FF7F0E\"},\"name\":\"volatile block\",\"notched\":true,\"offsetgroup\":\"volatile block\",\"showlegend\":false,\"x\":[0.5288876633762365,0.2171430207038116,0.1759016139683537,0.5092382527074859,1.7313643511645925e-16,0.021842150290372075,0.3451232478873555,0.42304390124831603,0.5134092278350568,0.5238726687724649,0.41574372982783797,0.18922666818375358,8.7488117994733635e-16,0.5101750359999797,0.3322528594801731,0.1126375010524136,0.06645701918984342,0.5080391377268264,0.9999999993049071,0.4455261276074278,0.03689981435082487,3.285732822341445e-17,0.07383720726867511,0.3729877579397314,0.46647489760785693,0.005939151041675107,2.61010032279736e-16,0.015986459169407146,0.22109750387485133,0.0012323880314232569,0.00019532850101097482,0.40205660517406827,0.024631091166532927,0.006286819128938546,0.06035826583890111,0.45090385950398204,0.5649899986435633,0.010577475879457149,0.05677006897214623,0.3239019348931101,0.47393858651051346,0.872169877808697,0.20094959121311656,0.2977768097471833,0.3314644311701435,0.19130496011094048,0.26370659700250965,0.7092515272162393,0.019161225006575786,0.7277841905773142,0.006001266160608937,0.0616111456240224,8.676923300226601e-15,2.9985887521496467e-15,0.06113672059523547,0.9129078374827234,0.014870924576929144,0.03960221648161206,0.5436689563728468,0.16732377844849422,0.002809511617643474,0.42897740965165615,0.3162837954697556,0.02061132158756497,0.001542021940137467,0.18468432991814562,0.4075181126040144,0.2750904406188503,0.05698938411295461,0.7138326608592556,0.1082903468160445,0.02345708183514877,0.06914228738146458,0.5245350786087344,0.41677666562892973],\"xaxis\":\"x2\",\"yaxis\":\"y2\",\"type\":\"box\"}],                        {\"template\":{\"data\":{\"scatter\":[{\"type\":\"scatter\"}]}},\"xaxis\":{\"anchor\":\"y\",\"domain\":[0.0,1.0],\"title\":{\"text\":\"learning rate\"},\"range\":[0,1]},\"yaxis\":{\"anchor\":\"x\",\"domain\":[0.0,0.7326],\"title\":{\"text\":\"count\"}},\"xaxis2\":{\"anchor\":\"y2\",\"domain\":[0.0,1.0],\"matches\":\"x\",\"showticklabels\":false,\"showgrid\":true,\"range\":[0,1]},\"yaxis2\":{\"anchor\":\"x2\",\"domain\":[0.7426,1.0],\"matches\":\"y2\",\"showticklabels\":false,\"showline\":false,\"ticks\":\"\",\"showgrid\":false},\"legend\":{\"title\":{\"text\":\"\"},\"tracegroupgap\":0},\"margin\":{\"t\":60},\"barmode\":\"overlay\",\"title\":{\"text\":\"fitted learning rates assuming additive utility\"}},                        {\"responsive\": true}                    ).then(function(){\n",
              "                            \n",
              "var gd = document.getElementById('253f8df4-cb1f-48a0-a30e-af4ac4d5c852');\n",
              "var x = new MutationObserver(function (mutations, observer) {{\n",
              "        var display = window.getComputedStyle(gd).display;\n",
              "        if (!display || display === 'none') {{\n",
              "            console.log([gd, 'removed!']);\n",
              "            Plotly.purge(gd);\n",
              "            observer.disconnect();\n",
              "        }}\n",
              "}});\n",
              "\n",
              "// Listen for the removal of the full notebook cells\n",
              "var notebookContainer = gd.closest('#notebook-container');\n",
              "if (notebookContainer) {{\n",
              "    x.observe(notebookContainer, {childList: true});\n",
              "}}\n",
              "\n",
              "// Listen for the clearing of the current output cell\n",
              "var outputEl = gd.closest('.output');\n",
              "if (outputEl) {{\n",
              "    x.observe(outputEl, {childList: true});\n",
              "}}\n",
              "\n",
              "                        })                };                            </script>        </div>\n",
              "</body>\n",
              "</html>"
            ]
          },
          "metadata": {}
        },
        {
          "output_type": "display_data",
          "data": {
            "text/html": [
              "<html>\n",
              "<head><meta charset=\"utf-8\" /></head>\n",
              "<body>\n",
              "    <div>            <script src=\"https://cdnjs.cloudflare.com/ajax/libs/mathjax/2.7.5/MathJax.js?config=TeX-AMS-MML_SVG\"></script><script type=\"text/javascript\">if (window.MathJax && window.MathJax.Hub && window.MathJax.Hub.Config) {window.MathJax.Hub.Config({SVG: {font: \"STIX-Web\"}});}</script>                <script type=\"text/javascript\">window.PlotlyConfig = {MathJaxConfig: 'local'};</script>\n",
              "        <script charset=\"utf-8\" src=\"https://cdn.plot.ly/plotly-2.24.1.min.js\"></script>                <div id=\"f4650612-3bb6-4978-96fc-c159f56efadb\" class=\"plotly-graph-div\" style=\"height:525px; width:100%;\"></div>            <script type=\"text/javascript\">                                    window.PLOTLYENV=window.PLOTLYENV || {};                                    if (document.getElementById(\"f4650612-3bb6-4978-96fc-c159f56efadb\")) {                    Plotly.newPlot(                        \"f4650612-3bb6-4978-96fc-c159f56efadb\",                        [{\"alignmentgroup\":\"True\",\"bingroup\":\"x\",\"hovertemplate\":\"variable=volatile alpha - stable alpha\\u003cbr\\u003evalue=%{x}\\u003cbr\\u003ecount=%{y}\\u003cextra\\u003e\\u003c\\u002fextra\\u003e\",\"legendgroup\":\"volatile alpha - stable alpha\",\"marker\":{\"color\":\"#1F77B4\",\"opacity\":0.5,\"pattern\":{\"shape\":\"\"}},\"name\":\"volatile alpha - stable alpha\",\"offsetgroup\":\"volatile alpha - stable alpha\",\"orientation\":\"v\",\"showlegend\":true,\"x\":[0.34959619332855085,0.1603285265371235,0.09317953534470481,0.41287890291165874,-0.09590641634507474,-0.02407219869230839,0.2786120934973633,0.2838025750679014,0.447802852439918,0.41995893797990347,0.28093106091478814,0.0935303700955283,-0.04484673069825146,0.4744697279064463,0.31702405293056135,-0.009874261990938243,-0.020838509723294665,0.23084279295233734,0.29713208459183615,0.12128802339911393,-0.06365484428601435,-0.08853371382309187,0.012079455013869388,-0.13062643747892977,0.3260664451927683,0.001889513351815403,-0.1663295937941248,-0.3621080882700512,0.07269875702392817,-0.03681801176608714,-0.0020000665722207057,0.3297917865974791,-0.04406614842270786,-0.07130791679703838,-0.045404281453044676,0.3385607158663052,0.34477787012827327,-0.06496599877214114,-0.041626086398573195,0.23756545401075008,0.3673719247318757,0.18888182797088637,0.0589208684199391,0.1528567095266991,0.18726628582877483,0.100353481577821,0.1042639738906955,0.5783008926915563,-0.09256792578589292,-0.27221580942268575,-0.1289293371558523,-0.024472139685923745,-0.15074071913344117,-0.07162536747615558,-0.07519879584730013,-0.08709216251727658,-0.5981250077400179,0.00290534443067577,0.2336966965442741,0.043794858950266094,0.0013196855660715242,0.3329718911803866,0.16625964357738482,-0.00414834093855623,-0.12223436716008507,3.467288536859736e-05,0.23566358686731487,0.17718519620254297,-0.03712392605509096,0.09370474358522674,-0.033772987062417895,-0.1066483741716143,-0.014204612138071004,0.3657871792725652,0.2877271680819893],\"xaxis\":\"x\",\"yaxis\":\"y\",\"type\":\"histogram\",\"xbins\":{\"end\":1.0,\"size\":0.1,\"start\":-1.0}},{\"alignmentgroup\":\"True\",\"hovertemplate\":\"variable=volatile alpha - stable alpha\\u003cbr\\u003evalue=%{x}\\u003cextra\\u003e\\u003c\\u002fextra\\u003e\",\"legendgroup\":\"volatile alpha - stable alpha\",\"marker\":{\"color\":\"#1F77B4\"},\"name\":\"volatile alpha - stable alpha\",\"notched\":true,\"offsetgroup\":\"volatile alpha - stable alpha\",\"showlegend\":false,\"x\":[0.34959619332855085,0.1603285265371235,0.09317953534470481,0.41287890291165874,-0.09590641634507474,-0.02407219869230839,0.2786120934973633,0.2838025750679014,0.447802852439918,0.41995893797990347,0.28093106091478814,0.0935303700955283,-0.04484673069825146,0.4744697279064463,0.31702405293056135,-0.009874261990938243,-0.020838509723294665,0.23084279295233734,0.29713208459183615,0.12128802339911393,-0.06365484428601435,-0.08853371382309187,0.012079455013869388,-0.13062643747892977,0.3260664451927683,0.001889513351815403,-0.1663295937941248,-0.3621080882700512,0.07269875702392817,-0.03681801176608714,-0.0020000665722207057,0.3297917865974791,-0.04406614842270786,-0.07130791679703838,-0.045404281453044676,0.3385607158663052,0.34477787012827327,-0.06496599877214114,-0.041626086398573195,0.23756545401075008,0.3673719247318757,0.18888182797088637,0.0589208684199391,0.1528567095266991,0.18726628582877483,0.100353481577821,0.1042639738906955,0.5783008926915563,-0.09256792578589292,-0.27221580942268575,-0.1289293371558523,-0.024472139685923745,-0.15074071913344117,-0.07162536747615558,-0.07519879584730013,-0.08709216251727658,-0.5981250077400179,0.00290534443067577,0.2336966965442741,0.043794858950266094,0.0013196855660715242,0.3329718911803866,0.16625964357738482,-0.00414834093855623,-0.12223436716008507,3.467288536859736e-05,0.23566358686731487,0.17718519620254297,-0.03712392605509096,0.09370474358522674,-0.033772987062417895,-0.1066483741716143,-0.014204612138071004,0.3657871792725652,0.2877271680819893],\"xaxis\":\"x2\",\"yaxis\":\"y2\",\"type\":\"box\"}],                        {\"template\":{\"data\":{\"scatter\":[{\"type\":\"scatter\"}]}},\"xaxis\":{\"anchor\":\"y\",\"domain\":[0.0,1.0],\"title\":{\"text\":\"volatile alpha - stable alpha\"},\"range\":[-1,1]},\"yaxis\":{\"anchor\":\"x\",\"domain\":[0.0,0.7326],\"title\":{\"text\":\"count\"}},\"xaxis2\":{\"anchor\":\"y2\",\"domain\":[0.0,1.0],\"matches\":\"x\",\"showticklabels\":false,\"showgrid\":true,\"range\":[-1,1]},\"yaxis2\":{\"anchor\":\"x2\",\"domain\":[0.7426,1.0],\"matches\":\"y2\",\"showticklabels\":false,\"showline\":false,\"ticks\":\"\",\"showgrid\":false},\"legend\":{\"title\":{\"text\":\"\"},\"tracegroupgap\":0},\"margin\":{\"t\":60},\"barmode\":\"overlay\",\"title\":{\"text\":\"\"},\"showlegend\":false},                        {\"responsive\": true}                    ).then(function(){\n",
              "                            \n",
              "var gd = document.getElementById('f4650612-3bb6-4978-96fc-c159f56efadb');\n",
              "var x = new MutationObserver(function (mutations, observer) {{\n",
              "        var display = window.getComputedStyle(gd).display;\n",
              "        if (!display || display === 'none') {{\n",
              "            console.log([gd, 'removed!']);\n",
              "            Plotly.purge(gd);\n",
              "            observer.disconnect();\n",
              "        }}\n",
              "}});\n",
              "\n",
              "// Listen for the removal of the full notebook cells\n",
              "var notebookContainer = gd.closest('#notebook-container');\n",
              "if (notebookContainer) {{\n",
              "    x.observe(notebookContainer, {childList: true});\n",
              "}}\n",
              "\n",
              "// Listen for the clearing of the current output cell\n",
              "var outputEl = gd.closest('.output');\n",
              "if (outputEl) {{\n",
              "    x.observe(outputEl, {childList: true});\n",
              "}}\n",
              "\n",
              "                        })                };                            </script>        </div>\n",
              "</body>\n",
              "</html>"
            ]
          },
          "metadata": {}
        }
      ],
      "source": [
        "visualise_alpha_distributions(data2AlphaAdd.alphaStable, data2AlphaAdd.alphaVolatile, 'fitted learning rates assuming additive utility')\n",
        "visualise_alpha_difference(data2AlphaAdd.alphaStable, data2AlphaAdd.alphaVolatile, '')"
      ]
    },
    {
      "cell_type": "markdown",
      "metadata": {
        "id": "0eF_vblv61bj"
      },
      "source": [
        "To compare the BICs of the two models, run the next code cell. What does the BIC comparison suggest?"
      ]
    },
    {
      "cell_type": "code",
      "execution_count": null,
      "metadata": {
        "colab": {
          "base_uri": "https://localhost:8080/"
        },
        "id": "d-1Lj7y2fhPj",
        "outputId": "a119baaa-9b76-4060-ef2d-327de70dfcfc"
      },
      "outputs": [
        {
          "output_type": "stream",
          "name": "stdout",
          "text": [
            "BIC assuming additive utility and two learning rates: 9874.125421398447\n",
            "BIC assuming multiplicative utility and two learning rates: 10645.212704314894\n"
          ]
        }
      ],
      "source": [
        "print('BIC assuming additive utility and two learning rates: ' + str(sum(data2AlphaAdd.BIC)))\n",
        "print('BIC assuming multiplicative utility and two learning rates: ' + str(sum(data2AlphaMul.BIC)))"
      ]
    },
    {
      "cell_type": "markdown",
      "metadata": {
        "id": "75B9IUCV6_x8"
      },
      "source": [
        "→ Type your answer here"
      ]
    },
    {
      "cell_type": "markdown",
      "metadata": {
        "id": "byzrQDYM7Keg"
      },
      "source": [
        "Just like we did before, we can also perform a t-test to check if the learning rates are larger in the volatile session:"
      ]
    },
    {
      "cell_type": "code",
      "execution_count": null,
      "metadata": {
        "colab": {
          "base_uri": "https://localhost:8080/"
        },
        "id": "FUaH4miZ7Ryq",
        "outputId": "92d7cc05-0a62-498a-d56b-128c498a9003"
      },
      "outputs": [
        {
          "output_type": "execute_result",
          "data": {
            "text/plain": [
              "TtestResult(statistic=3.724382075210764, pvalue=0.00018988506417620476, df=74)"
            ]
          },
          "metadata": {},
          "execution_count": 20
        }
      ],
      "source": [
        "ttest_1samp(data2AlphaMul.alphaVolatile - data2AlphaMul.alphaStable, 0, alternative = \"greater\")"
      ]
    },
    {
      "cell_type": "markdown",
      "metadata": {
        "id": "uJgHP5L_7RUh"
      },
      "source": [
        "And we can do a likelihood ratio test to check if a model with two learning rates outperforms a model with one learning rate (now assuming additive utility for both):"
      ]
    },
    {
      "cell_type": "code",
      "execution_count": null,
      "metadata": {
        "colab": {
          "base_uri": "https://localhost:8080/"
        },
        "id": "4WqC5a3wC_lU",
        "outputId": "b6dd5410-f52d-41e5-916f-f77d2d7f575c"
      },
      "outputs": [
        {
          "output_type": "stream",
          "name": "stdout",
          "text": [
            "Chi2(75) = 464.69841124262257, p = 1.502512163534202e-57\n"
          ]
        }
      ],
      "source": [
        "lambda_LR = 2*sum(data2AlphaAdd.LL - data1AlphaAdd.LL)\n",
        "p_value = chi2.sf(lambda_LR, degrees_of_freedom)\n",
        "print('Chi2(' + str(degrees_of_freedom) + ') = ' + str(lambda_LR) + ', p = ' + str(p_value))"
      ]
    },
    {
      "cell_type": "markdown",
      "metadata": {
        "id": "qWToPqgt7c8h"
      },
      "source": [
        "Given all the analyses above, what can you conclude about the data so far?"
      ]
    },
    {
      "cell_type": "markdown",
      "metadata": {
        "id": "PlnINIvs7j-v"
      },
      "source": [
        "→ Type your answer here"
      ]
    },
    {
      "cell_type": "markdown",
      "metadata": {
        "id": "ZlCRtlSs8gzY"
      },
      "source": [
        "# Section 2: Excluding participants\n",
        "\n",
        "What we really should have done before jumping head first into fitting models to the data is to carefully consider whether any participants were not doing the task correctly, and excluding them from the analysis. What we mean by doing the task correctly can take many forms, such as taking too many or too long breaks while doing the task, or not understanding the instructions (which entails doing the task in a 'strange' way).\n",
        "\n",
        "To see whether participants are disengaging from the task, we can consider taking a look at their response times. Analysing response time data would also allow us to see if participants respond too fast, which might indicate that they are making random responses without considering the options on the screen. However, in the interest of time, we will not look at response times here. Instead, we will limit ourselves to considering the choices participants made to decide whether to include or exclude them.\n",
        "\n",
        "To this end, it makes a lot of sense to fit models to the choice data first, and to use these model fits to diagnose whether to exclude participants. Remember, the question we want to answer is whether participants have a higher learning rate in the volatile compared to the stable block. One way to interpret this question is that we expect participants *that learn about the probabilities of the options* to have a higher learning rate. Under this interpretation, the learning rates we fit to participants that do not learn about probabilities but solve the task in some other way are not meaningful, and there might thus be good reason to exclude them from our analysis.\n",
        "\n",
        "Using the model fits to diagnose whether to exclude participants can be done by reminding ourselves of the meaning of the model parameters. For example, for the learning rate $\\alpha$, what does it imply if a learning rate is at its lower extreme (0) or higher extreme (1)? Can we still claim that participants *learned* in these extreme cases? Does this depend on the utility function we used? Similarly, for the inverse temperature $\\beta$, what does it mean if it is at its lower extreme (0) or higher extreme (approaching infinity)? Finally, what do extreme values of $\\omega$ (0 or 1) imply for the strategies participants use? Having reminded yourself of the meaning of these parameters, for which extreme values of which parameters would you consider excluding participants, and why?"
      ]
    },
    {
      "cell_type": "markdown",
      "metadata": {
        "id": "e8pbyb5bQuf6"
      },
      "source": [
        "→ Type your answer here"
      ]
    },
    {
      "cell_type": "markdown",
      "metadata": {
        "id": "XYp_KQXOQ8Ym"
      },
      "source": [
        "## Visualising parameter correlations\n",
        "\n",
        "Let us now plot the distributions of fitted parameters for both utility functions. First for multiplicative utility:"
      ]
    },
    {
      "cell_type": "code",
      "execution_count": null,
      "metadata": {
        "colab": {
          "base_uri": "https://localhost:8080/",
          "height": 542
        },
        "id": "QeBJSdijgH0e",
        "outputId": "973d9eb3-975c-41a8-f962-27b52827ba5e"
      },
      "outputs": [
        {
          "output_type": "display_data",
          "data": {
            "text/html": [
              "<html>\n",
              "<head><meta charset=\"utf-8\" /></head>\n",
              "<body>\n",
              "    <div>            <script src=\"https://cdnjs.cloudflare.com/ajax/libs/mathjax/2.7.5/MathJax.js?config=TeX-AMS-MML_SVG\"></script><script type=\"text/javascript\">if (window.MathJax && window.MathJax.Hub && window.MathJax.Hub.Config) {window.MathJax.Hub.Config({SVG: {font: \"STIX-Web\"}});}</script>                <script type=\"text/javascript\">window.PlotlyConfig = {MathJaxConfig: 'local'};</script>\n",
              "        <script charset=\"utf-8\" src=\"https://cdn.plot.ly/plotly-2.24.1.min.js\"></script>                <div id=\"cedeaa2b-945e-4b8a-97bd-b1655a6d48bc\" class=\"plotly-graph-div\" style=\"height:525px; width:100%;\"></div>            <script type=\"text/javascript\">                                    window.PLOTLYENV=window.PLOTLYENV || {};                                    if (document.getElementById(\"cedeaa2b-945e-4b8a-97bd-b1655a6d48bc\")) {                    Plotly.newPlot(                        \"cedeaa2b-945e-4b8a-97bd-b1655a6d48bc\",                        [{\"customdata\":[0.0,1.0,2.0,3.0,4.0,5.0,6.0,7.0,8.0,9.0,10.0,11.0,12.0,13.0,14.0,15.0,16.0,17.0,18.0,19.0,20.0,21.0,22.0,23.0,24.0,25.0,26.0,27.0,28.0,29.0,30.0,31.0,32.0,33.0,34.0,35.0,36.0,37.0,38.0,39.0,40.0,41.0,42.0,43.0,44.0,45.0,46.0,47.0,48.0,49.0,50.0,51.0,52.0,53.0,54.0,55.0,56.0,57.0,58.0,59.0,60.0,61.0,62.0,63.0,64.0,65.0,66.0,67.0,68.0,69.0,70.0,71.0,72.0,73.0,74.0],\"diagonal\":{\"visible\":false},\"dimensions\":[{\"label\":\"alpha stable\",\"values\":[0.14147037992034633,0.11282269348944687,0.0621154571328403,0.12687215644854716,0.17842948584652,0.0829146120615739,0.09985474216283151,0.024672014861323362,0.08411870469047178,0.13311839104025247,0.16030635635916748,0.08123287126301759,0.06489697270531132,0.273304309938578,0.20659168800419406,0.1711672519689893,0.06380134200438159,0.29049056153467,0.5725225468716126,0.223504467277458,0.16024659791525894,0.12990702660442807,0.06512253441545832,0.6317619232324325,0.19702734176132772,0.20152569453517194,0.199234806935505,0.34443979176015543,0.13694105098234796,0.10639832891117595,0.14513352204516844,0.09992894025037066,0.07743280557633213,0.20558354828266698,0.13789397966052158,0.12113178312814642,0.30475215795340044,0.06088247551362989,0.19265699661412472,0.10111179300277065,0.14463328576425652,0.9999999902000635,0.1476892568165309,0.19359734682611254,0.1491350016066897,0.07068542736270973,0.16193065354622868,0.13738772425178894,0.26265338774161057,0.9999999999618094,0.1961444567062875,0.10033186443782016,0.1651575059095927,0.06172314936979976,0.22996209262167655,0.0046015965775764245,0.6654823556092102,0.11352151344411773,0.49717005232032807,0.09643692577591141,0.034413842397194645,0.1647885468757052,0.1488281315562366,0.1627632315105509,0.13345179404073151,0.14679065018707443,0.20564717802532897,0.09160811884054271,0.09823062503417809,0.6068708604299511,0.1835592413411816,0.11804335097062903,0.1647217449139938,0.1782213127428627,0.16060161090533104]},{\"label\":\"alpha volatile\",\"values\":[0.47970262508982103,0.4052276914737016,0.08390665303125035,0.5919169088909372,0.822191199646904,0.02851071482698955,0.3901919453758839,0.05672120090132895,0.6452824727001593,0.6528854750550661,0.48405800664371984,0.17378060951332908,1.9352947322450815e-07,0.8108801324235095,0.45790749257454605,0.25646310895414737,0.06812340300430107,0.7698705419042208,0.9930825175678751,0.3194584521485343,0.05293886126766639,0.27676772440765823,0.05113226741928649,0.5116447587520538,0.6673280135757537,0.04439792738432742,3.0559300461456686e-08,0.016158219833524556,0.2033270946441208,0.9999999909445866,0.01023258573533313,0.4561032542534311,0.024209336477239194,0.016480062494185294,0.10015977670573163,0.4768256728188607,0.6822599678794818,0.0029910771570022944,0.420051288433048,0.36971318754516386,0.6040807738366937,0.9999999902000635,0.28174311009581765,0.4436813542130362,0.30731216479100265,0.10694151625385397,0.2516985440211119,0.8216348624864248,0.09407438133331297,8.542131686468529e-10,0.2397937371090654,0.07369556932769783,0.010098243787680875,0.005352944521414724,0.1373650768961192,3.0032177681846426e-09,0.029151717240907798,0.9548813990069511,0.7411794250827166,0.13107494027158598,0.030849271948665886,0.5496526304886248,0.29079957803067136,0.08884578455164338,0.0012125285411661631,0.1767109887568208,0.46335568059407534,0.2705122525582637,0.08397478811048276,0.7034612774176751,0.18533488094263878,0.0283360517452586,0.2976836875693138,0.6942855082151255,0.5155339989615716]},{\"label\":\"beta\",\"values\":[0.08224091179956164,0.028323750426438456,0.15399480802636067,0.10114102573055292,0.04825863216566107,0.09077500796174805,0.23489674551437517,0.23657138204985487,0.11788745268848382,0.19018820142963894,0.1279793567032355,0.24535209795239793,0.1348574977113269,0.17537972560479276,0.10136427200174865,0.10092783184603134,0.16410698166013302,0.1286735961308217,0.041191922643671254,0.16392140539183586,0.10328756188232431,0.08369939241625433,0.1802384953233971,0.03757980777251396,0.06744841943262354,0.07561472169521911,0.0701106349804103,0.07259003356808263,0.14091321431773798,0.018208560710354222,0.06299536379780116,0.09384695912286457,0.19940432822270904,0.06919502324442843,0.0659089651820874,0.0623326508648585,0.046586033433230326,0.2582364776614365,0.07480473827191682,0.07060360310197086,0.09744309854259363,0.04525198743024263,0.1064357928952306,0.10525825888658971,0.24002630296240393,0.11517872389198672,0.18183405858728174,0.09466675817147185,0.11451732488896732,0.018851465567501332,0.10404901395571406,0.15366606920065426,0.13308002590956353,0.12227815605222023,0.07311113327537926,0.06739246916332634,0.08633540883284901,0.019307208000012285,0.032805202198515744,0.36049353617466134,0.09894077487202205,0.10312368756828763,0.15479630380550835,0.12800539091023783,0.07043345407585763,0.166678355123617,0.07591148787647528,0.2246529042119814,0.2574860272431847,0.045564447442049294,0.23364887792441694,0.12137640886801082,0.07206467290280474,0.10907013535644701,0.0985122647469545]}],\"hovertemplate\":\"participant ID: %{customdata}\",\"showupperhalf\":false,\"type\":\"splom\"}],                        {\"template\":{\"data\":{\"scatter\":[{\"type\":\"scatter\"}]}}},                        {\"responsive\": true}                    ).then(function(){\n",
              "                            \n",
              "var gd = document.getElementById('cedeaa2b-945e-4b8a-97bd-b1655a6d48bc');\n",
              "var x = new MutationObserver(function (mutations, observer) {{\n",
              "        var display = window.getComputedStyle(gd).display;\n",
              "        if (!display || display === 'none') {{\n",
              "            console.log([gd, 'removed!']);\n",
              "            Plotly.purge(gd);\n",
              "            observer.disconnect();\n",
              "        }}\n",
              "}});\n",
              "\n",
              "// Listen for the removal of the full notebook cells\n",
              "var notebookContainer = gd.closest('#notebook-container');\n",
              "if (notebookContainer) {{\n",
              "    x.observe(notebookContainer, {childList: true});\n",
              "}}\n",
              "\n",
              "// Listen for the clearing of the current output cell\n",
              "var outputEl = gd.closest('.output');\n",
              "if (outputEl) {{\n",
              "    x.observe(outputEl, {childList: true});\n",
              "}}\n",
              "\n",
              "                        })                };                            </script>        </div>\n",
              "</body>\n",
              "</html>"
            ]
          },
          "metadata": {}
        }
      ],
      "source": [
        "plot_parameter_corrs(data2AlphaMul)\n"
      ]
    },
    {
      "cell_type": "markdown",
      "metadata": {
        "id": "b42oUSjMREAM"
      },
      "source": [
        "And also for additive utility:"
      ]
    },
    {
      "cell_type": "code",
      "execution_count": null,
      "metadata": {
        "colab": {
          "base_uri": "https://localhost:8080/",
          "height": 542
        },
        "id": "3EUO7ErailxX",
        "outputId": "b782cff0-0582-4ce0-b1a8-7ad815406ebf"
      },
      "outputs": [
        {
          "output_type": "display_data",
          "data": {
            "text/html": [
              "<html>\n",
              "<head><meta charset=\"utf-8\" /></head>\n",
              "<body>\n",
              "    <div>            <script src=\"https://cdnjs.cloudflare.com/ajax/libs/mathjax/2.7.5/MathJax.js?config=TeX-AMS-MML_SVG\"></script><script type=\"text/javascript\">if (window.MathJax && window.MathJax.Hub && window.MathJax.Hub.Config) {window.MathJax.Hub.Config({SVG: {font: \"STIX-Web\"}});}</script>                <script type=\"text/javascript\">window.PlotlyConfig = {MathJaxConfig: 'local'};</script>\n",
              "        <script charset=\"utf-8\" src=\"https://cdn.plot.ly/plotly-2.24.1.min.js\"></script>                <div id=\"1b788bbd-25cb-405e-8958-09b7269b701a\" class=\"plotly-graph-div\" style=\"height:525px; width:100%;\"></div>            <script type=\"text/javascript\">                                    window.PLOTLYENV=window.PLOTLYENV || {};                                    if (document.getElementById(\"1b788bbd-25cb-405e-8958-09b7269b701a\")) {                    Plotly.newPlot(                        \"1b788bbd-25cb-405e-8958-09b7269b701a\",                        [{\"customdata\":[0.0,1.0,2.0,3.0,4.0,5.0,6.0,7.0,8.0,9.0,10.0,11.0,12.0,13.0,14.0,15.0,16.0,17.0,18.0,19.0,20.0,21.0,22.0,23.0,24.0,25.0,26.0,27.0,28.0,29.0,30.0,31.0,32.0,33.0,34.0,35.0,36.0,37.0,38.0,39.0,40.0,41.0,42.0,43.0,44.0,45.0,46.0,47.0,48.0,49.0,50.0,51.0,52.0,53.0,54.0,55.0,56.0,57.0,58.0,59.0,60.0,61.0,62.0,63.0,64.0,65.0,66.0,67.0,68.0,69.0,70.0,71.0,72.0,73.0,74.0],\"diagonal\":{\"visible\":false},\"dimensions\":[{\"label\":\"alpha stable\",\"values\":[0.17929147004768567,0.0568144941666881,0.08272207862364887,0.09635934979582719,0.09590641634507491,0.045914348982680465,0.06651115438999218,0.13924132618041465,0.0656063753951388,0.1039137307925614,0.1348126689130498,0.09569629808822529,0.04484673069825233,0.03570530809353339,0.015228806549611736,0.12251176304335185,0.08729552891313809,0.27719634477448907,0.702867914713071,0.3242381042083139,0.10055465863683923,0.0885337138230919,0.061757752254805724,0.5036141954186611,0.14040845241508867,0.004049637689859704,0.16632959379412504,0.37809454743945836,0.14839874685092316,0.0380503997975104,0.0021953950732316804,0.07226481857658916,0.06869723958924079,0.07759473592597693,0.10576254729194579,0.11234314363767683,0.22021212851528998,0.07554347465159829,0.09839615537071943,0.08633648088236001,0.10656666177863779,0.6832880498378107,0.14202872279317746,0.14492010022048418,0.14419814534136868,0.09095147853311948,0.15944262311181415,0.13095063452468308,0.1117291507924687,1.0,0.13493060331646126,0.08608328530994615,0.15074071913344986,0.07162536747615858,0.1363355164425356,1.0,0.612995932316947,0.03669687205093629,0.30997225982857274,0.12352891949822813,0.0014898260515719497,0.09600551847126952,0.15002415189237078,0.0247596625261212,0.12377638910022254,0.18464965703277703,0.17185452573669951,0.09790524441630732,0.09411331016804557,0.6201279172740288,0.1420633338784624,0.13010545600676307,0.08334689951953558,0.1587478993361692,0.12904949754694045]},{\"label\":\"alpha volatile\",\"values\":[0.5288876633762365,0.2171430207038116,0.1759016139683537,0.5092382527074859,1.7313643511645925e-16,0.021842150290372075,0.3451232478873555,0.42304390124831603,0.5134092278350568,0.5238726687724649,0.41574372982783797,0.18922666818375358,8.7488117994733635e-16,0.5101750359999797,0.3322528594801731,0.1126375010524136,0.06645701918984342,0.5080391377268264,0.9999999993049071,0.4455261276074278,0.03689981435082487,3.285732822341445e-17,0.07383720726867511,0.3729877579397314,0.46647489760785693,0.005939151041675107,2.61010032279736e-16,0.015986459169407146,0.22109750387485133,0.0012323880314232569,0.00019532850101097482,0.40205660517406827,0.024631091166532927,0.006286819128938546,0.06035826583890111,0.45090385950398204,0.5649899986435633,0.010577475879457149,0.05677006897214623,0.3239019348931101,0.47393858651051346,0.872169877808697,0.20094959121311656,0.2977768097471833,0.3314644311701435,0.19130496011094048,0.26370659700250965,0.7092515272162393,0.019161225006575786,0.7277841905773142,0.006001266160608937,0.0616111456240224,8.676923300226601e-15,2.9985887521496467e-15,0.06113672059523547,0.9129078374827234,0.014870924576929144,0.03960221648161206,0.5436689563728468,0.16732377844849422,0.002809511617643474,0.42897740965165615,0.3162837954697556,0.02061132158756497,0.001542021940137467,0.18468432991814562,0.4075181126040144,0.2750904406188503,0.05698938411295461,0.7138326608592556,0.1082903468160445,0.02345708183514877,0.06914228738146458,0.5245350786087344,0.41677666562892973]},{\"label\":\"beta\",\"values\":[0.05685734655139026,0.02401714259971868,0.10387355637592274,0.07971212488945839,0.06389537927902271,0.08725007266354798,0.2203428119461423,0.18018929555117494,0.09539232199938255,0.16086694190683395,0.11318539290951544,0.1738588326100205,0.12284243753076547,0.13149437525912067,0.13583167821962144,0.09289701262622578,0.11892586293189435,0.08880124582896823,0.032518359085261406,0.13178828087455785,0.1029486172192495,0.09049547918852364,0.13318608772727072,0.027279066008914,0.05395375419931145,0.2661043467890852,0.07466973417338296,0.058767013353908326,0.12028637289971596,0.0319592128232973,0.9999999999833837,0.08292624445771941,0.17510418501881156,0.08678503797667399,0.0664759042546247,0.049721450749878916,0.0398277201184146,0.19002600814779183,0.08178416659746801,0.05839527802077002,0.08643327199935612,0.023948497495373772,0.08296898792223989,0.10102239763219413,0.1908088976985581,0.08366472131925425,0.1365632766615219,0.0720345507135179,0.09690926075169236,0.013841468032201196,0.2043397186658246,0.13435684555406605,0.10268232916344067,0.0931829045090902,0.0729208370782471,0.03835965956934794,0.06138529430861111,0.036543337105043684,0.02633035677417137,0.20203290758341852,0.436384299043336,0.11313233513377603,0.133587015389551,0.15437215679683738,0.05993647574626733,0.13396297955295797,0.0596661565692733,0.2055674561776539,0.2004195950572847,0.03313316095567389,0.1532167894076013,0.09087227513076344,0.06770163243284014,0.08469081795977153,0.09577272074325911]},{\"label\":\"omega\",\"values\":[0.5775612708293859,0.05115227024754954,0.6758227462913514,0.49833595366607253,0.3876599642687234,0.5107475573954188,0.52903108302875,0.7779353995256465,0.4905765638775576,0.5032537998642808,0.5355180502357714,0.6096707694854654,0.546028111052393,0.4251846078593686,0.29839366030332753,0.44869434990285123,0.6421518896358954,0.3534511428650649,0.6669065172848141,0.6418283279605211,0.4747049357766635,0.4251148822583368,0.6158897406847721,0.2702615831372095,0.40534603980564576,0.13114782297456168,0.4229132790539544,0.5511770742148833,0.605970647398735,7.032932978916678e-15,0.02493428161670077,0.4559749706715203,0.5700255672355581,0.31991745468709004,0.4467132043043365,0.5701964255478185,0.4587143669362593,0.6503811390224662,0.43131790688506144,0.5592590706860177,0.4413873388570741,0.1117093006226115,0.5590570598975995,0.4388129310670553,0.5721531337861285,0.674031321788095,0.5880237436883161,0.5449823547627586,0.42236769198448165,0.813148787199922,0.2519150116198238,0.5495556863587374,0.5869404962135147,0.6153491044884577,0.39636314109695353,0.8935691936470599,0.564005048965006,0.004653693667083053,0.4542222427471717,0.6725910852831557,0.11152095037232405,0.372285583310894,0.574181342596215,0.3749438019056951,0.5149767282055023,0.6086878855899411,0.4735682061737753,0.605219718286508,0.575899969329758,0.5491186847741631,0.5389020768503325,0.5928823840467994,0.47992659220246486,0.4442707391415845,0.4994480169926112]}],\"hovertemplate\":\"participant ID: %{customdata}\",\"showupperhalf\":false,\"type\":\"splom\"}],                        {\"template\":{\"data\":{\"scatter\":[{\"type\":\"scatter\"}]}}},                        {\"responsive\": true}                    ).then(function(){\n",
              "                            \n",
              "var gd = document.getElementById('1b788bbd-25cb-405e-8958-09b7269b701a');\n",
              "var x = new MutationObserver(function (mutations, observer) {{\n",
              "        var display = window.getComputedStyle(gd).display;\n",
              "        if (!display || display === 'none') {{\n",
              "            console.log([gd, 'removed!']);\n",
              "            Plotly.purge(gd);\n",
              "            observer.disconnect();\n",
              "        }}\n",
              "}});\n",
              "\n",
              "// Listen for the removal of the full notebook cells\n",
              "var notebookContainer = gd.closest('#notebook-container');\n",
              "if (notebookContainer) {{\n",
              "    x.observe(notebookContainer, {childList: true});\n",
              "}}\n",
              "\n",
              "// Listen for the clearing of the current output cell\n",
              "var outputEl = gd.closest('.output');\n",
              "if (outputEl) {{\n",
              "    x.observe(outputEl, {childList: true});\n",
              "}}\n",
              "\n",
              "                        })                };                            </script>        </div>\n",
              "</body>\n",
              "</html>"
            ]
          },
          "metadata": {}
        }
      ],
      "source": [
        "plot_parameter_corrs(data2AlphaAdd)\n"
      ]
    },
    {
      "cell_type": "markdown",
      "metadata": {
        "id": "ObKLQ-SNRFox"
      },
      "source": [
        "Is there anything in these plots that stands out? You can hover over the dots in the plots to see the participant ID associated with a datapoint. You can then use this ID to examine the data for a particular participant of interest further. For example, to examine the data of the first participant (with ID 0), we can look at the fitted values of the additive utility model like this:"
      ]
    },
    {
      "cell_type": "code",
      "execution_count": null,
      "metadata": {
        "colab": {
          "base_uri": "https://localhost:8080/",
          "height": 81
        },
        "id": "70q5t9hPCzbn",
        "outputId": "792d682f-ed21-43a1-c957-eeb6606713e6"
      },
      "outputs": [
        {
          "output_type": "execute_result",
          "data": {
            "text/plain": [
              "    ID  alphaStable  alphaVolatile      beta     omega         LL         BIC\n",
              "0  0.0     0.179291       0.528888  0.056857  0.577561 -66.662221  153.625138"
            ],
            "text/html": [
              "\n",
              "  <div id=\"df-e5613509-b63c-44bd-98b0-381700baec65\" class=\"colab-df-container\">\n",
              "    <div>\n",
              "<style scoped>\n",
              "    .dataframe tbody tr th:only-of-type {\n",
              "        vertical-align: middle;\n",
              "    }\n",
              "\n",
              "    .dataframe tbody tr th {\n",
              "        vertical-align: top;\n",
              "    }\n",
              "\n",
              "    .dataframe thead th {\n",
              "        text-align: right;\n",
              "    }\n",
              "</style>\n",
              "<table border=\"1\" class=\"dataframe\">\n",
              "  <thead>\n",
              "    <tr style=\"text-align: right;\">\n",
              "      <th></th>\n",
              "      <th>ID</th>\n",
              "      <th>alphaStable</th>\n",
              "      <th>alphaVolatile</th>\n",
              "      <th>beta</th>\n",
              "      <th>omega</th>\n",
              "      <th>LL</th>\n",
              "      <th>BIC</th>\n",
              "    </tr>\n",
              "  </thead>\n",
              "  <tbody>\n",
              "    <tr>\n",
              "      <th>0</th>\n",
              "      <td>0.0</td>\n",
              "      <td>0.179291</td>\n",
              "      <td>0.528888</td>\n",
              "      <td>0.056857</td>\n",
              "      <td>0.577561</td>\n",
              "      <td>-66.662221</td>\n",
              "      <td>153.625138</td>\n",
              "    </tr>\n",
              "  </tbody>\n",
              "</table>\n",
              "</div>\n",
              "    <div class=\"colab-df-buttons\">\n",
              "\n",
              "  <div class=\"colab-df-container\">\n",
              "    <button class=\"colab-df-convert\" onclick=\"convertToInteractive('df-e5613509-b63c-44bd-98b0-381700baec65')\"\n",
              "            title=\"Convert this dataframe to an interactive table.\"\n",
              "            style=\"display:none;\">\n",
              "\n",
              "  <svg xmlns=\"http://www.w3.org/2000/svg\" height=\"24px\" viewBox=\"0 -960 960 960\">\n",
              "    <path d=\"M120-120v-720h720v720H120Zm60-500h600v-160H180v160Zm220 220h160v-160H400v160Zm0 220h160v-160H400v160ZM180-400h160v-160H180v160Zm440 0h160v-160H620v160ZM180-180h160v-160H180v160Zm440 0h160v-160H620v160Z\"/>\n",
              "  </svg>\n",
              "    </button>\n",
              "\n",
              "  <style>\n",
              "    .colab-df-container {\n",
              "      display:flex;\n",
              "      gap: 12px;\n",
              "    }\n",
              "\n",
              "    .colab-df-convert {\n",
              "      background-color: #E8F0FE;\n",
              "      border: none;\n",
              "      border-radius: 50%;\n",
              "      cursor: pointer;\n",
              "      display: none;\n",
              "      fill: #1967D2;\n",
              "      height: 32px;\n",
              "      padding: 0 0 0 0;\n",
              "      width: 32px;\n",
              "    }\n",
              "\n",
              "    .colab-df-convert:hover {\n",
              "      background-color: #E2EBFA;\n",
              "      box-shadow: 0px 1px 2px rgba(60, 64, 67, 0.3), 0px 1px 3px 1px rgba(60, 64, 67, 0.15);\n",
              "      fill: #174EA6;\n",
              "    }\n",
              "\n",
              "    .colab-df-buttons div {\n",
              "      margin-bottom: 4px;\n",
              "    }\n",
              "\n",
              "    [theme=dark] .colab-df-convert {\n",
              "      background-color: #3B4455;\n",
              "      fill: #D2E3FC;\n",
              "    }\n",
              "\n",
              "    [theme=dark] .colab-df-convert:hover {\n",
              "      background-color: #434B5C;\n",
              "      box-shadow: 0px 1px 3px 1px rgba(0, 0, 0, 0.15);\n",
              "      filter: drop-shadow(0px 1px 2px rgba(0, 0, 0, 0.3));\n",
              "      fill: #FFFFFF;\n",
              "    }\n",
              "  </style>\n",
              "\n",
              "    <script>\n",
              "      const buttonEl =\n",
              "        document.querySelector('#df-e5613509-b63c-44bd-98b0-381700baec65 button.colab-df-convert');\n",
              "      buttonEl.style.display =\n",
              "        google.colab.kernel.accessAllowed ? 'block' : 'none';\n",
              "\n",
              "      async function convertToInteractive(key) {\n",
              "        const element = document.querySelector('#df-e5613509-b63c-44bd-98b0-381700baec65');\n",
              "        const dataTable =\n",
              "          await google.colab.kernel.invokeFunction('convertToInteractive',\n",
              "                                                    [key], {});\n",
              "        if (!dataTable) return;\n",
              "\n",
              "        const docLinkHtml = 'Like what you see? Visit the ' +\n",
              "          '<a target=\"_blank\" href=https://colab.research.google.com/notebooks/data_table.ipynb>data table notebook</a>'\n",
              "          + ' to learn more about interactive tables.';\n",
              "        element.innerHTML = '';\n",
              "        dataTable['output_type'] = 'display_data';\n",
              "        await google.colab.output.renderOutput(dataTable, element);\n",
              "        const docLink = document.createElement('div');\n",
              "        docLink.innerHTML = docLinkHtml;\n",
              "        element.appendChild(docLink);\n",
              "      }\n",
              "    </script>\n",
              "  </div>\n",
              "\n",
              "    </div>\n",
              "  </div>\n"
            ]
          },
          "metadata": {},
          "execution_count": 24
        }
      ],
      "source": [
        "data2AlphaAdd[data2AlphaAdd.ID == 0]"
      ]
    },
    {
      "cell_type": "markdown",
      "metadata": {
        "id": "q_sccZl5DxlH"
      },
      "source": [
        "Similarly, we can examine the fitted parameters for this participant when fitted with multipliative utility like this:"
      ]
    },
    {
      "cell_type": "code",
      "execution_count": null,
      "metadata": {
        "colab": {
          "base_uri": "https://localhost:8080/",
          "height": 81
        },
        "id": "CA8puEh3BELn",
        "outputId": "8c0a3d6a-0fd3-4b20-ca0c-fa45f5319964"
      },
      "outputs": [
        {
          "output_type": "execute_result",
          "data": {
            "text/plain": [
              "    ID  alphaStable  alphaVolatile      beta        LL         BIC\n",
              "0  0.0      0.14147       0.479703  0.082241 -65.72776  146.681042"
            ],
            "text/html": [
              "\n",
              "  <div id=\"df-48187573-5a14-4f22-8417-11cbd33a0c0c\" class=\"colab-df-container\">\n",
              "    <div>\n",
              "<style scoped>\n",
              "    .dataframe tbody tr th:only-of-type {\n",
              "        vertical-align: middle;\n",
              "    }\n",
              "\n",
              "    .dataframe tbody tr th {\n",
              "        vertical-align: top;\n",
              "    }\n",
              "\n",
              "    .dataframe thead th {\n",
              "        text-align: right;\n",
              "    }\n",
              "</style>\n",
              "<table border=\"1\" class=\"dataframe\">\n",
              "  <thead>\n",
              "    <tr style=\"text-align: right;\">\n",
              "      <th></th>\n",
              "      <th>ID</th>\n",
              "      <th>alphaStable</th>\n",
              "      <th>alphaVolatile</th>\n",
              "      <th>beta</th>\n",
              "      <th>LL</th>\n",
              "      <th>BIC</th>\n",
              "    </tr>\n",
              "  </thead>\n",
              "  <tbody>\n",
              "    <tr>\n",
              "      <th>0</th>\n",
              "      <td>0.0</td>\n",
              "      <td>0.14147</td>\n",
              "      <td>0.479703</td>\n",
              "      <td>0.082241</td>\n",
              "      <td>-65.72776</td>\n",
              "      <td>146.681042</td>\n",
              "    </tr>\n",
              "  </tbody>\n",
              "</table>\n",
              "</div>\n",
              "    <div class=\"colab-df-buttons\">\n",
              "\n",
              "  <div class=\"colab-df-container\">\n",
              "    <button class=\"colab-df-convert\" onclick=\"convertToInteractive('df-48187573-5a14-4f22-8417-11cbd33a0c0c')\"\n",
              "            title=\"Convert this dataframe to an interactive table.\"\n",
              "            style=\"display:none;\">\n",
              "\n",
              "  <svg xmlns=\"http://www.w3.org/2000/svg\" height=\"24px\" viewBox=\"0 -960 960 960\">\n",
              "    <path d=\"M120-120v-720h720v720H120Zm60-500h600v-160H180v160Zm220 220h160v-160H400v160Zm0 220h160v-160H400v160ZM180-400h160v-160H180v160Zm440 0h160v-160H620v160ZM180-180h160v-160H180v160Zm440 0h160v-160H620v160Z\"/>\n",
              "  </svg>\n",
              "    </button>\n",
              "\n",
              "  <style>\n",
              "    .colab-df-container {\n",
              "      display:flex;\n",
              "      gap: 12px;\n",
              "    }\n",
              "\n",
              "    .colab-df-convert {\n",
              "      background-color: #E8F0FE;\n",
              "      border: none;\n",
              "      border-radius: 50%;\n",
              "      cursor: pointer;\n",
              "      display: none;\n",
              "      fill: #1967D2;\n",
              "      height: 32px;\n",
              "      padding: 0 0 0 0;\n",
              "      width: 32px;\n",
              "    }\n",
              "\n",
              "    .colab-df-convert:hover {\n",
              "      background-color: #E2EBFA;\n",
              "      box-shadow: 0px 1px 2px rgba(60, 64, 67, 0.3), 0px 1px 3px 1px rgba(60, 64, 67, 0.15);\n",
              "      fill: #174EA6;\n",
              "    }\n",
              "\n",
              "    .colab-df-buttons div {\n",
              "      margin-bottom: 4px;\n",
              "    }\n",
              "\n",
              "    [theme=dark] .colab-df-convert {\n",
              "      background-color: #3B4455;\n",
              "      fill: #D2E3FC;\n",
              "    }\n",
              "\n",
              "    [theme=dark] .colab-df-convert:hover {\n",
              "      background-color: #434B5C;\n",
              "      box-shadow: 0px 1px 3px 1px rgba(0, 0, 0, 0.15);\n",
              "      filter: drop-shadow(0px 1px 2px rgba(0, 0, 0, 0.3));\n",
              "      fill: #FFFFFF;\n",
              "    }\n",
              "  </style>\n",
              "\n",
              "    <script>\n",
              "      const buttonEl =\n",
              "        document.querySelector('#df-48187573-5a14-4f22-8417-11cbd33a0c0c button.colab-df-convert');\n",
              "      buttonEl.style.display =\n",
              "        google.colab.kernel.accessAllowed ? 'block' : 'none';\n",
              "\n",
              "      async function convertToInteractive(key) {\n",
              "        const element = document.querySelector('#df-48187573-5a14-4f22-8417-11cbd33a0c0c');\n",
              "        const dataTable =\n",
              "          await google.colab.kernel.invokeFunction('convertToInteractive',\n",
              "                                                    [key], {});\n",
              "        if (!dataTable) return;\n",
              "\n",
              "        const docLinkHtml = 'Like what you see? Visit the ' +\n",
              "          '<a target=\"_blank\" href=https://colab.research.google.com/notebooks/data_table.ipynb>data table notebook</a>'\n",
              "          + ' to learn more about interactive tables.';\n",
              "        element.innerHTML = '';\n",
              "        dataTable['output_type'] = 'display_data';\n",
              "        await google.colab.output.renderOutput(dataTable, element);\n",
              "        const docLink = document.createElement('div');\n",
              "        docLink.innerHTML = docLinkHtml;\n",
              "        element.appendChild(docLink);\n",
              "      }\n",
              "    </script>\n",
              "  </div>\n",
              "\n",
              "    </div>\n",
              "  </div>\n"
            ]
          },
          "metadata": {},
          "execution_count": 25
        }
      ],
      "source": [
        "data2AlphaMul[data2AlphaMul.ID == 0]"
      ]
    },
    {
      "cell_type": "markdown",
      "metadata": {
        "id": "a9vQJxasRp_c"
      },
      "source": [
        "## Visualising model-internal variables\n",
        "\n",
        "We can also visualise what the model thinks are the most likely trial-by-trial variables that produced the participant's choices:"
      ]
    },
    {
      "cell_type": "code",
      "execution_count": null,
      "metadata": {
        "colab": {
          "base_uri": "https://localhost:8080/",
          "height": 542
        },
        "id": "LiaoRudChoDe",
        "outputId": "4dd86c96-2c41-4717-bb74-b52e1a67473a"
      },
      "outputs": [
        {
          "output_type": "display_data",
          "data": {
            "text/html": [
              "<html>\n",
              "<head><meta charset=\"utf-8\" /></head>\n",
              "<body>\n",
              "    <div>            <script src=\"https://cdnjs.cloudflare.com/ajax/libs/mathjax/2.7.5/MathJax.js?config=TeX-AMS-MML_SVG\"></script><script type=\"text/javascript\">if (window.MathJax && window.MathJax.Hub && window.MathJax.Hub.Config) {window.MathJax.Hub.Config({SVG: {font: \"STIX-Web\"}});}</script>                <script type=\"text/javascript\">window.PlotlyConfig = {MathJaxConfig: 'local'};</script>\n",
              "        <script charset=\"utf-8\" src=\"https://cdn.plot.ly/plotly-2.24.1.min.js\"></script>                <div id=\"f9b1abee-7d1f-4707-9424-3a3a8f40033a\" class=\"plotly-graph-div\" style=\"height:525px; width:100%;\"></div>            <script type=\"text/javascript\">                                    window.PLOTLYENV=window.PLOTLYENV || {};                                    if (document.getElementById(\"f9b1abee-7d1f-4707-9424-3a3a8f40033a\")) {                    Plotly.newPlot(                        \"f9b1abee-7d1f-4707-9424-3a3a8f40033a\",                        [{\"line\":{\"color\":\"black\",\"dash\":\"dash\"},\"mode\":\"lines\",\"name\":\"true probability\",\"x\":[0,1,2,3,4,5,6,7,8,9,10,11,12,13,14,15,16,17,18,19,20,21,22,23,24,25,26,27,28,29,30,31,32,33,34,35,36,37,38,39,40,41,42,43,44,45,46,47,48,49,50,51,52,53,54,55,56,57,58,59,60,61,62,63,64,65,66,67,68,69,70,71,72,73,74,75,76,77,78,79,80,81,82,83,84,85,86,87,88,89,90,91,92,93,94,95,96,97,98,99,100,101,102,103,104,105,106,107,108,109,110,111,112,113,114,115,116,117,118,119,120,121,122,123,124,125,126,127,128,129,130,131,132,133,134,135,136,137,138,139,140,141,142,143,144,145,146,147,148,149,150,151,152,153,154,155,156,157,158,159],\"y\":[0.2,0.2,0.2,0.2,0.2,0.2,0.2,0.2,0.2,0.2,0.2,0.2,0.2,0.2,0.2,0.2,0.2,0.2,0.2,0.2,0.2,0.2,0.2,0.2,0.2,0.2,0.2,0.2,0.2,0.2,0.2,0.2,0.2,0.2,0.2,0.2,0.2,0.2,0.2,0.2,0.2,0.2,0.2,0.2,0.2,0.2,0.2,0.2,0.2,0.2,0.2,0.2,0.2,0.2,0.2,0.2,0.2,0.2,0.2,0.2,0.2,0.2,0.2,0.2,0.2,0.2,0.2,0.2,0.2,0.2,0.2,0.2,0.2,0.2,0.2,0.2,0.2,0.2,0.2,0.2,0.8,0.8,0.8,0.8,0.8,0.8,0.8,0.8,0.8,0.8,0.8,0.8,0.8,0.8,0.8,0.8,0.8,0.8,0.8,0.8,0.2,0.2,0.2,0.2,0.2,0.2,0.2,0.2,0.2,0.2,0.2,0.2,0.2,0.2,0.2,0.2,0.2,0.2,0.2,0.2,0.8,0.8,0.8,0.8,0.8,0.8,0.8,0.8,0.8,0.8,0.8,0.8,0.8,0.8,0.8,0.8,0.8,0.8,0.8,0.8,0.2,0.2,0.2,0.2,0.2,0.2,0.2,0.2,0.2,0.2,0.2,0.2,0.2,0.2,0.2,0.2,0.2,0.2,0.2,0.2],\"type\":\"scatter\"},{\"line\":{\"color\":\"red\"},\"mode\":\"lines\",\"name\":\"RL model probability\",\"x\":[0,1,2,3,4,5,6,7,8,9,10,11,12,13,14,15,16,17,18,19,20,21,22,23,24,25,26,27,28,29,30,31,32,33,34,35,36,37,38,39,40,41,42,43,44,45,46,47,48,49,50,51,52,53,54,55,56,57,58,59,60,61,62,63,64,65,66,67,68,69,70,71,72,73,74,75,76,77,78,79,80,81,82,83,84,85,86,87,88,89,90,91,92,93,94,95,96,97,98,99,100,101,102,103,104,105,106,107,108,109,110,111,112,113,114,115,116,117,118,119,120,121,122,123,124,125,126,127,128,129,130,131,132,133,134,135,136,137,138,139,140,141,142,143,144,145,146,147,148,149,150,151,152,153,154,155,156,157,158,159],\"y\":[0.5,0.4103542649761572,0.3367812455682444,0.27639924096582325,0.40613468478068193,0.33331820010900004,0.27355709001780876,0.22451063720654874,0.3635492650681297,0.298367982899309,0.24487314863012916,0.20096948183702787,0.16493736800374548,0.3146569748762435,0.4375331333376098,0.3590871746669397,0.294705907245634,0.2418676519038274,0.19850284503700827,0.1629129781416751,0.13370407080080768,0.10973207139557102,0.26934951705136717,0.400348916230279,0.32856977050735453,0.2696600133398602,0.22131227313507817,0.18163287034509507,0.14906764601194228,0.12234108862191312,0.10040637499565612,0.08240436842052574,0.24692143811574424,0.20265053048968382,0.16631701897224505,0.1364977961467624,0.11202490561734005,0.0919397956072539,0.0754557744969456,0.06192719776380155,0.2301156494884815,0.36814934645839936,0.4814347789824639,0.3951176297266153,0.3242764090511733,0.26613641497060375,0.21842042589730332,0.17925950664973422,0.1471198061824805,0.12074247985889297,0.09909438314778897,0.08132760551975328,0.24603772961834414,0.2019252633878762,0.16572178607529775,0.13600928343092952,0.11162397906446583,0.09161075176542566,0.25447719545691455,0.2088516049898321,0.17140629370938654,0.14067460733480525,0.11545285018736706,0.2740446090037645,0.22491074819683632,0.18458616952310067,0.15149144383883265,0.12433032017332193,0.10203895429794761,0.2630357102274256,0.2158756510657134,0.17717098823864041,0.324697211355219,0.2664817710109577,0.21870386254549234,0.17949212552460403,0.14731071847731406,0.12089916320773565,0.09922297450868565,0.260724611594205,0.5,0.23555616831188175,0.6398610802357876,0.8303341120007238,0.9200683070593152,0.9623431933684208,0.9822594138380075,0.9916421910001485,0.9960625330730248,0.4692573473794175,0.749960588778023,0.8822033487311843,0.9445045443742937,0.9738554062281731,0.4587952959618391,0.7450317872888097,0.8798813295448464,0.9434106124897328,0.9733400414219304,0.9874401646199928,0.4651952432302785,0.2191592180244765,0.10324861129614794,0.5775293578971235,0.2720812052677356,0.12818081236509274,0.06038756202365103,0.5573369888242112,0.26256833109182653,0.12369917998407237,0.05827620972073981,0.027454641331114214,0.01293422022866857,0.006093470714334399,0.531758372602615,0.2505179294360678,0.11802208710277301,0.05560166122820073,0.026194628541380563,0.012340612659121323,0.534701478241444,0.7807921261867437,0.8967284663615097,0.9513475064808512,0.44819154671938477,0.21114856682998803,0.6283623580702711,0.8249169221331398,0.9175162020828632,0.9611408652296554,0.9816929822191652,0.9913753380766581,0.9959368153687044,0.46919812021798,0.7499326861316066,0.35330254007399664,0.6953328485656078,0.8564675463952375,0.9323800904009184,0.968143426386489,0.9849919751681119,0.46404187097710525,0.7475035135035235,0.3521581268811179,0.16590603801601125,0.078160381229714,0.03682231983253471,0.017347449136212972,0.00817259729702318,0.003850211408885644,0.530701545469572,0.25002004513601256,0.6466751910430422,0.30465666028890626,0.14352751109669876,0.0676175811225589,0.03185547663949561,0.015007508033896489,0.007070222176748879,0.5322185322663738],\"type\":\"scatter\"},{\"marker\":{\"color\":\"blue\",\"size\":5,\"symbol\":\"x\"},\"mode\":\"markers\",\"name\":\"choice probability\",\"x\":[0,1,2,3,4,5,6,7,8,9,10,11,12,13,14,15,16,17,18,19,20,21,22,23,24,25,26,27,28,29,30,31,32,33,34,35,36,37,38,39,40,41,42,43,44,45,46,47,48,49,50,51,52,53,54,55,56,57,58,59,60,61,62,63,64,65,66,67,68,69,70,71,72,73,74,75,76,77,78,79,80,81,82,83,84,85,86,87,88,89,90,91,92,93,94,95,96,97,98,99,100,101,102,103,104,105,106,107,108,109,110,111,112,113,114,115,116,117,118,119,120,121,122,123,124,125,126,127,128,129,130,131,132,133,134,135,136,137,138,139,140,141,142,143,144,145,146,147,148,149,150,151,152,153,154,155,156,157,158,159],\"y\":[0.34146510333258634,0.11179202656493889,0.46822042080495996,0.03315566140019968,0.6304744210967177,0.14358159388221958,0.6350990801321237,0.7261786812987477,0.3417568016635923,0.275161712205962,0.22695853232962618,0.10975563553030031,0.06947933991229782,0.2910393836523234,0.6648721997230903,0.04853988470391398,0.7879346697504395,0.358189481370943,0.5482527092054216,0.0369261001612521,0.032247876540539205,0.13299315753997726,0.03208706563647618,0.38255943207698184,0.8138456093182413,0.1463815784552369,0.5752207272752794,0.07484694907975362,0.26327434858249726,0.3038522000990718,0.027612721731606314,0.11857182572183252,0.4426120460508608,0.02349724656713483,0.16757260271430474,0.47396274944755096,0.07443300794843996,0.049955469611923965,0.20058663914519131,0.5484253036927124,0.050288264746090355,0.5870493004064834,0.9011011077217151,0.23855816785435646,0.138322867522054,0.24537709450382805,0.025299645701721628,0.17642527968456528,0.4866986822971907,0.23774437503207657,0.2194151331836201,0.2638527323907659,0.054069385582193236,0.5523212210865778,0.09427149982758805,0.6341778237889072,0.13404458680368453,0.12327243653814536,0.1029758788649231,0.02419053473416011,0.1710106174574284,0.2555291917423466,0.015581449412013464,0.7708768673674669,0.049107474209071744,0.07583526442939782,0.3342578786237543,0.14128925771341946,0.0711949472899568,0.623308043382539,0.3300210081317728,0.07337622916784567,0.3010904528130666,0.05931796133215651,0.7205972397160468,0.02107553719525555,0.3298037588929646,0.07742368844498065,0.1272792373395997,0.6206978159987835,0.908769489839348,0.21920216957353386,0.5037713044559605,0.9619027862164544,0.9527122107324744,0.9021178245364083,0.5044876557872763,0.6725620137097565,0.9543371494350908,0.24363773323877663,0.7686578110437051,0.7007456142559106,0.9776257973053444,0.8347276008039662,0.45067666742744655,0.9699905299145402,0.9432144947925409,0.4579324880670781,0.6529148775000766,0.9524978217175235,0.693804136545905,0.20601940827511928,0.052597664193306935,0.9353016665379116,0.1478408788328464,0.24428033011938913,0.012003392784537475,0.5684260878869865,0.058277628534509705,0.45866340517060034,0.1069835196249873,0.05084639878865973,0.08788461225245117,0.325047070221128,0.18401618350407734,0.4468784318662769,0.05624847037868579,0.18572877978449573,0.010203746168906772,0.48902895551355724,0.30609047700026654,0.27891555528297374,0.5655834347232791,0.9590392689263989,0.8859301656857919,0.11462535833537732,0.6494495568950895,0.8264708935303838,0.9746073057842635,0.9464436476729662,0.8398564220879694,0.9137607850991208,0.9543108248964892,0.07968265673065328,0.9706683009778477,0.08733418242078536,0.48829512503247086,0.8471448086732521,0.976315743857201,0.9620939572906164,0.7932489504861479,0.6926258484583548,0.7665522834258124,0.08689698862882662,0.509255571589889,0.013059244247676158,0.518419848967933,0.048553657938277234,0.08606824174559442,0.15102209044650516,0.8568552427744182,0.7498591301506812,0.5119524180632621,0.5116922826571508,0.033753513620426515,0.044693050963675034,0.09544881073788321,0.009675034687674314,0.08565260448458983,0.6924379488360247],\"type\":\"scatter\"},{\"marker\":{\"color\":\"green\",\"opacity\":0.8,\"size\":5},\"mode\":\"markers\",\"name\":\"correct choice\",\"x\":[0,1,2,3,4,5,6,7,8,9,10,11,12,13,14,15,16,17,18,19,20,21,22,23,24,25,26,27,28,29,30,31,32,33,34,35,36,37,38,39,40,41,42,43,44,45,46,47,48,49,50,51,52,53,54,55,56,57,58,59,60,61,62,63,64,65,66,67,68,69,70,71,72,73,74,75,76,77,78,79,80,81,82,83,84,85,86,87,88,89,90,91,92,93,94,95,96,97,98,99,100,101,102,103,104,105,106,107,108,109,110,111,112,113,114,115,116,117,118,119,120,121,122,123,124,125,126,127,128,129,130,131,132,133,134,135,136,137,138,139,140,141,142,143,144,145,146,147,148,149,150,151,152,153,154,155,156,157,158,159],\"y\":[0.0,0.0,null,null,null,0.0,null,1.0,0.0,null,0.0,0.0,null,null,null,0.0,0.0,null,null,0.0,0.0,null,null,null,null,0.0,0.0,0.0,null,0.0,0.0,null,0.0,0.0,null,0.0,0.0,0.0,0.0,null,null,1.0,null,0.0,0.0,0.0,0.0,0.0,0.0,null,0.0,null,null,0.0,0.0,null,0.0,null,0.0,0.0,0.0,null,null,0.0,0.0,0.0,null,0.0,null,null,0.0,null,0.0,0.0,null,0.0,null,0.0,null,null,null,null,1.0,1.0,1.0,1.0,null,null,null,null,1.0,null,1.0,null,null,1.0,1.0,1.0,1.0,null,null,null,null,0.0,0.0,0.0,null,null,0.0,0.0,0.0,0.0,0.0,null,0.0,null,0.0,0.0,0.0,null,1.0,null,null,0.0,null,null,1.0,1.0,1.0,1.0,1.0,1.0,null,null,null,null,1.0,null,1.0,1.0,null,1.0,null,0.0,null,0.0,0.0,0.0,0.0,null,null,1.0,null,null,0.0,0.0,0.0,0.0,1.0,null],\"type\":\"scatter\"},{\"marker\":{\"color\":\"red\",\"opacity\":0.8,\"size\":5},\"mode\":\"markers\",\"name\":\"incorrect choice\",\"x\":[0,1,2,3,4,5,6,7,8,9,10,11,12,13,14,15,16,17,18,19,20,21,22,23,24,25,26,27,28,29,30,31,32,33,34,35,36,37,38,39,40,41,42,43,44,45,46,47,48,49,50,51,52,53,54,55,56,57,58,59,60,61,62,63,64,65,66,67,68,69,70,71,72,73,74,75,76,77,78,79,80,81,82,83,84,85,86,87,88,89,90,91,92,93,94,95,96,97,98,99,100,101,102,103,104,105,106,107,108,109,110,111,112,113,114,115,116,117,118,119,120,121,122,123,124,125,126,127,128,129,130,131,132,133,134,135,136,137,138,139,140,141,142,143,144,145,146,147,148,149,150,151,152,153,154,155,156,157,158,159],\"y\":[null,null,1.0,0.0,1.0,null,1.0,null,null,1.0,null,null,0.0,0.0,1.0,null,null,1.0,1.0,null,null,0.0,0.0,1.0,1.0,null,null,null,1.0,null,null,0.0,null,null,1.0,null,null,null,null,0.0,0.0,null,1.0,null,null,null,null,null,null,1.0,null,0.0,1.0,null,null,1.0,null,0.0,null,null,null,1.0,0.0,null,null,null,1.0,null,0.0,1.0,null,0.0,null,null,1.0,null,1.0,null,0.0,1.0,1.0,0.0,null,null,null,null,0.0,0.0,1.0,0.0,null,0.0,null,1.0,0.0,null,null,null,null,1.0,1.0,1.0,0.0,null,null,null,0.0,1.0,null,null,null,null,null,0.0,null,1.0,null,null,null,0.0,null,0.0,0.0,null,1.0,0.0,null,null,null,null,null,null,1.0,0.0,1.0,0.0,null,0.0,null,null,1.0,null,1.0,null,1.0,null,null,null,null,0.0,1.0,null,1.0,1.0,null,null,null,null,null,1.0],\"type\":\"scatter\"},{\"line\":{\"color\":\"orange\"},\"mode\":\"lines\",\"name\":\"magnitude option 1\",\"x\":[0,1,2,3,4,5,6,7,8,9,10,11,12,13,14,15,16,17,18,19,20,21,22,23,24,25,26,27,28,29,30,31,32,33,34,35,36,37,38,39,40,41,42,43,44,45,46,47,48,49,50,51,52,53,54,55,56,57,58,59,60,61,62,63,64,65,66,67,68,69,70,71,72,73,74,75,76,77,78,79,80,81,82,83,84,85,86,87,88,89,90,91,92,93,94,95,96,97,98,99,100,101,102,103,104,105,106,107,108,109,110,111,112,113,114,115,116,117,118,119,120,121,122,123,124,125,126,127,128,129,130,131,132,133,134,135,136,137,138,139,140,141,142,143,144,145,146,147,148,149,150,151,152,153,154,155,156,157,158,159],\"xaxis\":\"x2\",\"y\":[20,10,40,10,40,10,60,80,40,10,10,20,10,40,40,10,80,40,60,10,10,40,10,10,80,20,60,10,40,40,10,10,40,10,40,60,20,10,40,80,10,40,80,20,10,40,10,10,60,40,40,40,10,60,20,80,40,10,10,10,10,40,10,80,10,10,40,40,20,60,40,10,40,10,80,10,40,20,10,60,80,10,20,60,40,40,10,10,40,10,10,10,60,20,40,80,40,10,10,40,40,40,10,80,20,40,10,10,10,60,40,20,10,60,10,40,10,40,10,80,10,10,10,40,80,20,40,10,60,40,20,40,40,10,80,10,10,10,60,40,10,40,40,10,60,10,80,20,10,40,60,80,20,40,10,10,40,10,10,40],\"yaxis\":\"y2\",\"type\":\"scatter\"},{\"line\":{\"color\":\"green\"},\"mode\":\"lines\",\"name\":\"magnitude option 2\",\"x\":[0,1,2,3,4,5,6,7,8,9,10,11,12,13,14,15,16,17,18,19,20,21,22,23,24,25,26,27,28,29,30,31,32,33,34,35,36,37,38,39,40,41,42,43,44,45,46,47,48,49,50,51,52,53,54,55,56,57,58,59,60,61,62,63,64,65,66,67,68,69,70,71,72,73,74,75,76,77,78,79,80,81,82,83,84,85,86,87,88,89,90,91,92,93,94,95,96,97,98,99,100,101,102,103,104,105,106,107,108,109,110,111,112,113,114,115,116,117,118,119,120,121,122,123,124,125,126,127,128,129,130,131,132,133,134,135,136,137,138,139,140,141,142,143,144,145,146,147,148,149,150,151,152,153,154,155,156,157,158,159],\"xaxis\":\"x2\",\"y\":[40,60,20,80,10,40,10,10,40,10,10,40,40,40,10,80,10,20,10,60,60,40,80,10,10,40,10,40,20,10,60,10,10,80,40,10,40,40,20,10,60,10,10,40,40,40,80,10,10,20,20,10,60,10,40,10,40,10,40,80,10,20,80,10,60,40,10,40,40,10,20,40,40,60,10,80,10,40,10,10,10,10,40,10,10,40,80,60,20,40,10,40,10,40,40,10,10,80,60,20,10,40,40,10,40,20,80,10,60,10,40,40,10,10,60,10,40,20,80,10,40,80,60,10,10,40,40,10,10,20,40,40,20,80,10,60,40,10,10,10,40,10,40,60,10,80,10,40,10,20,10,10,40,10,60,40,40,80,10,20],\"yaxis\":\"y2\",\"type\":\"scatter\"},{\"line\":{\"color\":\"orange\"},\"mode\":\"lines\",\"name\":\"utility option 1\",\"x\":[0,1,2,3,4,5,6,7,8,9,10,11,12,13,14,15,16,17,18,19,20,21,22,23,24,25,26,27,28,29,30,31,32,33,34,35,36,37,38,39,40,41,42,43,44,45,46,47,48,49,50,51,52,53,54,55,56,57,58,59,60,61,62,63,64,65,66,67,68,69,70,71,72,73,74,75,76,77,78,79,80,81,82,83,84,85,86,87,88,89,90,91,92,93,94,95,96,97,98,99,100,101,102,103,104,105,106,107,108,109,110,111,112,113,114,115,116,117,118,119,120,121,122,123,124,125,126,127,128,129,130,131,132,133,134,135,136,137,138,139,140,141,142,143,144,145,146,147,148,149,150,151,152,153,154,155,156,157,158,159],\"xaxis\":\"x3\",\"y\":[32.673161875118424,23.110566128920787,37.329394971810004,17.45178711802633,40.25915284426136,19.8562643946421,46.209787196036594,55.6891004930328,38.460179785804584,18.379831860412217,16.120002879825723,20.040954667518807,12.743205921518674,36.39478009231445,41.585544914893106,20.944845681070692,58.65442055994272,33.319877182948765,43.03920520918167,12.657687853450787,11.42379048369696,27.737958512135847,17.15397947688368,22.68790144800903,60.08496129605159,22.942708750929857,44.00276379106738,13.448488600713148,29.39964552734942,28.270612233454486,10.017166853673167,9.256692375661258,33.53336868543498,14.33635596487514,30.128325846583447,40.41987180364594,16.28359129303243,9.659505749947295,26.28999498188285,48.820946338794634,15.49658896151232,38.654505039463274,66.54257128753962,28.24252435404938,19.474304122252644,34.345083725795945,15.002537422389969,13.348228526380357,40.868586645718565,28.203080808025362,27.288581361665226,26.538043865400795,16.169199291093506,43.18378141506475,18.551955487141033,51.95046055114765,27.817880019271456,9.64560566370896,16.525715013465952,14.598313368008636,13.016478396937686,29.04509106808446,10.652788239521522,57.78160730271168,15.27671377280221,13.573247395874876,29.50203613472523,28.354645078314807,15.861746034540053,45.76532336525951,32.221874402683326,13.260001420037165,36.81891856618954,17.032834777594218,55.44379984219312,13.358055248568467,29.325426103852102,16.65847430291437,9.9671754338916,45.66769360829895,67.32683812488159,15.72641754729092,38.581435574641965,69.73020495582276,61.969699471604976,63.75555439643006,47.27005455805388,47.666419404100466,65.17998989775857,25.598860456387314,37.45685251343721,43.04329885910002,74.5532061918978,52.69064943688389,42.48374101073294,77.67792980775047,60.272045900562965,45.6289307309172,46.893265723209176,64.8157476605846,42.754099569816795,32.36058498800398,10.137233922751404,70.60197846722903,23.04498927503884,28.517304781132108,8.326617204192138,29.319685636161513,16.867515918981884,39.87920868895502,25.564263630706385,12.71101579596281,6.322004263915019,34.911088052243336,28.23914582310212,33.685298407718044,10.761322757269754,25.45128034407705,6.882175267505569,46.726216939241475,28.363474003690293,38.75929606156883,43.656896082380854,63.29105399691577,65.13824840846576,20.470958640373382,49.646910433361,40.62329833401966,73.41311408989645,63.70476339933144,53.02173900102516,64.98198462799458,65.17467909503384,25.59635847170631,77.88496275564496,20.70048031245477,35.149165198157704,41.95611889580167,74.04102229905777,64.00057870293467,47.38548853162089,42.705376658927676,54.67989426267519,20.65213586697019,41.662189835884696,9.07740992011097,47.76041906586786,12.284048853333086,6.120854869911626,23.265098674636224,57.072564893467835,56.76671667979455,38.8692900056264,35.972328073756344,11.838770647164923,8.632041212194327,24.448149540046707,6.409587970479561,6.074286275423828,45.58542287434108],\"yaxis\":\"y3\",\"type\":\"scatter\"},{\"line\":{\"color\":\"green\"},\"mode\":\"lines\",\"name\":\"utility option 2\",\"x\":[0,1,2,3,4,5,6,7,8,9,10,11,12,13,14,15,16,17,18,19,20,21,22,23,24,25,26,27,28,29,30,31,32,33,34,35,36,37,38,39,40,41,42,43,44,45,46,47,48,49,50,51,52,53,54,55,56,57,58,59,60,61,62,63,64,65,66,67,68,69,70,71,72,73,74,75,76,77,78,79,80,81,82,83,84,85,86,87,88,89,90,91,92,93,94,95,96,97,98,99,100,101,102,103,104,105,106,107,108,109,110,111,112,113,114,115,116,117,118,119,120,121,122,123,124,125,126,127,128,129,130,131,132,133,134,135,136,137,138,139,140,141,142,143,144,145,146,147,148,149,150,151,152,153,154,155,156,157,158,159],\"xaxis\":\"x3\",\"y\":[44.224387291706144,59.562595746197644,39.56815419501456,76.77260017367982,30.862783614269347,51.2656720638886,36.463374679081824,38.53528679867335,49.9885947976077,35.415266473236905,37.675095453823396,56.85659449930576,58.37873053701203,52.053994491097825,29.536391543637595,73.27954161063545,35.56996673176342,43.577671983875796,39.63395666593675,70.01547402166763,71.24937139142146,60.71081607127643,77.07040781482246,31.1071968856401,34.139425995654555,53.95484041589471,38.670398084051044,57.673447857817564,47.49790363947514,42.85132422507622,72.65599502144526,44.53840595798787,37.58856777309572,79.888031326831,58.32044873682884,42.253290071472485,60.61395787379213,61.46243070858341,50.60755418494172,45.4034409529115,67.17657291360611,32.46743141906743,27.681816004166514,48.65502481277519,51.64763233627806,54.103690857616336,79.22184986931617,40.44686980726877,41.80457522939985,48.694468358799206,49.60896780515934,44.58389259312991,66.50396258402492,39.489380460053674,58.345593679683525,42.273926740558494,60.630894564140824,44.149492669940166,54.59622144506475,79.6260739236975,40.77861993671144,47.852458098740094,83.57159905218462,36.44277998899446,67.39644810231621,57.548689062655825,41.619900323805474,60.09412950509747,61.035803132284514,36.90783850985891,44.675674764141235,57.86193503849354,51.62985601722274,65.6403270975242,38.78058744951302,80.86633204313767,41.79651035467861,60.239074863910204,43.827922899757525,37.00546826681948,26.897549166824565,38.06868078635821,38.316113592182596,12.942956919295657,9.152236986925724,24.693220186982224,46.95433273365226,35.00674247101795,11.71755926906599,45.52307600214339,16.338245820211917,28.078637599430685,8.119955683220619,24.206899729940687,45.96503357267934,16.546457483955663,10.849890557967745,48.59545656078894,35.77989615190925,12.081801506239952,28.367836888713917,56.08818959540831,60.9847025357793,23.62240882447711,53.852559891785724,48.38024438569246,85.897770087514,24.475412697487613,65.80564595613654,42.793953186163414,62.884510952705895,64.18653337086175,47.47309406973411,47.76207382287509,54.4340160520163,37.43663805081267,60.360613701260945,51.44626882274752,87.34221202420058,47.49817035246467,42.758462454840405,55.46509123013731,39.01626579273757,7.8308824616149355,29.086138883240388,56.42659052645118,38.80186415005128,13.171799999629469,9.26004778522196,13.19278576749312,23.875810165799404,23.466789955417706,11.722870071790728,68.62802881999983,16.339424536061177,61.97268156266366,35.972771260373,11.83897943784746,8.632139576060643,7.121357755596031,23.736447926909822,28.416559799603025,33.768880320737104,62.021026008148226,41.01097203923373,85.14697737159518,46.46396822583828,64.61350031349149,47.674243463737504,53.63245049218834,25.600596981650583,37.457670611911595,38.028259161198164,35.14960838477436,70.8343912279535,62.48989524633638,64.00062504336557,87.81479932122657,47.7208120582253,31.312126292483484],\"yaxis\":\"y3\",\"type\":\"scatter\"}],                        {\"template\":{\"data\":{\"scatter\":[{\"type\":\"scatter\"}]}},\"xaxis\":{\"anchor\":\"y\",\"domain\":[0.0,1.0],\"title\":{\"text\":\"\"},\"range\":[0,160]},\"yaxis\":{\"anchor\":\"x\",\"domain\":[0.7333333333333333,1.0],\"title\":{\"text\":\"option 1 rewarded?\"}},\"xaxis2\":{\"anchor\":\"y2\",\"domain\":[0.0,1.0],\"title\":{\"text\":\"\"},\"range\":[0,160]},\"yaxis2\":{\"anchor\":\"x2\",\"domain\":[0.36666666666666664,0.6333333333333333],\"title\":{\"text\":\"magnitude\"}},\"xaxis3\":{\"anchor\":\"y3\",\"domain\":[0.0,1.0],\"title\":{\"text\":\"trial number\"},\"range\":[0,160]},\"yaxis3\":{\"anchor\":\"x3\",\"domain\":[0.0,0.26666666666666666],\"title\":{\"text\":\"utility\"}}},                        {\"responsive\": true}                    ).then(function(){\n",
              "                            \n",
              "var gd = document.getElementById('f9b1abee-7d1f-4707-9424-3a3a8f40033a');\n",
              "var x = new MutationObserver(function (mutations, observer) {{\n",
              "        var display = window.getComputedStyle(gd).display;\n",
              "        if (!display || display === 'none') {{\n",
              "            console.log([gd, 'removed!']);\n",
              "            Plotly.purge(gd);\n",
              "            observer.disconnect();\n",
              "        }}\n",
              "}});\n",
              "\n",
              "// Listen for the removal of the full notebook cells\n",
              "var notebookContainer = gd.closest('#notebook-container');\n",
              "if (notebookContainer) {{\n",
              "    x.observe(notebookContainer, {childList: true});\n",
              "}}\n",
              "\n",
              "// Listen for the clearing of the current output cell\n",
              "var outputEl = gd.closest('.output');\n",
              "if (outputEl) {{\n",
              "    x.observe(outputEl, {childList: true});\n",
              "}}\n",
              "\n",
              "                        })                };                            </script>        </div>\n",
              "</body>\n",
              "</html>"
            ]
          },
          "metadata": {}
        }
      ],
      "source": [
        "plot_schedule(0, data2AlphaAdd)"
      ]
    },
    {
      "cell_type": "markdown",
      "metadata": {
        "id": "24S79rZwE7yW"
      },
      "source": [
        "We can also check what a different model thinks happened during the task for this participant by passing the data frame associated with a different model fit to the function:"
      ]
    },
    {
      "cell_type": "code",
      "execution_count": null,
      "metadata": {
        "colab": {
          "base_uri": "https://localhost:8080/",
          "height": 542
        },
        "id": "nV6FJXatE40b",
        "outputId": "083258c1-125d-48bb-9865-4e2092bc7141"
      },
      "outputs": [
        {
          "output_type": "display_data",
          "data": {
            "text/html": [
              "<html>\n",
              "<head><meta charset=\"utf-8\" /></head>\n",
              "<body>\n",
              "    <div>            <script src=\"https://cdnjs.cloudflare.com/ajax/libs/mathjax/2.7.5/MathJax.js?config=TeX-AMS-MML_SVG\"></script><script type=\"text/javascript\">if (window.MathJax && window.MathJax.Hub && window.MathJax.Hub.Config) {window.MathJax.Hub.Config({SVG: {font: \"STIX-Web\"}});}</script>                <script type=\"text/javascript\">window.PlotlyConfig = {MathJaxConfig: 'local'};</script>\n",
              "        <script charset=\"utf-8\" src=\"https://cdn.plot.ly/plotly-2.24.1.min.js\"></script>                <div id=\"fbc37082-fa98-430b-80d2-370837e8b061\" class=\"plotly-graph-div\" style=\"height:525px; width:100%;\"></div>            <script type=\"text/javascript\">                                    window.PLOTLYENV=window.PLOTLYENV || {};                                    if (document.getElementById(\"fbc37082-fa98-430b-80d2-370837e8b061\")) {                    Plotly.newPlot(                        \"fbc37082-fa98-430b-80d2-370837e8b061\",                        [{\"line\":{\"color\":\"black\",\"dash\":\"dash\"},\"mode\":\"lines\",\"name\":\"true probability\",\"x\":[0,1,2,3,4,5,6,7,8,9,10,11,12,13,14,15,16,17,18,19,20,21,22,23,24,25,26,27,28,29,30,31,32,33,34,35,36,37,38,39,40,41,42,43,44,45,46,47,48,49,50,51,52,53,54,55,56,57,58,59,60,61,62,63,64,65,66,67,68,69,70,71,72,73,74,75,76,77,78,79,80,81,82,83,84,85,86,87,88,89,90,91,92,93,94,95,96,97,98,99,100,101,102,103,104,105,106,107,108,109,110,111,112,113,114,115,116,117,118,119,120,121,122,123,124,125,126,127,128,129,130,131,132,133,134,135,136,137,138,139,140,141,142,143,144,145,146,147,148,149,150,151,152,153,154,155,156,157,158,159],\"y\":[0.2,0.2,0.2,0.2,0.2,0.2,0.2,0.2,0.2,0.2,0.2,0.2,0.2,0.2,0.2,0.2,0.2,0.2,0.2,0.2,0.2,0.2,0.2,0.2,0.2,0.2,0.2,0.2,0.2,0.2,0.2,0.2,0.2,0.2,0.2,0.2,0.2,0.2,0.2,0.2,0.2,0.2,0.2,0.2,0.2,0.2,0.2,0.2,0.2,0.2,0.2,0.2,0.2,0.2,0.2,0.2,0.2,0.2,0.2,0.2,0.2,0.2,0.2,0.2,0.2,0.2,0.2,0.2,0.2,0.2,0.2,0.2,0.2,0.2,0.2,0.2,0.2,0.2,0.2,0.2,0.8,0.8,0.8,0.8,0.8,0.8,0.8,0.8,0.8,0.8,0.8,0.8,0.8,0.8,0.8,0.8,0.8,0.8,0.8,0.8,0.2,0.2,0.2,0.2,0.2,0.2,0.2,0.2,0.2,0.2,0.2,0.2,0.2,0.2,0.2,0.2,0.2,0.2,0.2,0.2,0.8,0.8,0.8,0.8,0.8,0.8,0.8,0.8,0.8,0.8,0.8,0.8,0.8,0.8,0.8,0.8,0.8,0.8,0.8,0.8,0.2,0.2,0.2,0.2,0.2,0.2,0.2,0.2,0.2,0.2,0.2,0.2,0.2,0.2,0.2,0.2,0.2,0.2,0.2,0.2],\"type\":\"scatter\"},{\"line\":{\"color\":\"red\"},\"mode\":\"lines\",\"name\":\"RL model probability\",\"x\":[0,1,2,3,4,5,6,7,8,9,10,11,12,13,14,15,16,17,18,19,20,21,22,23,24,25,26,27,28,29,30,31,32,33,34,35,36,37,38,39,40,41,42,43,44,45,46,47,48,49,50,51,52,53,54,55,56,57,58,59,60,61,62,63,64,65,66,67,68,69,70,71,72,73,74,75,76,77,78,79,80,81,82,83,84,85,86,87,88,89,90,91,92,93,94,95,96,97,98,99,100,101,102,103,104,105,106,107,108,109,110,111,112,113,114,115,116,117,118,119,120,121,122,123,124,125,126,127,128,129,130,131,132,133,134,135,136,137,138,139,140,141,142,143,144,145,146,147,148,149,150,151,152,153,154,155,156,157,158,159],\"y\":[0.5,0.3225638140745034,0.20809482830058162,0.13424772301162904,0.4414792869818903,0.2848104852875416,0.1837391128455193,0.11853517806823258,0.4313426901303723,0.2782710866032191,0.1795203660827816,0.1158135479754263,0.07471451951290797,0.4030727726126482,0.6149057536180349,0.39669269036678045,0.2559174144403694,0.1650993945799419,0.10651018083419492,0.06871266033528597,0.04432843558591138,0.02859749850909504,0.37332140823516047,0.5957123264829893,0.38431048024309766,0.24792930859203535,0.15994604680060293,0.10318561380428301,0.06656789029265651,0.04294478517538479,0.02770486740156462,0.017873175394954123,0.36640285110103116,0.23637660227784194,0.1524930767774253,0.09837749693056477,0.06346604125805144,0.040943696664813733,0.026413909917023685,0.01704034305491102,0.3658655679488534,0.5909023579232262,0.7360798084856596,0.47486542097672874,0.30634880272469667,0.19763407648807158,0.12749920300616902,0.08225325842625854,0.05306384951605948,0.034232955378751276,0.022084625308024596,0.014247401943525436,0.36406376447410527,0.2348675928701782,0.15151957311740466,0.09774946282338129,0.06306087910408749,0.040682315365411226,0.3811176574702908,0.24586953040951431,0.15861722698720007,0.10232835542982502,0.06601484923083156,0.3974603749578938,0.256412668979801,0.16541889696629541,0.1067163006508911,0.06884563392374568,0.04441422052164085,0.3835252125922063,0.24742271073495364,0.15961922652663846,0.4578471448671025,0.29536984262290855,0.19055124599806242,0.12292987337156794,0.07930545763685737,0.05116214178453733,0.03300611118048176,0.3761655260712798,0.5,0.3225638140745034,0.5629672001515748,0.7180580664104658,0.818111469107639,0.8826586834779038,0.9242998747882182,0.9511637577715404,0.9684943908834435,0.6248024892662529,0.7579497198129262,0.8438466768501106,0.8992611770087264,0.9350106020611171,0.6032011720018633,0.7440141132412563,0.8348564320357115,0.8934613216951343,0.931268955159052,0.9556597040615562,0.6165224781988135,0.3977356840609483,0.2565902784884623,0.5204058496183479,0.3357281914391535,0.2165875318458968,0.13972660070639087,0.44501386235403045,0.28709073751388425,0.18521016655588124,0.11948419545927817,0.07708255561793645,0.04972808627746324,0.032080962352569034,0.3755686870022436,0.24228973625279415,0.1563078028736135,0.10083848212903679,0.0650536908020515,0.04196793324946635,0.38194704508653726,0.6012769631261927,0.7427727529332318,0.8340555962045172,0.5380723085238259,0.34712531217063647,0.5788125011621195,0.7282803078687056,0.8247061194939597,0.8869130746401028,0.9270445000679057,0.952934391368383,0.9696366755360954,0.6255394086548893,0.7584251268702542,0.48928100322641666,0.670521064960818,0.7874440361131119,0.862874275168726,0.9115364063813868,0.9429296916712865,0.6083099954991713,0.7473099564267066,0.4821102996816989,0.3110226741398613,0.20064932006841013,0.12944441994544434,0.08350817161652849,0.05387342868603123,0.034755237268473994,0.3772939356357598,0.24340274181170177,0.5118982053609414,0.33023967507823737,0.21304673830392196,0.13744233696689134,0.08866784885470717,0.05720207902471187,0.03690264156640442,0.3786792854771606],\"type\":\"scatter\"},{\"marker\":{\"color\":\"blue\",\"size\":5,\"symbol\":\"x\"},\"mode\":\"markers\",\"name\":\"choice probability\",\"x\":[0,1,2,3,4,5,6,7,8,9,10,11,12,13,14,15,16,17,18,19,20,21,22,23,24,25,26,27,28,29,30,31,32,33,34,35,36,37,38,39,40,41,42,43,44,45,46,47,48,49,50,51,52,53,54,55,56,57,58,59,60,61,62,63,64,65,66,67,68,69,70,71,72,73,74,75,76,77,78,79,80,81,82,83,84,85,86,87,88,89,90,91,92,93,94,95,96,97,98,99,100,101,102,103,104,105,106,107,108,109,110,111,112,113,114,115,116,117,118,119,120,121,122,123,124,125,126,127,128,129,130,131,132,133,134,135,136,137,138,139,140,141,142,143,144,145,146,147,148,149,150,151,152,153,154,155,156,157,158,159],\"y\":[0.3181500554539582,0.054551377145889285,0.36058967539714193,0.0056116962982830235,0.7151199268265277,0.1230768962176481,0.5543213527570577,0.5127305959510979,0.3968297122765079,0.4162852012265057,0.3802247055326005,0.07450604991456183,0.05927983415865665,0.3563846798648257,0.8294006073765916,0.03303002301609565,0.7297698028921946,0.31659707117452546,0.45166452413229485,0.014671508201281117,0.012904610422629536,0.05341597011853627,0.02827510442618944,0.5364155129263178,0.8669556899252336,0.12839924840254074,0.5227808373845941,0.06562869469002909,0.22791707163035557,0.35466283840753343,0.011822177075125655,0.3240902559763351,0.6534487084552215,0.011244015159961344,0.1072447752307197,0.4409410760559326,0.059587653903713025,0.05249612155347863,0.19721963733212708,0.3440314290680652,0.06777011008928725,0.8160629454545096,0.986448937732959,0.2937490152562675,0.1322145946679037,0.13658885777028212,0.005359165212453769,0.34595094347809646,0.3824558159348387,0.20294300334234305,0.19410345814183014,0.3300445751518463,0.06716521435929082,0.6203344998330615,0.08657913064745772,0.47709887628064573,0.06509590973159786,0.3317538511792574,0.16846551444707147,0.011991602371933094,0.37274399017152715,0.25796895938442793,0.003521320438512018,0.8770214518816883,0.03895929247645794,0.08176058053198708,0.41203854117342364,0.06727604196196071,0.05488805089464176,0.7831648950642504,0.403011914503376,0.08011629508388857,0.4360864618021561,0.04753333903828876,0.6329759981701749,0.005194629917749182,0.38698129722770414,0.0565112547731074,0.32916451797281193,0.7764218128307814,0.9351119413271932,0.432780813332108,0.38360084192738064,0.955607433446596,0.9134012620228611,0.9116189324771239,0.5604379984497421,0.6228578196084804,0.9480954176824156,0.3390000616337012,0.5970679914887176,0.541682693861106,0.9826417363758135,0.7733508680913889,0.6523422558233508,0.9871576384787415,0.9183181692688774,0.5078417401680047,0.5976149657150112,0.9451294860547423,0.830270737262869,0.34895458139007196,0.11193074641968584,0.9431065239846703,0.18040299887486438,0.36959318057841667,0.005825392550741857,0.4790546704283651,0.045572765582243754,0.5562597413394599,0.08943962531053397,0.06317475800917541,0.33481827042347406,0.3563819794228518,0.07111528720870273,0.5402091005667551,0.07919105261680907,0.2566667195709061,0.0034982578418695873,0.38358429540179995,0.16890880866767588,0.12204729318898033,0.3519954476916072,0.9180889216179756,0.9492711975368756,0.18823918776051335,0.6178946516012244,0.5861397725159122,0.9743780442064728,0.9263493232746485,0.7669010946645415,0.9405945418138456,0.9483519163061388,0.14103383529085278,0.9883525066331256,0.12315216237578597,0.3790693573905615,0.6078370508365841,0.9790001234965909,0.9377294496249727,0.6329206097707165,0.8258140067274168,0.8187895849269211,0.11907953604053387,0.7104009524997554,0.008821336768796175,0.5314028865011882,0.06493659707656699,0.3362272679721196,0.20332967822914144,0.7774652988194428,0.7125081990292518,0.33007023322168494,0.6216128771478028,0.031161931394556558,0.0741039111262795,0.07526977002041282,0.0033154121979713943,0.3304776095159646,0.5516648458526181],\"type\":\"scatter\"},{\"marker\":{\"color\":\"green\",\"opacity\":0.8,\"size\":5},\"mode\":\"markers\",\"name\":\"correct choice\",\"x\":[0,1,2,3,4,5,6,7,8,9,10,11,12,13,14,15,16,17,18,19,20,21,22,23,24,25,26,27,28,29,30,31,32,33,34,35,36,37,38,39,40,41,42,43,44,45,46,47,48,49,50,51,52,53,54,55,56,57,58,59,60,61,62,63,64,65,66,67,68,69,70,71,72,73,74,75,76,77,78,79,80,81,82,83,84,85,86,87,88,89,90,91,92,93,94,95,96,97,98,99,100,101,102,103,104,105,106,107,108,109,110,111,112,113,114,115,116,117,118,119,120,121,122,123,124,125,126,127,128,129,130,131,132,133,134,135,136,137,138,139,140,141,142,143,144,145,146,147,148,149,150,151,152,153,154,155,156,157,158,159],\"y\":[0.0,0.0,null,null,null,0.0,null,1.0,0.0,null,0.0,0.0,null,null,null,0.0,0.0,null,null,0.0,0.0,null,null,null,null,0.0,0.0,0.0,null,0.0,0.0,null,0.0,0.0,null,0.0,0.0,0.0,0.0,null,null,1.0,null,0.0,0.0,0.0,0.0,0.0,0.0,null,0.0,null,null,0.0,0.0,null,0.0,null,0.0,0.0,0.0,null,null,0.0,0.0,0.0,null,0.0,null,null,0.0,null,0.0,0.0,null,0.0,null,0.0,null,null,null,null,1.0,1.0,1.0,1.0,null,null,null,null,1.0,null,1.0,null,null,1.0,1.0,1.0,1.0,null,null,null,null,0.0,0.0,0.0,null,null,0.0,0.0,0.0,0.0,0.0,null,0.0,null,0.0,0.0,0.0,null,1.0,null,null,0.0,null,null,1.0,1.0,1.0,1.0,1.0,1.0,null,null,null,null,1.0,null,1.0,1.0,null,1.0,null,0.0,null,0.0,0.0,0.0,0.0,null,null,1.0,null,null,0.0,0.0,0.0,0.0,1.0,null],\"type\":\"scatter\"},{\"marker\":{\"color\":\"red\",\"opacity\":0.8,\"size\":5},\"mode\":\"markers\",\"name\":\"incorrect choice\",\"x\":[0,1,2,3,4,5,6,7,8,9,10,11,12,13,14,15,16,17,18,19,20,21,22,23,24,25,26,27,28,29,30,31,32,33,34,35,36,37,38,39,40,41,42,43,44,45,46,47,48,49,50,51,52,53,54,55,56,57,58,59,60,61,62,63,64,65,66,67,68,69,70,71,72,73,74,75,76,77,78,79,80,81,82,83,84,85,86,87,88,89,90,91,92,93,94,95,96,97,98,99,100,101,102,103,104,105,106,107,108,109,110,111,112,113,114,115,116,117,118,119,120,121,122,123,124,125,126,127,128,129,130,131,132,133,134,135,136,137,138,139,140,141,142,143,144,145,146,147,148,149,150,151,152,153,154,155,156,157,158,159],\"y\":[null,null,1.0,0.0,1.0,null,1.0,null,null,1.0,null,null,0.0,0.0,1.0,null,null,1.0,1.0,null,null,0.0,0.0,1.0,1.0,null,null,null,1.0,null,null,0.0,null,null,1.0,null,null,null,null,0.0,0.0,null,1.0,null,null,null,null,null,null,1.0,null,0.0,1.0,null,null,1.0,null,0.0,null,null,null,1.0,0.0,null,null,null,1.0,null,0.0,1.0,null,0.0,null,null,1.0,null,1.0,null,0.0,1.0,1.0,0.0,null,null,null,null,0.0,0.0,1.0,0.0,null,0.0,null,1.0,0.0,null,null,null,null,1.0,1.0,1.0,0.0,null,null,null,0.0,1.0,null,null,null,null,null,0.0,null,1.0,null,null,null,0.0,null,0.0,0.0,null,1.0,0.0,null,null,null,null,null,null,1.0,0.0,1.0,0.0,null,0.0,null,null,1.0,null,1.0,null,1.0,null,null,null,null,0.0,1.0,null,1.0,1.0,null,null,null,null,null,1.0],\"type\":\"scatter\"},{\"line\":{\"color\":\"orange\"},\"mode\":\"lines\",\"name\":\"magnitude option 1\",\"x\":[0,1,2,3,4,5,6,7,8,9,10,11,12,13,14,15,16,17,18,19,20,21,22,23,24,25,26,27,28,29,30,31,32,33,34,35,36,37,38,39,40,41,42,43,44,45,46,47,48,49,50,51,52,53,54,55,56,57,58,59,60,61,62,63,64,65,66,67,68,69,70,71,72,73,74,75,76,77,78,79,80,81,82,83,84,85,86,87,88,89,90,91,92,93,94,95,96,97,98,99,100,101,102,103,104,105,106,107,108,109,110,111,112,113,114,115,116,117,118,119,120,121,122,123,124,125,126,127,128,129,130,131,132,133,134,135,136,137,138,139,140,141,142,143,144,145,146,147,148,149,150,151,152,153,154,155,156,157,158,159],\"xaxis\":\"x2\",\"y\":[20,10,40,10,40,10,60,80,40,10,10,20,10,40,40,10,80,40,60,10,10,40,10,10,80,20,60,10,40,40,10,10,40,10,40,60,20,10,40,80,10,40,80,20,10,40,10,10,60,40,40,40,10,60,20,80,40,10,10,10,10,40,10,80,10,10,40,40,20,60,40,10,40,10,80,10,40,20,10,60,80,10,20,60,40,40,10,10,40,10,10,10,60,20,40,80,40,10,10,40,40,40,10,80,20,40,10,10,10,60,40,20,10,60,10,40,10,40,10,80,10,10,10,40,80,20,40,10,60,40,20,40,40,10,80,10,10,10,60,40,10,40,40,10,60,10,80,20,10,40,60,80,20,40,10,10,40,10,10,40],\"yaxis\":\"y2\",\"type\":\"scatter\"},{\"line\":{\"color\":\"green\"},\"mode\":\"lines\",\"name\":\"magnitude option 2\",\"x\":[0,1,2,3,4,5,6,7,8,9,10,11,12,13,14,15,16,17,18,19,20,21,22,23,24,25,26,27,28,29,30,31,32,33,34,35,36,37,38,39,40,41,42,43,44,45,46,47,48,49,50,51,52,53,54,55,56,57,58,59,60,61,62,63,64,65,66,67,68,69,70,71,72,73,74,75,76,77,78,79,80,81,82,83,84,85,86,87,88,89,90,91,92,93,94,95,96,97,98,99,100,101,102,103,104,105,106,107,108,109,110,111,112,113,114,115,116,117,118,119,120,121,122,123,124,125,126,127,128,129,130,131,132,133,134,135,136,137,138,139,140,141,142,143,144,145,146,147,148,149,150,151,152,153,154,155,156,157,158,159],\"xaxis\":\"x2\",\"y\":[40,60,20,80,10,40,10,10,40,10,10,40,40,40,10,80,10,20,10,60,60,40,80,10,10,40,10,40,20,10,60,10,10,80,40,10,40,40,20,10,60,10,10,40,40,40,80,10,10,20,20,10,60,10,40,10,40,10,40,80,10,20,80,10,60,40,10,40,40,10,20,40,40,60,10,80,10,40,10,10,10,10,40,10,10,40,80,60,20,40,10,40,10,40,40,10,10,80,60,20,10,40,40,10,40,20,80,10,60,10,40,40,10,10,60,10,40,20,80,10,40,80,60,10,10,40,40,10,10,20,40,40,20,80,10,60,40,10,10,10,40,10,40,60,10,80,10,40,10,20,10,10,40,10,60,40,40,80,10,20],\"yaxis\":\"y2\",\"type\":\"scatter\"},{\"line\":{\"color\":\"orange\"},\"mode\":\"lines\",\"name\":\"utility option 1\",\"x\":[0,1,2,3,4,5,6,7,8,9,10,11,12,13,14,15,16,17,18,19,20,21,22,23,24,25,26,27,28,29,30,31,32,33,34,35,36,37,38,39,40,41,42,43,44,45,46,47,48,49,50,51,52,53,54,55,56,57,58,59,60,61,62,63,64,65,66,67,68,69,70,71,72,73,74,75,76,77,78,79,80,81,82,83,84,85,86,87,88,89,90,91,92,93,94,95,96,97,98,99,100,101,102,103,104,105,106,107,108,109,110,111,112,113,114,115,116,117,118,119,120,121,122,123,124,125,126,127,128,129,130,131,132,133,134,135,136,137,138,139,140,141,142,143,144,145,146,147,148,149,150,151,152,153,154,155,156,157,158,159],\"xaxis\":\"x3\",\"y\":[10.0,3.2256381407450343,8.323793132023265,1.3424772301162904,17.659171479275614,2.848104852875416,11.024346770731158,9.482814245458606,17.253707605214892,2.7827108660321906,1.795203660827816,2.316270959508526,0.7471451951290797,16.12291090450593,24.596230144721396,3.9669269036678045,20.47339315522955,6.603975783197677,6.390610850051695,0.6871266033528598,0.4432843558591138,1.1438999403638015,3.733214082351605,5.957123264829893,30.744838419447813,4.958586171840707,9.596762808036175,1.0318561380428302,2.6627156117062607,1.7177914070153917,0.2770486740156462,0.17873175394954122,14.656114044041246,2.363766022778419,6.099723071097012,5.902649815833886,1.2693208251610288,0.40943696664813733,1.0565563966809475,1.3632274443928816,3.658655679488534,23.636094316929046,58.886384678852764,9.497308419534574,3.063488027246967,7.905363059522863,1.2749920300616902,0.8225325842625854,3.183830970963569,1.369318215150051,0.8833850123209839,0.5698960777410175,3.6406376447410524,14.092055572210691,3.030391462348093,7.819957025870503,2.5224351641634994,0.40682315365411226,3.811176574702908,2.4586953040951434,1.5861722698720007,4.0931342171930005,0.6601484923083156,31.796829996631505,2.5641266897980097,1.6541889696629541,4.268652026035644,2.753825356949827,0.888284410432817,23.011512755532376,9.896908429398145,1.5961922652663847,18.3138857946841,2.9536984262290855,15.244099679844993,1.2292987337156793,3.1722183054742947,1.0232428356907466,0.33006111180481756,22.569931564276786,40.0,3.2256381407450343,11.259344003031496,43.08348398462795,32.72445876430556,35.30634733911615,9.242998747882181,9.511637577715405,38.739775635337736,6.24802489266253,7.579497198129262,8.438466768501106,53.955670620523584,18.700212041222343,24.128046880074532,59.521129059300506,33.39425728142846,8.934613216951343,9.31268955159052,38.22638816246225,24.66089912795254,15.909427362437931,2.5659027848846225,41.63246796946783,6.71456382878307,8.663501273835871,1.3972660070639087,4.450138623540305,2.8709073751388425,11.112609993352875,4.779367818371127,1.5416511123587289,0.49728086277463235,1.924857741154142,3.755686870022436,9.691589450111767,1.5630780287361352,4.0335392851614715,0.650536908020515,3.357434659957308,3.8194704508653725,6.012769631261927,7.4277275293323175,33.36222384818069,43.04578468190607,6.94250624341273,23.15250004648478,7.2828030786870555,49.48236716963758,35.47652298560411,18.540890001358115,38.11737565473532,38.78546702144382,6.255394086548893,60.67401014962034,4.892810032264166,6.70521064960818,7.874440361131119,51.772456510123554,36.46145625525547,9.429296916712865,24.332399819966852,29.892398257068265,4.821102996816989,18.661360448391676,2.006493200684101,10.355553595635547,1.6701634323305696,0.5387342868603123,1.3902094907389597,22.637636138145588,19.472219344936143,10.23796410721883,13.209587003129496,2.1304673830392193,1.3744233696689134,3.546713954188287,0.5720207902471187,0.36902641566404426,15.147171419086424],\"yaxis\":\"y3\",\"type\":\"scatter\"},{\"line\":{\"color\":\"green\"},\"mode\":\"lines\",\"name\":\"utility option 2\",\"x\":[0,1,2,3,4,5,6,7,8,9,10,11,12,13,14,15,16,17,18,19,20,21,22,23,24,25,26,27,28,29,30,31,32,33,34,35,36,37,38,39,40,41,42,43,44,45,46,47,48,49,50,51,52,53,54,55,56,57,58,59,60,61,62,63,64,65,66,67,68,69,70,71,72,73,74,75,76,77,78,79,80,81,82,83,84,85,86,87,88,89,90,91,92,93,94,95,96,97,98,99,100,101,102,103,104,105,106,107,108,109,110,111,112,113,114,115,116,117,118,119,120,121,122,123,124,125,126,127,128,129,130,131,132,133,134,135,136,137,138,139,140,141,142,143,144,145,146,147,148,149,150,151,152,153,154,155,156,157,158,159],\"xaxis\":\"x3\",\"y\":[20.0,40.64617115552979,15.838103433988366,69.26018215906967,5.585207130181097,28.607580588498337,8.162608871544808,8.814648219317675,22.746292394785108,7.217289133967809,8.204796339172184,35.36745808098295,37.011419219483685,23.87708909549407,3.850942463819651,48.264584770657564,7.440825855596306,16.698012108401162,8.93489819165805,55.87724037988284,57.340293864845314,38.8561000596362,50.13428734118716,4.042876735170107,6.156895197569023,30.082827656318585,8.40053953199397,35.87257544782868,18.66864219414687,9.570552148246152,58.33770795590612,9.821268246050458,6.3359714889896885,61.08987181777265,33.90027692890299,9.016225030694352,37.461358349677944,38.36225213340745,19.471721801659527,9.82959656945089,38.0480659230688,4.090976420767738,2.6392019151434045,21.005383160930855,27.746047891012132,32.09463694047714,69.80006375950649,9.177467415737414,9.469361504839405,19.315340892424974,19.558307493839507,9.857525980564745,38.15617413155368,7.651324071298218,33.939217075303816,9.022505371766186,37.477564835836496,9.593176846345887,24.755293701188368,60.33043756723885,8.413827730128,17.9534328914035,74.71881206153347,6.025396250421062,44.61523986121194,33.383244121348184,8.932836993491089,37.246174643050175,38.223431179134366,6.164747874077937,15.051545785300927,33.61523093893446,21.686114205315903,42.27780944262549,8.094487540019376,70.16561013027457,9.206945423631426,37.9535143286185,9.669938888195182,6.238344739287203,5.0,6.774361859254966,17.48131199393701,2.8194193358953425,1.8188853089236101,4.693652660883849,6.056010016942546,2.930174533707577,0.6301121823311306,15.007900429349883,2.4205028018707377,6.246132925995576,1.0073882299127357,2.599575917555317,15.871953119925468,2.5598588675874367,1.6514356796428853,8.52309426438926,4.123862690456884,0.8868059187688759,3.8347752180118655,24.09057263756207,29.73638886046151,4.795941503816521,26.570872342433862,15.668249363082065,68.82187194348873,5.549861376459695,42.77455574916694,8.147898334441187,35.22063218162887,36.91669777528254,9.502719137225368,9.67919037647431,37.46587877986538,7.577102637472058,33.747687885055456,17.983230357419263,74.79570473583588,9.580320667505337,24.72211819653851,31.897842949904582,15.433634824006095,1.659444037954828,4.619276914761741,26.11498751317454,16.84749995351522,2.7171969213129445,1.7529388050604033,2.2617385071979434,2.918219997283771,1.8826243452646807,0.607266489278091,29.956847307608854,2.415748731297458,30.643139806415,13.17915740156728,2.1255596388688813,1.3712572483127405,0.8846359361861322,2.2828123331485406,3.916900045008287,10.107601742931735,31.07338201909807,6.889773258601387,63.94805439452719,8.705555800545557,36.65967313533886,9.461265713139689,19.30489525463052,6.227060643642401,7.565972581882983,19.52407178556234,6.697603249217626,47.21719570176468,34.50230652132434,36.453286045811716,75.42383367802304,9.630973584335955,12.426414290456789],\"yaxis\":\"y3\",\"type\":\"scatter\"}],                        {\"template\":{\"data\":{\"scatter\":[{\"type\":\"scatter\"}]}},\"xaxis\":{\"anchor\":\"y\",\"domain\":[0.0,1.0],\"title\":{\"text\":\"\"},\"range\":[0,160]},\"yaxis\":{\"anchor\":\"x\",\"domain\":[0.7333333333333333,1.0],\"title\":{\"text\":\"option 1 rewarded?\"}},\"xaxis2\":{\"anchor\":\"y2\",\"domain\":[0.0,1.0],\"title\":{\"text\":\"\"},\"range\":[0,160]},\"yaxis2\":{\"anchor\":\"x2\",\"domain\":[0.36666666666666664,0.6333333333333333],\"title\":{\"text\":\"magnitude\"}},\"xaxis3\":{\"anchor\":\"y3\",\"domain\":[0.0,1.0],\"title\":{\"text\":\"trial number\"},\"range\":[0,160]},\"yaxis3\":{\"anchor\":\"x3\",\"domain\":[0.0,0.26666666666666666],\"title\":{\"text\":\"utility\"}}},                        {\"responsive\": true}                    ).then(function(){\n",
              "                            \n",
              "var gd = document.getElementById('fbc37082-fa98-430b-80d2-370837e8b061');\n",
              "var x = new MutationObserver(function (mutations, observer) {{\n",
              "        var display = window.getComputedStyle(gd).display;\n",
              "        if (!display || display === 'none') {{\n",
              "            console.log([gd, 'removed!']);\n",
              "            Plotly.purge(gd);\n",
              "            observer.disconnect();\n",
              "        }}\n",
              "}});\n",
              "\n",
              "// Listen for the removal of the full notebook cells\n",
              "var notebookContainer = gd.closest('#notebook-container');\n",
              "if (notebookContainer) {{\n",
              "    x.observe(notebookContainer, {childList: true});\n",
              "}}\n",
              "\n",
              "// Listen for the clearing of the current output cell\n",
              "var outputEl = gd.closest('.output');\n",
              "if (outputEl) {{\n",
              "    x.observe(outputEl, {childList: true});\n",
              "}}\n",
              "\n",
              "                        })                };                            </script>        </div>\n",
              "</body>\n",
              "</html>"
            ]
          },
          "metadata": {}
        }
      ],
      "source": [
        "plot_schedule(0, data1AlphaMul)"
      ]
    },
    {
      "cell_type": "markdown",
      "metadata": {
        "id": "K7irr_4ESDNs"
      },
      "source": [
        "## Actually excluding participants\n",
        "\n",
        "If we want to replot the parameters but exclude some participants, we can use code such as the following, which excludes the participants with IDs 0, 1, and 2:"
      ]
    },
    {
      "cell_type": "code",
      "execution_count": null,
      "metadata": {
        "colab": {
          "base_uri": "https://localhost:8080/",
          "height": 542
        },
        "id": "hlXYQmKMHJxd",
        "outputId": "bd0256e2-03ba-4106-b6a2-f97e50417893"
      },
      "outputs": [
        {
          "output_type": "display_data",
          "data": {
            "text/html": [
              "<html>\n",
              "<head><meta charset=\"utf-8\" /></head>\n",
              "<body>\n",
              "    <div>            <script src=\"https://cdnjs.cloudflare.com/ajax/libs/mathjax/2.7.5/MathJax.js?config=TeX-AMS-MML_SVG\"></script><script type=\"text/javascript\">if (window.MathJax && window.MathJax.Hub && window.MathJax.Hub.Config) {window.MathJax.Hub.Config({SVG: {font: \"STIX-Web\"}});}</script>                <script type=\"text/javascript\">window.PlotlyConfig = {MathJaxConfig: 'local'};</script>\n",
              "        <script charset=\"utf-8\" src=\"https://cdn.plot.ly/plotly-2.24.1.min.js\"></script>                <div id=\"15a54c6d-2452-41d4-92cf-23c2acb912e5\" class=\"plotly-graph-div\" style=\"height:525px; width:100%;\"></div>            <script type=\"text/javascript\">                                    window.PLOTLYENV=window.PLOTLYENV || {};                                    if (document.getElementById(\"15a54c6d-2452-41d4-92cf-23c2acb912e5\")) {                    Plotly.newPlot(                        \"15a54c6d-2452-41d4-92cf-23c2acb912e5\",                        [{\"customdata\":[3.0,4.0,5.0,6.0,7.0,8.0,9.0,10.0,11.0,12.0,13.0,14.0,15.0,16.0,17.0,18.0,19.0,20.0,21.0,22.0,23.0,24.0,25.0,26.0,27.0,28.0,29.0,30.0,31.0,32.0,33.0,34.0,35.0,36.0,37.0,38.0,39.0,40.0,41.0,42.0,43.0,44.0,45.0,46.0,47.0,48.0,49.0,50.0,51.0,52.0,53.0,54.0,55.0,56.0,57.0,58.0,59.0,60.0,61.0,62.0,63.0,64.0,65.0,66.0,67.0,68.0,69.0,70.0,71.0,72.0,73.0,74.0],\"diagonal\":{\"visible\":false},\"dimensions\":[{\"label\":\"alpha stable\",\"values\":[0.09635934979582719,0.09590641634507491,0.045914348982680465,0.06651115438999218,0.13924132618041465,0.0656063753951388,0.1039137307925614,0.1348126689130498,0.09569629808822529,0.04484673069825233,0.03570530809353339,0.015228806549611736,0.12251176304335185,0.08729552891313809,0.27719634477448907,0.702867914713071,0.3242381042083139,0.10055465863683923,0.0885337138230919,0.061757752254805724,0.5036141954186611,0.14040845241508867,0.004049637689859704,0.16632959379412504,0.37809454743945836,0.14839874685092316,0.0380503997975104,0.0021953950732316804,0.07226481857658916,0.06869723958924079,0.07759473592597693,0.10576254729194579,0.11234314363767683,0.22021212851528998,0.07554347465159829,0.09839615537071943,0.08633648088236001,0.10656666177863779,0.6832880498378107,0.14202872279317746,0.14492010022048418,0.14419814534136868,0.09095147853311948,0.15944262311181415,0.13095063452468308,0.1117291507924687,1.0,0.13493060331646126,0.08608328530994615,0.15074071913344986,0.07162536747615858,0.1363355164425356,1.0,0.612995932316947,0.03669687205093629,0.30997225982857274,0.12352891949822813,0.0014898260515719497,0.09600551847126952,0.15002415189237078,0.0247596625261212,0.12377638910022254,0.18464965703277703,0.17185452573669951,0.09790524441630732,0.09411331016804557,0.6201279172740288,0.1420633338784624,0.13010545600676307,0.08334689951953558,0.1587478993361692,0.12904949754694045]},{\"label\":\"alpha volatile\",\"values\":[0.5092382527074859,1.7313643511645925e-16,0.021842150290372075,0.3451232478873555,0.42304390124831603,0.5134092278350568,0.5238726687724649,0.41574372982783797,0.18922666818375358,8.7488117994733635e-16,0.5101750359999797,0.3322528594801731,0.1126375010524136,0.06645701918984342,0.5080391377268264,0.9999999993049071,0.4455261276074278,0.03689981435082487,3.285732822341445e-17,0.07383720726867511,0.3729877579397314,0.46647489760785693,0.005939151041675107,2.61010032279736e-16,0.015986459169407146,0.22109750387485133,0.0012323880314232569,0.00019532850101097482,0.40205660517406827,0.024631091166532927,0.006286819128938546,0.06035826583890111,0.45090385950398204,0.5649899986435633,0.010577475879457149,0.05677006897214623,0.3239019348931101,0.47393858651051346,0.872169877808697,0.20094959121311656,0.2977768097471833,0.3314644311701435,0.19130496011094048,0.26370659700250965,0.7092515272162393,0.019161225006575786,0.7277841905773142,0.006001266160608937,0.0616111456240224,8.676923300226601e-15,2.9985887521496467e-15,0.06113672059523547,0.9129078374827234,0.014870924576929144,0.03960221648161206,0.5436689563728468,0.16732377844849422,0.002809511617643474,0.42897740965165615,0.3162837954697556,0.02061132158756497,0.001542021940137467,0.18468432991814562,0.4075181126040144,0.2750904406188503,0.05698938411295461,0.7138326608592556,0.1082903468160445,0.02345708183514877,0.06914228738146458,0.5245350786087344,0.41677666562892973]},{\"label\":\"beta\",\"values\":[0.07971212488945839,0.06389537927902271,0.08725007266354798,0.2203428119461423,0.18018929555117494,0.09539232199938255,0.16086694190683395,0.11318539290951544,0.1738588326100205,0.12284243753076547,0.13149437525912067,0.13583167821962144,0.09289701262622578,0.11892586293189435,0.08880124582896823,0.032518359085261406,0.13178828087455785,0.1029486172192495,0.09049547918852364,0.13318608772727072,0.027279066008914,0.05395375419931145,0.2661043467890852,0.07466973417338296,0.058767013353908326,0.12028637289971596,0.0319592128232973,0.9999999999833837,0.08292624445771941,0.17510418501881156,0.08678503797667399,0.0664759042546247,0.049721450749878916,0.0398277201184146,0.19002600814779183,0.08178416659746801,0.05839527802077002,0.08643327199935612,0.023948497495373772,0.08296898792223989,0.10102239763219413,0.1908088976985581,0.08366472131925425,0.1365632766615219,0.0720345507135179,0.09690926075169236,0.013841468032201196,0.2043397186658246,0.13435684555406605,0.10268232916344067,0.0931829045090902,0.0729208370782471,0.03835965956934794,0.06138529430861111,0.036543337105043684,0.02633035677417137,0.20203290758341852,0.436384299043336,0.11313233513377603,0.133587015389551,0.15437215679683738,0.05993647574626733,0.13396297955295797,0.0596661565692733,0.2055674561776539,0.2004195950572847,0.03313316095567389,0.1532167894076013,0.09087227513076344,0.06770163243284014,0.08469081795977153,0.09577272074325911]},{\"label\":\"omega\",\"values\":[0.49833595366607253,0.3876599642687234,0.5107475573954188,0.52903108302875,0.7779353995256465,0.4905765638775576,0.5032537998642808,0.5355180502357714,0.6096707694854654,0.546028111052393,0.4251846078593686,0.29839366030332753,0.44869434990285123,0.6421518896358954,0.3534511428650649,0.6669065172848141,0.6418283279605211,0.4747049357766635,0.4251148822583368,0.6158897406847721,0.2702615831372095,0.40534603980564576,0.13114782297456168,0.4229132790539544,0.5511770742148833,0.605970647398735,7.032932978916678e-15,0.02493428161670077,0.4559749706715203,0.5700255672355581,0.31991745468709004,0.4467132043043365,0.5701964255478185,0.4587143669362593,0.6503811390224662,0.43131790688506144,0.5592590706860177,0.4413873388570741,0.1117093006226115,0.5590570598975995,0.4388129310670553,0.5721531337861285,0.674031321788095,0.5880237436883161,0.5449823547627586,0.42236769198448165,0.813148787199922,0.2519150116198238,0.5495556863587374,0.5869404962135147,0.6153491044884577,0.39636314109695353,0.8935691936470599,0.564005048965006,0.004653693667083053,0.4542222427471717,0.6725910852831557,0.11152095037232405,0.372285583310894,0.574181342596215,0.3749438019056951,0.5149767282055023,0.6086878855899411,0.4735682061737753,0.605219718286508,0.575899969329758,0.5491186847741631,0.5389020768503325,0.5928823840467994,0.47992659220246486,0.4442707391415845,0.4994480169926112]}],\"hovertemplate\":\"participant ID: %{customdata}\",\"showupperhalf\":false,\"type\":\"splom\"}],                        {\"template\":{\"data\":{\"scatter\":[{\"type\":\"scatter\"}]}}},                        {\"responsive\": true}                    ).then(function(){\n",
              "                            \n",
              "var gd = document.getElementById('15a54c6d-2452-41d4-92cf-23c2acb912e5');\n",
              "var x = new MutationObserver(function (mutations, observer) {{\n",
              "        var display = window.getComputedStyle(gd).display;\n",
              "        if (!display || display === 'none') {{\n",
              "            console.log([gd, 'removed!']);\n",
              "            Plotly.purge(gd);\n",
              "            observer.disconnect();\n",
              "        }}\n",
              "}});\n",
              "\n",
              "// Listen for the removal of the full notebook cells\n",
              "var notebookContainer = gd.closest('#notebook-container');\n",
              "if (notebookContainer) {{\n",
              "    x.observe(notebookContainer, {childList: true});\n",
              "}}\n",
              "\n",
              "// Listen for the clearing of the current output cell\n",
              "var outputEl = gd.closest('.output');\n",
              "if (outputEl) {{\n",
              "    x.observe(outputEl, {childList: true});\n",
              "}}\n",
              "\n",
              "                        })                };                            </script>        </div>\n",
              "</body>\n",
              "</html>"
            ]
          },
          "metadata": {}
        }
      ],
      "source": [
        "exclude = [0,1,2]\n",
        "plot_parameter_corrs(data2AlphaAdd[~data2AlphaAdd.index.isin(exclude)])"
      ]
    },
    {
      "cell_type": "markdown",
      "metadata": {
        "id": "DmUvshOeSPgx"
      },
      "source": [
        "Are there any participants you think should be excluded? If so, what are their IDs, and why do you think they should be excluded? What do they seem to be doing during the task?"
      ]
    },
    {
      "cell_type": "markdown",
      "metadata": {
        "id": "iB7atW8oSbp5"
      },
      "source": [
        "→ Type your answer here"
      ]
    },
    {
      "cell_type": "markdown",
      "metadata": {
        "id": "wVAxoUa4ScuF"
      },
      "source": [
        "If you have decided to exclude some participants, you can now redo the statistical analyses we have completed above without taking these participants into account. For example, let's say you exclude participants 0, 1, and 2. The likelihood ratio test assuming additive utility now becomes:"
      ]
    },
    {
      "cell_type": "code",
      "execution_count": null,
      "metadata": {
        "colab": {
          "base_uri": "https://localhost:8080/"
        },
        "id": "Hi_2k2DnJLs6",
        "outputId": "236d8aef-3347-4be4-a41a-9627dcc36d81"
      },
      "outputs": [
        {
          "output_type": "stream",
          "name": "stdout",
          "text": [
            "Chi2(72) = 456.1819130678401, p = 3.410746206671462e-57\n"
          ]
        }
      ],
      "source": [
        "exclude = [0,1,2]\n",
        "degrees_of_freedom = 72\n",
        "lambda_LR = 2*sum(data2AlphaAdd[~data2AlphaAdd.index.isin(exclude)].LL - data1AlphaAdd[~data1AlphaAdd.index.isin(exclude)].LL)\n",
        "p_value = chi2.sf(lambda_LR, degrees_of_freedom)\n",
        "print('Chi2(' + str(degrees_of_freedom) + ') = ' + str(lambda_LR) + ', p = ' + str(p_value))"
      ]
    },
    {
      "cell_type": "markdown",
      "metadata": {
        "id": "PEOkCXaKS6mM"
      },
      "source": [
        "And the BIC comparison becomes:"
      ]
    },
    {
      "cell_type": "code",
      "execution_count": null,
      "metadata": {
        "colab": {
          "base_uri": "https://localhost:8080/"
        },
        "id": "8dLQgNpGI5r6",
        "outputId": "1811411d-9d40-4f46-ab89-6e4231e18c39"
      },
      "outputs": [
        {
          "output_type": "stream",
          "name": "stdout",
          "text": [
            "BIC assuming additive utility and two learning rates: 9405.018833651991\n",
            "BIC assuming multiplicative utility and two learning rates: 10168.309015862378\n"
          ]
        }
      ],
      "source": [
        "print('BIC assuming additive utility and two learning rates: ' + str(sum(data2AlphaAdd[~data2AlphaAdd.index.isin(exclude)].BIC)))\n",
        "print('BIC assuming multiplicative utility and two learning rates: ' + str(sum(data2AlphaMul[~data2AlphaMul.index.isin(exclude)].BIC)))"
      ]
    },
    {
      "cell_type": "markdown",
      "metadata": {
        "id": "qfjte_x7I5Sc"
      },
      "source": [
        "Adapt all statistical tests and model comparisons throughout this notebook to exclude the participants you would like to exclude, and replot the figures. Do any of your conclusions change now that you have excluded participants?"
      ]
    },
    {
      "cell_type": "markdown",
      "metadata": {
        "id": "FOy6dajkTb3N"
      },
      "source": [
        "→ Type your answer here"
      ]
    },
    {
      "cell_type": "markdown",
      "metadata": {
        "id": "aEzs2l0JF3YX"
      },
      "source": [
        "Alternatively, after examining individual participants, you might conclude that they are making sensible choices that are just not well described by any of the models we have fitted to the data. If you would like, you can now adapt the functions we used to fit the participant data to include variants of the models that might describe some participants even better. For example, here are some models that you could sensibly implement and test:\n",
        " - does having separate inverse temperatures for the stable and the volatile sessions describe some participants better?\n",
        " - should the initial value (i.e., the starting probability of the RL model) be fitted as a free parameter?\n",
        " - are there other utility functions you think participants might be using?"
      ]
    }
  ],
  "metadata": {
    "colab": {
      "provenance": []
    },
    "kernelspec": {
      "display_name": "Python 3",
      "name": "python3"
    },
    "language_info": {
      "name": "python"
    }
  },
  "nbformat": 4,
  "nbformat_minor": 0
}